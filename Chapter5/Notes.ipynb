{
 "cells": [
  {
   "cell_type": "markdown",
   "metadata": {},
   "source": [
    "# Standard error"
   ]
  },
  {
   "cell_type": "markdown",
   "metadata": {},
   "source": [
    "$$ std_{err} = \\frac{\\delta}{\\sqrt{n}}$$"
   ]
  },
  {
   "cell_type": "markdown",
   "metadata": {},
   "source": [
    "with:\n",
    "- $std_{err}$ the standard error\n",
    "- $\\delta$ the population standard deviation\n",
    "- $n$ the size of the sample"
   ]
  },
  {
   "cell_type": "markdown",
   "metadata": {},
   "source": [
    "# Calculus of z"
   ]
  },
  {
   "cell_type": "markdown",
   "metadata": {},
   "source": [
    "$$ z = \\frac{(\\overline{X} - \\mu)}{\\delta / \\sqrt{n}}$$"
   ]
  },
  {
   "cell_type": "markdown",
   "metadata": {},
   "source": [
    "with:\n",
    "- $\\overline{X}$ the sample average\n",
    "- $\\mu$ the population average\n",
    "- $\\delta$ the population standard deviation\n",
    "- $n$ the size a samples"
   ]
  },
  {
   "cell_type": "markdown",
   "metadata": {},
   "source": [
    "# Degree of freedom"
   ]
  },
  {
   "cell_type": "markdown",
   "metadata": {},
   "source": [
    "The degree of freedome $df$ is equal to the sample size minus one:\n",
    "$$df = n-1$$"
   ]
  },
  {
   "cell_type": "markdown",
   "metadata": {},
   "source": [
    "# Calculus of t"
   ]
  },
  {
   "cell_type": "markdown",
   "metadata": {
    "ExecuteTime": {
     "end_time": "2018-10-03T18:55:26.221563Z",
     "start_time": "2018-10-03T18:55:26.218399Z"
    }
   },
   "source": [
    "$$ t = \\frac{(M - \\mu_0)}{\\delta_s / \\sqrt{n}}$$"
   ]
  },
  {
   "cell_type": "markdown",
   "metadata": {},
   "source": [
    "with:\n",
    "- $M$ the sample average\n",
    "- $\\mu_0$ the population average\n",
    "- $\\delta_s$ the sample standard deviation\n",
    "- $n$ the size a samples"
   ]
  },
  {
   "cell_type": "markdown",
   "metadata": {},
   "source": [
    "# Critical Interval"
   ]
  },
  {
   "cell_type": "markdown",
   "metadata": {},
   "source": [
    "$$CI = M_d \\pm t_{critical} (\\frac{S_D}{\\sqrt{n}})$$"
   ]
  },
  {
   "cell_type": "markdown",
   "metadata": {},
   "source": [
    "With:\n",
    "\n",
    "- $CI$ the Critical Interval\n",
    "- $M_D$ the sample mean\n",
    "- $t_{critical}$ the t parameter\n",
    "- $S_D$ the sample standard deviation\n",
    "- $n$ the sample size"
   ]
  },
  {
   "cell_type": "markdown",
   "metadata": {},
   "source": [
    "# Cohen's d"
   ]
  },
  {
   "cell_type": "markdown",
   "metadata": {},
   "source": [
    "The Cohend's d is the standardized mean difference that measure the distannce betweeb the mean and the standardized units.\n",
    "\n",
    "$$d=\\frac{\\overline{X}-\\mu_0}{S}$$\n",
    "\n",
    "With:\n",
    "- $\\overline{X}$ the sample mean\n",
    "- $\\mu_0$ the population mean\n",
    "- $S$ the standard deviation of the sample"
   ]
  },
  {
   "cell_type": "markdown",
   "metadata": {},
   "source": [
    "***"
   ]
  },
  {
   "cell_type": "code",
   "execution_count": 5,
   "metadata": {
    "ExecuteTime": {
     "end_time": "2018-10-03T18:49:58.820092Z",
     "start_time": "2018-10-03T18:49:58.817812Z"
    }
   },
   "outputs": [],
   "source": [
    "import math"
   ]
  },
  {
   "cell_type": "code",
   "execution_count": 13,
   "metadata": {
    "ExecuteTime": {
     "end_time": "2018-10-03T18:51:34.203191Z",
     "start_time": "2018-10-03T18:51:34.198029Z"
    }
   },
   "outputs": [],
   "source": [
    "mu = 1830\n",
    "ms = 1700\n",
    "std = 200\n",
    "n = 25"
   ]
  },
  {
   "cell_type": "code",
   "execution_count": 14,
   "metadata": {
    "ExecuteTime": {
     "end_time": "2018-10-03T18:51:34.668348Z",
     "start_time": "2018-10-03T18:51:34.665505Z"
    }
   },
   "outputs": [],
   "source": [
    "z = (ms - mu)/(std/math.sqrt(n))"
   ]
  },
  {
   "cell_type": "code",
   "execution_count": 15,
   "metadata": {
    "ExecuteTime": {
     "end_time": "2018-10-03T18:51:35.165205Z",
     "start_time": "2018-10-03T18:51:35.161430Z"
    }
   },
   "outputs": [
    {
     "data": {
      "text/plain": [
       "-3.25"
      ]
     },
     "execution_count": 15,
     "metadata": {},
     "output_type": "execute_result"
    }
   ],
   "source": [
    "z"
   ]
  },
  {
   "cell_type": "code",
   "execution_count": 17,
   "metadata": {
    "ExecuteTime": {
     "end_time": "2018-10-03T19:05:10.393202Z",
     "start_time": "2018-10-03T19:05:10.390524Z"
    }
   },
   "outputs": [],
   "source": [
    "d = (ms - mu)/std"
   ]
  },
  {
   "cell_type": "code",
   "execution_count": 18,
   "metadata": {
    "ExecuteTime": {
     "end_time": "2018-10-03T19:05:16.136413Z",
     "start_time": "2018-10-03T19:05:16.133234Z"
    }
   },
   "outputs": [
    {
     "data": {
      "text/plain": [
       "-0.65"
      ]
     },
     "execution_count": 18,
     "metadata": {},
     "output_type": "execute_result"
    }
   ],
   "source": [
    "d"
   ]
  },
  {
   "cell_type": "code",
   "execution_count": 35,
   "metadata": {
    "ExecuteTime": {
     "end_time": "2018-09-26T15:01:32.062717Z",
     "start_time": "2018-09-26T15:01:32.059789Z"
    }
   },
   "outputs": [
    {
     "data": {
      "text/plain": [
       "0.007299999999999973"
      ]
     },
     "execution_count": 35,
     "metadata": {},
     "output_type": "execute_result"
    }
   ],
   "source": [
    "1-0.9927"
   ]
  },
  {
   "cell_type": "code",
   "execution_count": null,
   "metadata": {
    "ExecuteTime": {
     "start_time": "2018-09-26T19:03:24.431Z"
    }
   },
   "outputs": [],
   "source": [
    "0.36/math.sqrt(16)"
   ]
  },
  {
   "cell_type": "code",
   "execution_count": 27,
   "metadata": {
    "ExecuteTime": {
     "end_time": "2018-10-03T19:54:01.236862Z",
     "start_time": "2018-10-03T19:54:01.233070Z"
    }
   },
   "outputs": [
    {
     "data": {
      "text/plain": [
       "1.523232"
      ]
     },
     "execution_count": 27,
     "metadata": {},
     "output_type": "execute_result"
    }
   ],
   "source": [
    "2.064 * (3.69/math.sqrt(25))"
   ]
  },
  {
   "cell_type": "code",
   "execution_count": 28,
   "metadata": {
    "ExecuteTime": {
     "end_time": "2018-10-03T19:54:01.580192Z",
     "start_time": "2018-10-03T19:54:01.577197Z"
    }
   },
   "outputs": [
    {
     "data": {
      "text/plain": [
       "4.243232"
      ]
     },
     "execution_count": 28,
     "metadata": {},
     "output_type": "execute_result"
    }
   ],
   "source": [
    "2.72+_"
   ]
  },
  {
   "cell_type": "code",
   "execution_count": 24,
   "metadata": {
    "ExecuteTime": {
     "end_time": "2018-10-03T19:31:03.692998Z",
     "start_time": "2018-10-03T19:31:03.687388Z"
    }
   },
   "outputs": [
    {
     "data": {
      "text/plain": [
       "-2.7199999999999998"
      ]
     },
     "execution_count": 24,
     "metadata": {},
     "output_type": "execute_result"
    }
   ],
   "source": [
    "5.08-7.8"
   ]
  },
  {
   "cell_type": "code",
   "execution_count": null,
   "metadata": {},
   "outputs": [],
   "source": []
  }
 ],
 "metadata": {
  "kernelspec": {
   "display_name": "Python 3",
   "language": "python",
   "name": "python3"
  },
  "language_info": {
   "codemirror_mode": {
    "name": "ipython",
    "version": 3
   },
   "file_extension": ".py",
   "mimetype": "text/x-python",
   "name": "python",
   "nbconvert_exporter": "python",
   "pygments_lexer": "ipython3",
   "version": "3.6.6"
  },
  "toc": {
   "nav_menu": {},
   "number_sections": true,
   "sideBar": true,
   "skip_h1_title": false,
   "title_cell": "Table of Contents",
   "title_sidebar": "Contents",
   "toc_cell": false,
   "toc_position": {},
   "toc_section_display": true,
   "toc_window_display": false
  },
  "varInspector": {
   "cols": {
    "lenName": 16,
    "lenType": 16,
    "lenVar": 40
   },
   "kernels_config": {
    "python": {
     "delete_cmd_postfix": "",
     "delete_cmd_prefix": "del ",
     "library": "var_list.py",
     "varRefreshCmd": "print(var_dic_list())"
    },
    "r": {
     "delete_cmd_postfix": ") ",
     "delete_cmd_prefix": "rm(",
     "library": "var_list.r",
     "varRefreshCmd": "cat(var_dic_list()) "
    }
   },
   "types_to_exclude": [
    "module",
    "function",
    "builtin_function_or_method",
    "instance",
    "_Feature"
   ],
   "window_display": false
  }
 },
 "nbformat": 4,
 "nbformat_minor": 2
}
