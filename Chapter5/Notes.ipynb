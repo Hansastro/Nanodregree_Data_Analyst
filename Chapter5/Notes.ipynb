{
 "cells": [
  {
   "cell_type": "markdown",
   "metadata": {},
   "source": [
    "# Standard error"
   ]
  },
  {
   "cell_type": "markdown",
   "metadata": {},
   "source": [
    "$$ std_{err} = \\frac{\\delta}{\\sqrt{n}}$$"
   ]
  },
  {
   "cell_type": "markdown",
   "metadata": {},
   "source": [
    "with:\n",
    "- $std_{err}$ the standard error\n",
    "- $\\delta$ the population standard deviation\n",
    "- $n$ the size of the sample"
   ]
  },
  {
   "cell_type": "markdown",
   "metadata": {},
   "source": [
    "# Calculus of z"
   ]
  },
  {
   "cell_type": "markdown",
   "metadata": {},
   "source": [
    "$$ z = \\frac{(\\overline{X} - \\mu)}{\\delta / \\sqrt{n}}$$"
   ]
  },
  {
   "cell_type": "markdown",
   "metadata": {},
   "source": [
    "with:\n",
    "- $\\overline{X}$ the sample average\n",
    "- $\\mu$ the population average\n",
    "- $\\delta$ the population standard deviation\n",
    "- $n$ the size a samples"
   ]
  },
  {
   "cell_type": "markdown",
   "metadata": {},
   "source": [
    "# Degree of freedom"
   ]
  },
  {
   "cell_type": "markdown",
   "metadata": {},
   "source": [
    "The degree of freedome $df$ is equal to the sample size minus one:\n",
    "$$df = n-1$$"
   ]
  },
  {
   "cell_type": "markdown",
   "metadata": {},
   "source": [
    "# Calculus of t"
   ]
  },
  {
   "cell_type": "markdown",
   "metadata": {
    "ExecuteTime": {
     "end_time": "2018-10-03T18:55:26.221563Z",
     "start_time": "2018-10-03T18:55:26.218399Z"
    }
   },
   "source": [
    "$$ t = \\frac{(M - \\mu_0)}{\\delta_s / \\sqrt{n}}$$"
   ]
  },
  {
   "cell_type": "markdown",
   "metadata": {},
   "source": [
    "with:\n",
    "- $M$ the sample average\n",
    "- $\\mu_0$ the population average\n",
    "- $\\delta_s$ the sample standard deviation\n",
    "- $n$ the size a samples"
   ]
  },
  {
   "cell_type": "markdown",
   "metadata": {},
   "source": [
    "# Critical Interval"
   ]
  },
  {
   "cell_type": "markdown",
   "metadata": {},
   "source": [
    "$$CI = M_d \\pm t_{critical} (\\frac{S_D}{\\sqrt{n}})$$"
   ]
  },
  {
   "cell_type": "markdown",
   "metadata": {},
   "source": [
    "With:\n",
    "\n",
    "- $CI$ the Critical Interval\n",
    "- $M_D$ the sample mean\n",
    "- $t_{critical}$ the t parameter\n",
    "- $S_D$ the sample standard deviation\n",
    "- $n$ the sample size"
   ]
  },
  {
   "cell_type": "markdown",
   "metadata": {},
   "source": [
    "# Cohen's d"
   ]
  },
  {
   "cell_type": "markdown",
   "metadata": {},
   "source": [
    "The Cohend's d is the standardized mean difference that measure the distannce betweeb the mean and the standardized units.\n",
    "\n",
    "$$d=\\frac{\\overline{X}-\\mu_0}{S}$$\n",
    "\n",
    "With:\n",
    "- $\\overline{X}$ the sample mean\n",
    "- $\\mu_0$ the population mean\n",
    "- $S$ the standard deviation of the sample"
   ]
  },
  {
   "cell_type": "markdown",
   "metadata": {},
   "source": [
    "***"
   ]
  },
  {
   "cell_type": "code",
   "execution_count": 3,
   "metadata": {
    "ExecuteTime": {
     "end_time": "2018-10-08T18:09:20.785435Z",
     "start_time": "2018-10-08T18:09:20.779548Z"
    }
   },
   "outputs": [],
   "source": [
    "import math"
   ]
  },
  {
   "cell_type": "code",
   "execution_count": 1,
   "metadata": {
    "ExecuteTime": {
     "end_time": "2018-10-08T18:08:10.600758Z",
     "start_time": "2018-10-08T18:08:10.597918Z"
    }
   },
   "outputs": [],
   "source": [
    "t_crit = 1.646"
   ]
  },
  {
   "cell_type": "code",
   "execution_count": 5,
   "metadata": {
    "ExecuteTime": {
     "end_time": "2018-10-08T18:10:15.433878Z",
     "start_time": "2018-10-08T18:10:15.431104Z"
    }
   },
   "outputs": [],
   "source": [
    "Xd = 9"
   ]
  },
  {
   "cell_type": "code",
   "execution_count": 6,
   "metadata": {
    "ExecuteTime": {
     "end_time": "2018-10-08T18:10:15.682403Z",
     "start_time": "2018-10-08T18:10:15.678342Z"
    }
   },
   "outputs": [],
   "source": [
    "Sd = math.sqrt(2.7**2 + 1.2**2)"
   ]
  },
  {
   "cell_type": "code",
   "execution_count": 7,
   "metadata": {
    "ExecuteTime": {
     "end_time": "2018-10-08T18:11:08.225851Z",
     "start_time": "2018-10-08T18:11:08.222210Z"
    }
   },
   "outputs": [],
   "source": [
    "t = (Xd)/(Sd/math.sqrt(1000))"
   ]
  },
  {
   "cell_type": "code",
   "execution_count": 8,
   "metadata": {
    "ExecuteTime": {
     "end_time": "2018-10-08T18:11:10.315858Z",
     "start_time": "2018-10-08T18:11:10.309593Z"
    }
   },
   "outputs": [
    {
     "data": {
      "text/plain": [
       "96.32419486019033"
      ]
     },
     "execution_count": 8,
     "metadata": {},
     "output_type": "execute_result"
    }
   ],
   "source": [
    "t"
   ]
  },
  {
   "cell_type": "code",
   "execution_count": null,
   "metadata": {},
   "outputs": [],
   "source": []
  }
 ],
 "metadata": {
  "kernelspec": {
   "display_name": "Python 3",
   "language": "python",
   "name": "python3"
  },
  "language_info": {
   "codemirror_mode": {
    "name": "ipython",
    "version": 3
   },
   "file_extension": ".py",
   "mimetype": "text/x-python",
   "name": "python",
   "nbconvert_exporter": "python",
   "pygments_lexer": "ipython3",
   "version": "3.6.6"
  },
  "toc": {
   "nav_menu": {},
   "number_sections": true,
   "sideBar": true,
   "skip_h1_title": false,
   "title_cell": "Table of Contents",
   "title_sidebar": "Contents",
   "toc_cell": false,
   "toc_position": {},
   "toc_section_display": true,
   "toc_window_display": false
  },
  "varInspector": {
   "cols": {
    "lenName": 16,
    "lenType": 16,
    "lenVar": 40
   },
   "kernels_config": {
    "python": {
     "delete_cmd_postfix": "",
     "delete_cmd_prefix": "del ",
     "library": "var_list.py",
     "varRefreshCmd": "print(var_dic_list())"
    },
    "r": {
     "delete_cmd_postfix": ") ",
     "delete_cmd_prefix": "rm(",
     "library": "var_list.r",
     "varRefreshCmd": "cat(var_dic_list()) "
    }
   },
   "types_to_exclude": [
    "module",
    "function",
    "builtin_function_or_method",
    "instance",
    "_Feature"
   ],
   "window_display": false
  }
 },
 "nbformat": 4,
 "nbformat_minor": 2
}
