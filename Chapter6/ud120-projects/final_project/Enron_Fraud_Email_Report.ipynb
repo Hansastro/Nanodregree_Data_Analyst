{
 "cells": [
  {
   "cell_type": "markdown",
   "metadata": {},
   "source": [
    "# Identify Fraud from Eron Email"
   ]
  },
  {
   "cell_type": "markdown",
   "metadata": {},
   "source": [
    "# Workflow\n",
    "\n",
    "- Get the data from the pickle file\n",
    "- Explore the data\n",
    "- Cleanup the data (process the 'NaN' and remove the TOTAL entry)\n",
    "- Check for ouliers\n",
    "- Remove the outliers\n",
    "- Add meta-features\n",
    "- Select the features (SelectKBest, SelectPercentile or lasso of sklearn)\n",
    "- Run a classifer\n",
    "- Check the precision and recall \n",
    "- Tune the classifier parameter and iterate to step 6 with another classifer\n",
    "- Iterate to step 5 to try with another set of features"
   ]
  },
  {
   "cell_type": "code",
   "execution_count": 1,
   "metadata": {
    "collapsed": false
   },
   "outputs": [],
   "source": [
    "import sys\n",
    "import pickle\n",
    "import matplotlib.pyplot as plt\n",
    "from matplotlib.pyplot import figure\n",
    "import numpy as np\n",
    "from sklearn.feature_selection import SelectKBest, f_classif\n",
    "from sklearn.naive_bayes import GaussianNB\n",
    "from sklearn.metrics import accuracy_score\n",
    "from sklearn.model_selection import train_test_split\n",
    "from sklearn.preprocessing import MinMaxScaler\n",
    "from sklearn.svm import SVC\n",
    "from sklearn.model_selection import GridSearchCV\n",
    "import pandas as pd\n",
    "sys.path.append(\"../tools/\")\n",
    "\n",
    "from feature_format import featureFormat, targetFeatureSplit\n",
    "\n",
    "%matplotlib inline"
   ]
  },
  {
   "cell_type": "code",
   "execution_count": 2,
   "metadata": {
    "collapsed": true
   },
   "outputs": [],
   "source": [
    "features_list = ['poi','salary', 'bonus']"
   ]
  },
  {
   "cell_type": "markdown",
   "metadata": {},
   "source": [
    "# Get the data from the pickle file"
   ]
  },
  {
   "cell_type": "markdown",
   "metadata": {},
   "source": [
    "This step is quite easy. We have just to read the dataset from the pkl file. We will obtain a dictionary of the data. "
   ]
  },
  {
   "cell_type": "code",
   "execution_count": 3,
   "metadata": {
    "collapsed": false
   },
   "outputs": [],
   "source": [
    "with open(\"final_project_dataset.pkl\", \"rb\") as data_file:\n",
    "    data_dict = pickle.load(data_file)\n",
    "    my_dataset = data_dict"
   ]
  },
  {
   "cell_type": "markdown",
   "metadata": {},
   "source": [
    "# Data Exploration"
   ]
  },
  {
   "cell_type": "code",
   "execution_count": 4,
   "metadata": {
    "collapsed": false
   },
   "outputs": [
    {
     "name": "stdout",
     "output_type": "stream",
     "text": [
      "There is 146 entries in the dataset\n"
     ]
    }
   ],
   "source": [
    "print(\"There is %i entries in the dataset\"%(len(my_dataset.keys())))"
   ]
  },
  {
   "cell_type": "code",
   "execution_count": 5,
   "metadata": {
    "collapsed": false
   },
   "outputs": [
    {
     "name": "stdout",
     "output_type": "stream",
     "text": [
      "for each entry, there is 21 features\n"
     ]
    }
   ],
   "source": [
    "print(\"for each entry, there is %i features\"%(len(my_dataset['METTS MARK'].keys())))"
   ]
  },
  {
   "cell_type": "code",
   "execution_count": 6,
   "metadata": {
    "collapsed": false
   },
   "outputs": [],
   "source": [
    "listOfFeatures = list(my_dataset['METTS MARK'].keys())"
   ]
  },
  {
   "cell_type": "code",
   "execution_count": 7,
   "metadata": {
    "collapsed": false
   },
   "outputs": [],
   "source": [
    "NaN_Cpt = [0]*len(listOfFeatures)\n",
    "nonNaN_Cpt = [0]*len(listOfFeatures)\n",
    "totalCpt = [0]*len(listOfFeatures)\n",
    "\n",
    "for p in my_dataset:\n",
    "    for i in range(len(listOfFeatures)):\n",
    "        if my_dataset[p][listOfFeatures[i]] == 'NaN':\n",
    "            NaN_Cpt[i] += 1\n",
    "        else:\n",
    "            nonNaN_Cpt[i] += 1\n",
    "        totalCpt[i] += 1"
   ]
  },
  {
   "cell_type": "code",
   "execution_count": 8,
   "metadata": {
    "collapsed": false
   },
   "outputs": [],
   "source": [
    "df = pd.DataFrame([NaN_Cpt, nonNaN_Cpt, totalCpt],index=['Amount of NaN', 'Amount of non NaN', 'Total'],columns=listOfFeatures)"
   ]
  },
  {
   "cell_type": "code",
   "execution_count": 9,
   "metadata": {
    "collapsed": false
   },
   "outputs": [
    {
     "data": {
      "text/plain": [
       "Amount of NaN        1358\n",
       "Amount of non NaN    1708\n",
       "Total                3066\n",
       "dtype: int64"
      ]
     },
     "execution_count": 9,
     "metadata": {},
     "output_type": "execute_result"
    }
   ],
   "source": [
    "df.sum(axis=1)"
   ]
  },
  {
   "cell_type": "code",
   "execution_count": 10,
   "metadata": {
    "collapsed": false
   },
   "outputs": [
    {
     "data": {
      "text/plain": [
       "0.4429223744292237"
      ]
     },
     "execution_count": 10,
     "metadata": {},
     "output_type": "execute_result"
    }
   ],
   "source": [
    "1358/3066.0"
   ]
  },
  {
   "cell_type": "markdown",
   "metadata": {},
   "source": [
    "44% of all the value are 'NaN'"
   ]
  },
  {
   "cell_type": "markdown",
   "metadata": {},
   "source": [
    "Let see per attributes."
   ]
  },
  {
   "cell_type": "code",
   "execution_count": 11,
   "metadata": {
    "collapsed": false
   },
   "outputs": [
    {
     "data": {
      "image/png": "[encoded data removed]",
      "text/plain": [
       "<matplotlib.figure.Figure at 0xa293ab0>"
      ]
     },
     "metadata": {},
     "output_type": "display_data"
    }
   ],
   "source": [
    "figure(num=None, figsize=(10, 6), dpi=80, facecolor='w', edgecolor='k')\n",
    "ind = range(len(listOfFeatures))\n",
    "width = 0.7\n",
    "\n",
    "p1 = plt.bar(ind, nonNaN_Cpt, width)\n",
    "p2 = plt.bar(ind, NaN_Cpt, width, bottom=nonNaN_Cpt)\n",
    "plt.title('NaN and Non NaN value in the dataset')\n",
    "plt.xticks(range(len(listOfFeatures)), listOfFeatures, rotation=90)\n",
    "plt.legend((p1[0], p2[0]), ('Non NaN', 'NaN'))\n",
    "plt.savefig('NaN_Value.png', bbox_inches='tight')\n",
    "plt.show()\n"
   ]
  },
  {
   "cell_type": "markdown",
   "metadata": {},
   "source": [
    "There is a lot of unknown values. We can notice that the attributes 'loan_advance', 'restricted_stock_value' and 'director_fees contains very few information.\n",
    "\n",
    "There is no NaN Value for the attribute POI.  "
   ]
  },
  {
   "cell_type": "markdown",
   "metadata": {},
   "source": [
    "We want to identify the POIs. We saw that there is no NaN value for them. How many do we have?"
   ]
  },
  {
   "cell_type": "code",
   "execution_count": 12,
   "metadata": {
    "collapsed": false
   },
   "outputs": [
    {
     "name": "stdout",
     "output_type": "stream",
     "text": [
      "POI: 18\n",
      "Non POI: 128\n",
      "Non valid value: 0\n"
     ]
    }
   ],
   "source": [
    "POI = 0\n",
    "non_POI = 0\n",
    "strange_POIValue = 0\n",
    "\n",
    "for p in my_dataset:\n",
    "    if my_dataset[p]['poi'] == 0:\n",
    "        non_POI += 1\n",
    "    elif my_dataset[p]['poi'] == 1:\n",
    "        POI += 1\n",
    "    else:\n",
    "        strangePOIValue += 1\n",
    "\n",
    "print(\"POI: %i\\nNon POI: %i\\nNon valid value: %i\"%(POI, non_POI, strange_POIValue))"
   ]
  },
  {
   "cell_type": "markdown",
   "metadata": {},
   "source": [
    "There is 18 Person of interest in the dataset and no non valid value was found."
   ]
  },
  {
   "cell_type": "markdown",
   "metadata": {},
   "source": [
    "# Cleanup the data"
   ]
  },
  {
   "cell_type": "markdown",
   "metadata": {},
   "source": [
    "In order to select the features later, we have to extract all fields of the dataset."
   ]
  },
  {
   "cell_type": "code",
   "execution_count": 13,
   "metadata": {
    "collapsed": false
   },
   "outputs": [],
   "source": [
    "all_features_list = list(my_dataset['BECK SALLY W'].keys())"
   ]
  },
  {
   "cell_type": "markdown",
   "metadata": {},
   "source": [
    "The 'email_address' field should be remove. It is unique for each people. This field add no information to identify the POIs. And should be removed."
   ]
  },
  {
   "cell_type": "markdown",
   "metadata": {},
   "source": [
    "We have also to remove the 'TOTAL' entry. Which will generate outliers and does not add any discrimination of the POIs."
   ]
  },
  {
   "cell_type": "code",
   "execution_count": 14,
   "metadata": {
    "collapsed": false
   },
   "outputs": [],
   "source": [
    "del my_dataset['TOTAL']\n",
    "all_features_list.remove('email_address')"
   ]
  },
  {
   "cell_type": "markdown",
   "metadata": {},
   "source": [
    "Now we can call the featureFormat function which will replace the 'NaN' value by 0 and extract data in a table.\n",
    "\n",
    "We have also to place the 'poi' field at the first entry of the list"
   ]
  },
  {
   "cell_type": "code",
   "execution_count": 15,
   "metadata": {
    "collapsed": false
   },
   "outputs": [],
   "source": [
    "all_features_list.remove('poi')\n",
    "all_features_list.insert(0, 'poi')\n",
    "data = featureFormat(my_dataset, all_features_list, sort_keys = True)\n",
    "labels, features = targetFeatureSplit(data)"
   ]
  },
  {
   "cell_type": "markdown",
   "metadata": {},
   "source": [
    "# Check for Outliers"
   ]
  },
  {
   "cell_type": "markdown",
   "metadata": {},
   "source": [
    "Let plot each features to have a over all view of how the data look like."
   ]
  },
  {
   "cell_type": "code",
   "execution_count": 16,
   "metadata": {
    "collapsed": false
   },
   "outputs": [
    {
     "data": {
      "image/png": "[encoded data removed]",
      "text/plain": [
       "<matplotlib.figure.Figure at 0xb3a2fd0>"
      ]
     },
     "metadata": {},
     "output_type": "display_data"
    }
   ],
   "source": [
    "figure(num=None, figsize=(10, 8), dpi=80, facecolor='w', edgecolor='k')\n",
    "x_list = []\n",
    "y_list = []\n",
    "\n",
    "for f in range(len(all_features_list) - 1):\n",
    "    y = np.array(features)[..., f]\n",
    "    x = [f]*len(features)\n",
    "    x_list.append(x)\n",
    "    y_list.append(y)\n",
    "    \n",
    "for i in range(len(y_list)):\n",
    "    plt.scatter(x_list[i],y_list[i])\n",
    "plt.xticks(range(len(all_features_list) - 1), all_features_list[1:], rotation=90)\n",
    "plt.show()"
   ]
  },
  {
   "cell_type": "markdown",
   "metadata": {},
   "source": [
    "We see three points which are really separate from the rest but the scale of the graph can hide some details. The three points are for the fields total_payement, total_stock_value and loan_advance. A better tool is needed to have a closer look on each fields separatly."
   ]
  },
  {
   "cell_type": "markdown",
   "metadata": {},
   "source": [
    "## Processing the z-score of the samples"
   ]
  },
  {
   "cell_type": "markdown",
   "metadata": {},
   "source": [
    "With the z-score we will be able to see the samples which are really far from the normality. The z-score will also do a sort of normalization which will help to see all fields on one graph."
   ]
  },
  {
   "cell_type": "code",
   "execution_count": 17,
   "metadata": {
    "collapsed": false
   },
   "outputs": [
    {
     "data": {
      "image/png": "[encoded data removed]",
      "text/plain": [
       "<matplotlib.figure.Figure at 0xb4f7df0>"
      ]
     },
     "metadata": {},
     "output_type": "display_data"
    }
   ],
   "source": [
    "from scipy import stats\n",
    "\n",
    "figure(num=None, figsize=(10, 8), dpi=80, facecolor='w', edgecolor='k')\n",
    "x_list = []\n",
    "y_list = []\n",
    "\n",
    "for f in range(len(all_features_list) - 1):\n",
    "    y = stats.zscore(np.array(features)[..., f])\n",
    "    x = [f]*len(features)\n",
    "    x_list.append(x)\n",
    "    y_list.append(y)\n",
    "    \n",
    "zScore_list = y_list\n",
    "    \n",
    "for i in range(len(y_list)):\n",
    "    plt.scatter(x_list[i],y_list[i])\n",
    "plt.xticks(range(len(all_features_list) - 1), all_features_list[1:], rotation=90)\n",
    "plt.show()"
   ]
  },
  {
   "cell_type": "markdown",
   "metadata": {},
   "source": [
    "We can notice interessing things. First the values are really widly spread. This is probably due to the missing data are replaced by zero. Secondly we can confirm that the total_payment and the loan advance maximum seem strange but the total_stock_value seems to be like other fields. "
   ]
  },
  {
   "cell_type": "markdown",
   "metadata": {},
   "source": [
    "## Analysis of the outliers"
   ]
  },
  {
   "cell_type": "markdown",
   "metadata": {},
   "source": [
    "We will check all value with a z-Score greater than 4 and smaller than -2."
   ]
  },
  {
   "cell_type": "code",
   "execution_count": 18,
   "metadata": {
    "collapsed": false
   },
   "outputs": [
    {
     "name": "stdout",
     "output_type": "stream",
     "text": [
      "salary to be check.\tValue: 1060932\n",
      "salary to be check.\tValue: 1072321\n",
      "salary to be check.\tValue: 1111258\n",
      "to_messages to be check.\tValue: 12754\n",
      "to_messages to be check.\tValue: 15149\n",
      "deferral_payments to be check.\tValue: 6426990\n",
      "total_payments to be check.\tValue: 103559793\n",
      "loan_advances to be check.\tValue: 81525000\n",
      "bonus to be check.\tValue: 8000000\n",
      "bonus to be check.\tValue: 7000000\n",
      "bonus to be check.\tValue: 5600000\n",
      "restricted_stock_deferred to be check.\tValue: 15456290\n",
      "deferred_income to be check.\tValue: -3081055\n",
      "deferred_income to be check.\tValue: -2334434\n",
      "deferred_income to be check.\tValue: -3367011\n",
      "deferred_income to be check.\tValue: -3117011\n",
      "deferred_income to be check.\tValue: -3504386\n",
      "total_stock_value to be check.\tValue: 30766064\n",
      "total_stock_value to be check.\tValue: 49110078\n",
      "expenses to be check.\tValue: 228763\n",
      "expenses to be check.\tValue: 228656\n",
      "from_poi_to_this_person to be check.\tValue: 528\n",
      "exercised_stock_options to be check.\tValue: 30766064\n",
      "exercised_stock_options to be check.\tValue: 34348384\n",
      "from_messages to be check.\tValue: 14368\n",
      "from_messages to be check.\tValue: 6759\n",
      "other to be check.\tValue: 7427621\n",
      "other to be check.\tValue: 10359729\n",
      "from_this_person_to_poi to be check.\tValue: 386\n",
      "from_this_person_to_poi to be check.\tValue: 609\n",
      "from_this_person_to_poi to be check.\tValue: 387\n",
      "from_this_person_to_poi to be check.\tValue: 411\n",
      "long_term_incentive to be check.\tValue: 3600000\n",
      "long_term_incentive to be check.\tValue: 5145434\n",
      "shared_receipt_with_poi to be check.\tValue: 5521\n",
      "restricted_stock to be check.\tValue: 14761694\n",
      "restricted_stock to be check.\tValue: 13847074\n",
      "director_fees to be check.\tValue: 137864\n",
      "-------------------\n",
      "38 outliers found\n"
     ]
    }
   ],
   "source": [
    "max_zScore = 4\n",
    "min_zScore = -2\n",
    "nbOfOutliers = 0\n",
    "for f in range(len(all_features_list) - 1):\n",
    "    outliers = []\n",
    "    for i in range(len(zScore_list[f])):\n",
    "        if (zScore_list[f][i] > max_zScore) or (zScore_list[f][i] < min_zScore):\n",
    "            print(\"%s to be check.\\tValue: %i\"%(all_features_list[f+1], features[i][f]))\n",
    "            nbOfOutliers += 1\n",
    "print(\"-------------------\\n%i outliers found\"%(nbOfOutliers))"
   ]
  },
  {
   "cell_type": "markdown",
   "metadata": {},
   "source": [
    "There is no irealistic value. The values match with the PDF from findLaw. We can ask us if two people really sent more than 12000 emails. Let check who are those people."
   ]
  },
  {
   "cell_type": "code",
   "execution_count": 19,
   "metadata": {
    "collapsed": false
   },
   "outputs": [
    {
     "name": "stdout",
     "output_type": "stream",
     "text": [
      "SHAPIRO RICHARD S: 15149 mails sent\n",
      "KEAN STEVEN J: 12754 mails sent\n"
     ]
    }
   ],
   "source": [
    "for i in my_dataset:\n",
    "    if my_dataset[i]['to_messages'] != 'NaN' and my_dataset[i]['to_messages'] > 12000:\n",
    "        print(\"%s: %s mails sent\"%(i, my_dataset[i]['to_messages']))"
   ]
  },
  {
   "cell_type": "markdown",
   "metadata": {},
   "source": [
    "Those values are high but plausible. We have to keep in mind if we choose the amount of mail as a feature. "
   ]
  },
  {
   "cell_type": "markdown",
   "metadata": {},
   "source": [
    "# Add meta-data"
   ]
  },
  {
   "cell_type": "markdown",
   "metadata": {},
   "source": [
    "In order to improve the results of the classifier, it is possible to add some meta-features. Thoses features are calculated from other value in the dataset.\n",
    "\n",
    "In our case three values can be nice to have:\n",
    "- The total benefit (total_payments + total_stock_value)\n",
    "- The fraction of mails to/from POI"
   ]
  },
  {
   "cell_type": "markdown",
   "metadata": {},
   "source": [
    "## Add the total benefit meta-feature"
   ]
  },
  {
   "cell_type": "markdown",
   "metadata": {},
   "source": [
    "We add a field to calculate the total benefit per people. We just add the total_payments and the total_stock_value together."
   ]
  },
  {
   "cell_type": "code",
   "execution_count": 20,
   "metadata": {
    "collapsed": false
   },
   "outputs": [],
   "source": [
    "for p in my_dataset:\n",
    "    if my_dataset[p]['total_payments'] != 'NaN':\n",
    "        total_payments = my_dataset[p]['total_payments']\n",
    "    else:\n",
    "        total_payments = 0\n",
    "        \n",
    "    if my_dataset[p]['total_stock_value'] != 'NaN':\n",
    "        total_stock_value = my_dataset[p]['total_stock_value']\n",
    "    else:\n",
    "        total_stock_value = 0\n",
    "    \n",
    "    my_dataset[p]['total_benefit'] = total_payments + total_stock_value\n",
    "    \n"
   ]
  },
  {
   "cell_type": "markdown",
   "metadata": {},
   "source": [
    "A new field \"total benefit\" is added in the dataset"
   ]
  },
  {
   "cell_type": "markdown",
   "metadata": {},
   "source": [
    "## Add the fraction of mail to/from POI"
   ]
  },
  {
   "cell_type": "markdown",
   "metadata": {},
   "source": [
    "The number of email is relative. To see the amount of mail exchange to and from a POI, we can add two fields which represent the fraction of the the mail received of sent from or to a POI by the total number of mail received or sent."
   ]
  },
  {
   "cell_type": "code",
   "execution_count": 21,
   "metadata": {
    "collapsed": false
   },
   "outputs": [],
   "source": [
    "def check_value(v):\n",
    "    if v != 'NaN':\n",
    "        return v\n",
    "    else:\n",
    "        return 0\n",
    "\n",
    "for p in my_dataset:\n",
    "    to_message = check_value(my_dataset[p]['to_messages'])\n",
    "    from_message = check_value(my_dataset[p]['from_messages'])\n",
    "    from_poi_to_this_person = check_value(my_dataset[p]['from_poi_to_this_person'])\n",
    "    from_this_person_to_poi = check_value(my_dataset[p]['from_this_person_to_poi'])\n",
    "    \n",
    "    if to_message == 0:\n",
    "        my_dataset[p]['fraction_from_poi'] = 0\n",
    "    else:\n",
    "        my_dataset[p]['fraction_from_poi'] = from_poi_to_this_person / float(to_message)\n",
    "    if from_message == 0:\n",
    "        my_dataset[p]['fraction_to_poi'] = 0\n",
    "    else:    \n",
    "        my_dataset[p]['fraction_to_poi'] = from_this_person_to_poi / float(from_message)\n",
    "    "
   ]
  },
  {
   "cell_type": "markdown",
   "metadata": {},
   "source": [
    "Two new fields \"fraction_from_poi\" and \"fraction_to_poi\" are added in the dataset"
   ]
  },
  {
   "cell_type": "code",
   "execution_count": 22,
   "metadata": {
    "collapsed": false
   },
   "outputs": [
    {
     "data": {
      "text/plain": [
       "['poi',\n",
       " 'salary',\n",
       " 'to_messages',\n",
       " 'deferral_payments',\n",
       " 'total_payments',\n",
       " 'loan_advances',\n",
       " 'bonus',\n",
       " 'restricted_stock_deferred',\n",
       " 'deferred_income',\n",
       " 'total_stock_value',\n",
       " 'expenses',\n",
       " 'from_poi_to_this_person',\n",
       " 'exercised_stock_options',\n",
       " 'from_messages',\n",
       " 'other',\n",
       " 'from_this_person_to_poi',\n",
       " 'long_term_incentive',\n",
       " 'shared_receipt_with_poi',\n",
       " 'restricted_stock',\n",
       " 'director_fees']"
      ]
     },
     "execution_count": 22,
     "metadata": {},
     "output_type": "execute_result"
    }
   ],
   "source": [
    "all_features_list"
   ]
  },
  {
   "cell_type": "markdown",
   "metadata": {},
   "source": [
    "# Select the features"
   ]
  },
  {
   "cell_type": "code",
   "execution_count": 23,
   "metadata": {
    "collapsed": false
   },
   "outputs": [],
   "source": [
    "all_features_list = list(my_dataset['BECK SALLY W'].keys())\n",
    "all_features_list.remove('email_address')\n",
    "all_features_list.remove('poi')\n",
    "all_features_list.insert(0, 'poi')\n",
    "data = featureFormat(my_dataset, all_features_list, sort_keys = True)\n",
    "labels, features = targetFeatureSplit(data)\n"
   ]
  },
  {
   "cell_type": "code",
   "execution_count": 24,
   "metadata": {
    "collapsed": false
   },
   "outputs": [],
   "source": [
    "selector = SelectKBest(f_classif, k=6)\n",
    "features_selected =selector.fit_transform(features, labels)"
   ]
  },
  {
   "cell_type": "code",
   "execution_count": 25,
   "metadata": {
    "collapsed": false
   },
   "outputs": [
    {
     "name": "stdout",
     "output_type": "stream",
     "text": [
      "| Feature | Score |\n",
      "---|---\n",
      "| salary \t| 18.575703 |\n",
      "| bonus \t| 21.060002 |\n",
      "| total_stock_value \t| 24.467654 |\n",
      "| exercised_stock_options \t| 25.097542 |\n",
      "| total_benefit \t| 17.187006 |\n",
      "| fraction_to_poi \t| 16.641707 |\n"
     ]
    }
   ],
   "source": [
    "cpt = 1\n",
    "print(\"| Feature | Score |\\n---|---\")\n",
    "for i in selector.get_support():\n",
    "    if i == True:\n",
    "        print(\"| %s \\t| %f |\"%(all_features_list[cpt], selector.scores_[cpt-1]))\n",
    "    cpt += 1"
   ]
  },
  {
   "cell_type": "code",
   "execution_count": 26,
   "metadata": {
    "collapsed": false
   },
   "outputs": [
    {
     "data": {
      "text/plain": [
       "array([ 18.57570327,   1.69882435,   0.21705893,   8.86672154,\n",
       "         7.2427304 ,  21.06000171,   0.06498431,  11.59554766,\n",
       "        24.46765405,   6.23420114,   5.34494152,  25.09754153,\n",
       "         0.1641645 ,   4.20497086,   2.42650813,  10.07245453,\n",
       "         8.74648553,   9.34670079,   2.10765594,  17.18700608,\n",
       "         3.21076192,  16.64170707])"
      ]
     },
     "execution_count": 26,
     "metadata": {},
     "output_type": "execute_result"
    }
   ],
   "source": [
    "selector.scores_"
   ]
  },
  {
   "cell_type": "markdown",
   "metadata": {},
   "source": [
    "# Run classifiers"
   ]
  },
  {
   "cell_type": "code",
   "execution_count": 61,
   "metadata": {
    "collapsed": true
   },
   "outputs": [],
   "source": [
    "def testClassifier(clf, features_train, labels_train, features_test, labels_test):\n",
    "    clf.fit(features_train, labels_train)\n",
    "    pred = clf.predict(features_test)\n",
    "    accuracy = accuracy_score(labels_test, pred)\n",
    "    \n",
    "    return accuracy"
   ]
  },
  {
   "cell_type": "code",
   "execution_count": null,
   "metadata": {
    "collapsed": true
   },
   "outputs": [],
   "source": [
    "scaler = MinMaxScaler()\n",
    "features_rescaled = scaler.fit_transform(features_selected)"
   ]
  },
  {
   "cell_type": "code",
   "execution_count": null,
   "metadata": {
    "collapsed": true
   },
   "outputs": [],
   "source": [
    "features_train, features_test, labels_train, labels_test = train_test_split(features_rescaled, labels, test_size=0.33, random_state=42)"
   ]
  },
  {
   "cell_type": "markdown",
   "metadata": {},
   "source": [
    "## SVC Classifer"
   ]
  },
  {
   "cell_type": "code",
   "execution_count": 56,
   "metadata": {
    "collapsed": true
   },
   "outputs": [],
   "source": [
    "def svcTunesParams(features, labels):\n",
    "    params = {'C': [0.001, 0.01, 0.1, 1, 10], \\\n",
    "              'gamma' : [0.001, 0.01, 0.1, 1], \\\n",
    "              'kernel': ['linear', 'poly', 'rbf', 'sigmoid'], \\\n",
    "              'degree':[1, 2, 3, 4, 5, 6, 7, 8 ,9 ,10]}\n",
    "    gridSearch = GridSearchCV(SVC(kernel='rbf'), params)\n",
    "    gridSearch.fit(features, labels)\n",
    "    return gridSearch.best_params_"
   ]
  },
  {
   "cell_type": "code",
   "execution_count": 65,
   "metadata": {
    "collapsed": false
   },
   "outputs": [
    {
     "data": {
      "text/plain": [
       "{'C': 0.001, 'degree': 1, 'gamma': 0.001, 'kernel': 'linear'}"
      ]
     },
     "execution_count": 65,
     "metadata": {},
     "output_type": "execute_result"
    }
   ],
   "source": [
    "svcTunesParams(features_train, labels_train)"
   ]
  },
  {
   "cell_type": "code",
   "execution_count": 66,
   "metadata": {
    "collapsed": false
   },
   "outputs": [
    {
     "data": {
      "text/plain": [
       "0.89583333333333337"
      ]
     },
     "execution_count": 66,
     "metadata": {},
     "output_type": "execute_result"
    }
   ],
   "source": [
    "mySVC = SVC(C=0.001, degree=1, gamma=0.001, kernel='linear',)\n",
    "testClassifier(mySVC, features_train, labels_train, features_test, labels_test)"
   ]
  },
  {
   "cell_type": "markdown",
   "metadata": {},
   "source": [
    "# Naive Bayes Classifier"
   ]
  },
  {
   "cell_type": "code",
   "execution_count": 68,
   "metadata": {
    "collapsed": false
   },
   "outputs": [
    {
     "data": {
      "text/plain": [
       "0.91666666666666663"
      ]
     },
     "execution_count": 68,
     "metadata": {},
     "output_type": "execute_result"
    }
   ],
   "source": [
    "features_train, features_test, labels_train, labels_test = train_test_split(features_selected, labels, test_size=0.33, random_state=42)\n",
    "gaussianBayes = GaussianNB()\n",
    "testClassifier(gaussianBayes, features_train, labels_train, features_test, labels_test)"
   ]
  },
  {
   "cell_type": "markdown",
   "metadata": {},
   "source": [
    "# Decision Tree"
   ]
  },
  {
   "cell_type": "markdown",
   "metadata": {},
   "source": [
    "# PCA"
   ]
  },
  {
   "cell_type": "code",
   "execution_count": null,
   "metadata": {
    "collapsed": true
   },
   "outputs": [],
   "source": []
  }
 ],
 "metadata": {
  "kernelspec": {
   "display_name": "Python 3",
   "language": "python",
   "name": "python3"
  },
  "language_info": {
   "codemirror_mode": {
    "name": "ipython",
    "version": 3
   },
   "file_extension": ".py",
   "mimetype": "text/x-python",
   "name": "python",
   "nbconvert_exporter": "python",
   "pygments_lexer": "ipython3",
   "version": "3.6.0"
  }
 },
 "nbformat": 4,
 "nbformat_minor": 2
}
