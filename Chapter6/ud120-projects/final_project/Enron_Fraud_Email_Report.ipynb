{
 "cells": [
  {
   "cell_type": "markdown",
   "metadata": {},
   "source": [
    "# Identify Fraud from Eron Email"
   ]
  },
  {
   "cell_type": "markdown",
   "metadata": {},
   "source": [
    "# Workflow\n",
    "\n",
    "- Get the data from the pickle file\n",
    "- Explore the data\n",
    "- Cleanup the data (process the 'NaN' and remove the TOTAL entry)\n",
    "- Check for ouliers\n",
    "- Remove the outliers\n",
    "- Add meta-features\n",
    "- Select the features (SelectKBest, SelectPercentile or lasso of sklearn)\n",
    "- Run a classifer\n",
    "- Check the precision and recall \n",
    "- Tune the classifier parameter and iterate to step 6 with another classifer\n",
    "- Iterate to step 5 to try with another set of features"
   ]
  },
  {
   "cell_type": "code",
   "execution_count": 1,
   "metadata": {
    "collapsed": false
   },
   "outputs": [],
   "source": [
    "import sys\n",
    "import pickle\n",
    "import matplotlib.pyplot as plt\n",
    "from matplotlib.pyplot import figure\n",
    "import numpy as np\n",
    "import re\n",
    "from sklearn.feature_selection import SelectKBest, f_classif\n",
    "from sklearn.naive_bayes import GaussianNB\n",
    "from sklearn import ensemble\n",
    "import sklearn.metrics\n",
    "#from sklearn.metrics import accuracy_score, precision_score, recall_score, f1_score\n",
    "from sklearn.model_selection import train_test_split\n",
    "from sklearn.model_selection import StratifiedShuffleSplit\n",
    "from sklearn.preprocessing import MinMaxScaler\n",
    "from sklearn.svm import SVC\n",
    "from sklearn import tree\n",
    "from sklearn.neighbors import KNeighborsClassifier\n",
    "from sklearn.model_selection import GridSearchCV, StratifiedShuffleSplit \n",
    "import pandas as pd\n",
    "sys.path.append(\"../tools/\")\n",
    "\n",
    "from feature_format import featureFormat, targetFeatureSplit\n",
    "\n",
    "%matplotlib inline"
   ]
  },
  {
   "cell_type": "code",
   "execution_count": 2,
   "metadata": {
    "collapsed": true
   },
   "outputs": [],
   "source": [
    "def scaleDict(dict_):\n",
    "    '''\n",
    "    Scale a dictionary, replace the NaN value by 0 and remove the email_address column if present\n",
    "    \n",
    "    parameter:\n",
    "    - the dictionary of the dataset\n",
    "    \n",
    "    return:\n",
    "    - the scaled dictionary\n",
    "    '''\n",
    "    # Convert the dictionay in a dataframe\n",
    "    dataset = pd.DataFrame.from_dict(dict_, orient='index')\n",
    "    \n",
    "    # if the column email_address exists remove it (it is just text redondant with the name)\n",
    "    if 'email_address' in dataset.columns:\n",
    "        dataset.drop('email_address', axis=1, inplace=True)\n",
    "    # Replace the NaN value by 0. Becareful in the pickel NaN is a string and not a type.\n",
    "    dataset.replace('NaN', 0, inplace=True)\n",
    "    \n",
    "    # Rescale the data\n",
    "    scaler = MinMaxScaler()\n",
    "    features_rescaled = scaler.fit_transform(dataset)\n",
    "    \n",
    "    # recreate the dictionary and return it\n",
    "    return pd.DataFrame(features_rescaled, index=dataset.index, columns=dataset.columns).to_dict(orient='index')"
   ]
  },
  {
   "cell_type": "code",
   "execution_count": 3,
   "metadata": {
    "collapsed": true
   },
   "outputs": [],
   "source": [
    "features_list = ['poi','salary', 'bonus']"
   ]
  },
  {
   "cell_type": "markdown",
   "metadata": {},
   "source": [
    "# Get the data from the pickle file"
   ]
  },
  {
   "cell_type": "markdown",
   "metadata": {},
   "source": [
    "This step is quite easy. We have just to read the dataset from the pkl file. We will obtain a dictionary of the data. "
   ]
  },
  {
   "cell_type": "code",
   "execution_count": 4,
   "metadata": {
    "collapsed": false
   },
   "outputs": [],
   "source": [
    "with open(\"final_project_dataset.pkl\", \"rb\") as data_file:\n",
    "    data_dict = pickle.load(data_file)\n",
    "    my_dataset = data_dict"
   ]
  },
  {
   "cell_type": "markdown",
   "metadata": {},
   "source": [
    "# Data Exploration"
   ]
  },
  {
   "cell_type": "code",
   "execution_count": 5,
   "metadata": {
    "collapsed": false
   },
   "outputs": [
    {
     "name": "stdout",
     "output_type": "stream",
     "text": [
      "There is 146 entries in the dataset\n"
     ]
    }
   ],
   "source": [
    "print(\"There is %i entries in the dataset\"%(len(my_dataset.keys())))"
   ]
  },
  {
   "cell_type": "code",
   "execution_count": 6,
   "metadata": {
    "collapsed": false
   },
   "outputs": [
    {
     "name": "stdout",
     "output_type": "stream",
     "text": [
      "for each entry, there is 21 features\n"
     ]
    }
   ],
   "source": [
    "print(\"for each entry, there is %i features\"%(len(my_dataset['METTS MARK'].keys())))"
   ]
  },
  {
   "cell_type": "code",
   "execution_count": 7,
   "metadata": {
    "collapsed": false
   },
   "outputs": [],
   "source": [
    "listOfFeatures = list(my_dataset['METTS MARK'].keys())"
   ]
  },
  {
   "cell_type": "code",
   "execution_count": 8,
   "metadata": {
    "collapsed": false
   },
   "outputs": [],
   "source": [
    "NaN_Cpt = [0]*len(listOfFeatures)\n",
    "nonNaN_Cpt = [0]*len(listOfFeatures)\n",
    "totalCpt = [0]*len(listOfFeatures)\n",
    "\n",
    "for p in my_dataset:\n",
    "    for i in range(len(listOfFeatures)):\n",
    "        if my_dataset[p][listOfFeatures[i]] == 'NaN':\n",
    "            NaN_Cpt[i] += 1\n",
    "        else:\n",
    "            nonNaN_Cpt[i] += 1\n",
    "        totalCpt[i] += 1"
   ]
  },
  {
   "cell_type": "code",
   "execution_count": 9,
   "metadata": {
    "collapsed": false
   },
   "outputs": [],
   "source": [
    "df = pd.DataFrame([NaN_Cpt, nonNaN_Cpt, totalCpt],index=['Amount of NaN', 'Amount of non NaN', 'Total'],columns=listOfFeatures)"
   ]
  },
  {
   "cell_type": "code",
   "execution_count": 10,
   "metadata": {
    "collapsed": false
   },
   "outputs": [
    {
     "data": {
      "text/plain": [
       "Amount of NaN        1358\n",
       "Amount of non NaN    1708\n",
       "Total                3066\n",
       "dtype: int64"
      ]
     },
     "execution_count": 10,
     "metadata": {},
     "output_type": "execute_result"
    }
   ],
   "source": [
    "df.sum(axis=1)"
   ]
  },
  {
   "cell_type": "code",
   "execution_count": 11,
   "metadata": {
    "collapsed": false
   },
   "outputs": [
    {
     "data": {
      "text/plain": [
       "0.4429223744292237"
      ]
     },
     "execution_count": 11,
     "metadata": {},
     "output_type": "execute_result"
    }
   ],
   "source": [
    "1358/3066.0"
   ]
  },
  {
   "cell_type": "markdown",
   "metadata": {},
   "source": [
    "44% of all the value are 'NaN'"
   ]
  },
  {
   "cell_type": "markdown",
   "metadata": {},
   "source": [
    "Let see per attributes."
   ]
  },
  {
   "cell_type": "code",
   "execution_count": 12,
   "metadata": {
    "collapsed": false
   },
   "outputs": [
    {
     "data": {
      "image/png": "[encoded data removed]",
      "text/plain": [
       "<matplotlib.figure.Figure at 0xd9a2240>"
      ]
     },
     "metadata": {},
     "output_type": "display_data"
    }
   ],
   "source": [
    "figure(num=None, figsize=(10, 6), dpi=80, facecolor='w', edgecolor='k')\n",
    "ind = range(len(listOfFeatures))\n",
    "width = 0.7\n",
    "\n",
    "p1 = plt.bar(ind, nonNaN_Cpt, width)\n",
    "p2 = plt.bar(ind, NaN_Cpt, width, bottom=nonNaN_Cpt)\n",
    "plt.title('NaN and Non NaN value in the dataset')\n",
    "plt.xticks(range(len(listOfFeatures)), listOfFeatures, rotation=90)\n",
    "plt.legend((p1[0], p2[0]), ('Non NaN', 'NaN'))\n",
    "plt.savefig('NaN_Value.png', bbox_inches='tight')\n",
    "plt.show()\n"
   ]
  },
  {
   "cell_type": "markdown",
   "metadata": {},
   "source": [
    "There is a lot of unknown values. We can notice that the attributes 'loan_advance', 'restricted_stock_value' and 'director_fees contains very few information.\n",
    "\n",
    "There is no NaN Value for the attribute POI.  "
   ]
  },
  {
   "cell_type": "markdown",
   "metadata": {},
   "source": [
    "We want to identify the POIs. We saw that there is no NaN value for them. How many do we have?"
   ]
  },
  {
   "cell_type": "code",
   "execution_count": 13,
   "metadata": {
    "collapsed": false
   },
   "outputs": [
    {
     "name": "stdout",
     "output_type": "stream",
     "text": [
      "POI: 18\n",
      "Non POI: 128\n",
      "Non valid value: 0\n"
     ]
    }
   ],
   "source": [
    "POI = 0\n",
    "non_POI = 0\n",
    "strange_POIValue = 0\n",
    "\n",
    "for p in my_dataset:\n",
    "    if my_dataset[p]['poi'] == 0:\n",
    "        non_POI += 1\n",
    "    elif my_dataset[p]['poi'] == 1:\n",
    "        POI += 1\n",
    "    else:\n",
    "        strangePOIValue += 1\n",
    "\n",
    "print(\"POI: %i\\nNon POI: %i\\nNon valid value: %i\"%(POI, non_POI, strange_POIValue))"
   ]
  },
  {
   "cell_type": "markdown",
   "metadata": {},
   "source": [
    "There is 18 Persons of interest in the dataset and no non valid value was found."
   ]
  },
  {
   "cell_type": "markdown",
   "metadata": {},
   "source": [
    "# Cleanup the data"
   ]
  },
  {
   "cell_type": "markdown",
   "metadata": {},
   "source": [
    "In order to select the features later, we have to extract all fields of the dataset."
   ]
  },
  {
   "cell_type": "code",
   "execution_count": 14,
   "metadata": {
    "collapsed": false
   },
   "outputs": [],
   "source": [
    "all_features_list = list(my_dataset['BECK SALLY W'].keys())"
   ]
  },
  {
   "cell_type": "markdown",
   "metadata": {},
   "source": [
    "The 'email_address' field should be remove. It is unique for each people. This field add no information to identify the POIs. And should be removed."
   ]
  },
  {
   "cell_type": "markdown",
   "metadata": {},
   "source": [
    "We have also to remove the 'TOTAL' entry. Which will generate outliers and does not add any discrimination of the POIs."
   ]
  },
  {
   "cell_type": "code",
   "execution_count": 15,
   "metadata": {
    "collapsed": false
   },
   "outputs": [],
   "source": [
    "del my_dataset['TOTAL']\n",
    "all_features_list.remove('email_address')"
   ]
  },
  {
   "cell_type": "markdown",
   "metadata": {},
   "source": [
    "We can also check the names to find some strange one. (Like the one words 'TOTAL'). \n",
    "\n",
    "The names a two words with sometimes a third letter at the end and some time a 'JR' between the two words."
   ]
  },
  {
   "cell_type": "code",
   "execution_count": 16,
   "metadata": {
    "collapsed": false
   },
   "outputs": [
    {
     "data": {
      "text/plain": [
       "['SULLIVAN-SHAKLOVITZ COLLEEN',\n",
       " 'PEREIRA PAULO V. FERRAZ',\n",
       " 'BLAKE JR. NORMAN P',\n",
       " 'THE TRAVEL AGENCY IN THE PARK',\n",
       " 'WINOKUR JR. HERBERT S',\n",
       " 'GARLAND C KEVIN',\n",
       " 'YEAGER F SCOTT',\n",
       " 'DERRICK JR. JAMES V']"
      ]
     },
     "execution_count": 16,
     "metadata": {},
     "output_type": "execute_result"
    }
   ],
   "source": [
    "namePattern = re.compile('(?!^[A-Z]+ (JR )?[A-Z]+ ?[A-Z]?$)')\n",
    "filter(namePattern.match, my_dataset.keys())"
   ]
  },
  {
   "cell_type": "markdown",
   "metadata": {},
   "source": [
    " In the list of the names which does not match, we find a 'THE TRAVEL AGENCY IN THE PARK' which sounds strange. Let check what is in it."
   ]
  },
  {
   "cell_type": "code",
   "execution_count": 17,
   "metadata": {
    "collapsed": false
   },
   "outputs": [
    {
     "data": {
      "text/plain": [
       "{'bonus': 'NaN',\n",
       " 'deferral_payments': 'NaN',\n",
       " 'deferred_income': 'NaN',\n",
       " 'director_fees': 'NaN',\n",
       " 'email_address': 'NaN',\n",
       " 'exercised_stock_options': 'NaN',\n",
       " 'expenses': 'NaN',\n",
       " 'from_messages': 'NaN',\n",
       " 'from_poi_to_this_person': 'NaN',\n",
       " 'from_this_person_to_poi': 'NaN',\n",
       " 'loan_advances': 'NaN',\n",
       " 'long_term_incentive': 'NaN',\n",
       " 'other': 362096,\n",
       " 'poi': False,\n",
       " 'restricted_stock': 'NaN',\n",
       " 'restricted_stock_deferred': 'NaN',\n",
       " 'salary': 'NaN',\n",
       " 'shared_receipt_with_poi': 'NaN',\n",
       " 'to_messages': 'NaN',\n",
       " 'total_payments': 362096,\n",
       " 'total_stock_value': 'NaN'}"
      ]
     },
     "execution_count": 17,
     "metadata": {},
     "output_type": "execute_result"
    }
   ],
   "source": [
    "my_dataset['THE TRAVEL AGENCY IN THE PARK']"
   ]
  },
  {
   "cell_type": "markdown",
   "metadata": {},
   "source": [
    "It is very empty. The entry should be removed."
   ]
  },
  {
   "cell_type": "code",
   "execution_count": 18,
   "metadata": {
    "collapsed": true
   },
   "outputs": [],
   "source": [
    "del my_dataset['THE TRAVEL AGENCY IN THE PARK']"
   ]
  },
  {
   "cell_type": "markdown",
   "metadata": {},
   "source": [
    "Now we can call the featureFormat function which will replace the 'NaN' value by 0 and extract data in a table.\n",
    "\n",
    "We have also to place the 'poi' field at the first entry of the list"
   ]
  },
  {
   "cell_type": "code",
   "execution_count": 19,
   "metadata": {
    "collapsed": false
   },
   "outputs": [],
   "source": [
    "all_features_list.remove('poi')\n",
    "all_features_list.insert(0, 'poi')\n",
    "data = featureFormat(my_dataset, all_features_list, sort_keys = True)\n",
    "labels, features = targetFeatureSplit(data)"
   ]
  },
  {
   "cell_type": "markdown",
   "metadata": {},
   "source": [
    "# Check for Outliers"
   ]
  },
  {
   "cell_type": "markdown",
   "metadata": {},
   "source": [
    "Let plot each features to have a over all view of how the data look like."
   ]
  },
  {
   "cell_type": "code",
   "execution_count": 20,
   "metadata": {
    "collapsed": false
   },
   "outputs": [
    {
     "data": {
      "image/png": "[encoded data removed]",
      "text/plain": [
       "<matplotlib.figure.Figure at 0xd4cf320>"
      ]
     },
     "metadata": {},
     "output_type": "display_data"
    }
   ],
   "source": [
    "figure(num=None, figsize=(10, 8), dpi=80, facecolor='w', edgecolor='k')\n",
    "x_list = []\n",
    "y_list = []\n",
    "\n",
    "for f in range(len(all_features_list) - 1):\n",
    "    y = np.array(features)[..., f]\n",
    "    x = [f]*len(features)\n",
    "    x_list.append(x)\n",
    "    y_list.append(y)\n",
    "    \n",
    "for i in range(len(y_list)):\n",
    "    plt.scatter(x_list[i],y_list[i])\n",
    "plt.xticks(range(len(all_features_list) - 1), all_features_list[1:], rotation=90)\n",
    "plt.show()"
   ]
  },
  {
   "cell_type": "markdown",
   "metadata": {},
   "source": [
    "We see three points which are really separate from the rest but the scale of the graph can hide some details. The three points are for the fields total_payement, total_stock_value and loan_advance. A better tool is needed to have a closer look on each fields separatly."
   ]
  },
  {
   "cell_type": "markdown",
   "metadata": {},
   "source": [
    "## Processing the z-score of the samples"
   ]
  },
  {
   "cell_type": "markdown",
   "metadata": {},
   "source": [
    "With the z-score we will be able to see the samples which are really far from the normality. The z-score will also do a sort of normalization which will help to see all fields on one graph."
   ]
  },
  {
   "cell_type": "code",
   "execution_count": 21,
   "metadata": {
    "collapsed": false
   },
   "outputs": [
    {
     "data": {
      "image/png": "[encoded data removed]",
      "text/plain": [
       "<matplotlib.figure.Figure at 0xdda0630>"
      ]
     },
     "metadata": {},
     "output_type": "display_data"
    }
   ],
   "source": [
    "from scipy import stats\n",
    "\n",
    "figure(num=None, figsize=(10, 8), dpi=80, facecolor='w', edgecolor='k')\n",
    "x_list = []\n",
    "y_list = []\n",
    "\n",
    "for f in range(len(all_features_list) - 1):\n",
    "    y = stats.zscore(np.array(features)[..., f])\n",
    "    x = [f]*len(features)\n",
    "    x_list.append(x)\n",
    "    y_list.append(y)\n",
    "    \n",
    "zScore_list = y_list\n",
    "    \n",
    "for i in range(len(y_list)):\n",
    "    plt.scatter(x_list[i],y_list[i])\n",
    "plt.xticks(range(len(all_features_list) - 1), all_features_list[1:], rotation=90)\n",
    "plt.grid(axis='y', linestyle=':')\n",
    "plt.show()"
   ]
  },
  {
   "cell_type": "markdown",
   "metadata": {},
   "source": [
    "We can notice interessing things. First the values are really widly spread. This is probably due to the missing data are replaced by zero. Secondly we can confirm that the total_payment and the loan advance maximum seem strange but the total_stock_value seems to be like other fields. "
   ]
  },
  {
   "cell_type": "markdown",
   "metadata": {},
   "source": [
    "## Analysis of the outliers"
   ]
  },
  {
   "cell_type": "markdown",
   "metadata": {},
   "source": [
    "We will check all value with a z-Score greater than 4 and smaller than -2."
   ]
  },
  {
   "cell_type": "code",
   "execution_count": 22,
   "metadata": {
    "collapsed": false
   },
   "outputs": [
    {
     "name": "stdout",
     "output_type": "stream",
     "text": [
      "salary to be check.\tValue: 1060932\n",
      "salary to be check.\tValue: 1072321\n",
      "salary to be check.\tValue: 1111258\n",
      "to_messages to be check.\tValue: 12754\n",
      "to_messages to be check.\tValue: 15149\n",
      "deferral_payments to be check.\tValue: 6426990\n",
      "total_payments to be check.\tValue: 103559793\n",
      "exercised_stock_options to be check.\tValue: 30766064\n",
      "exercised_stock_options to be check.\tValue: 34348384\n",
      "bonus to be check.\tValue: 8000000\n",
      "bonus to be check.\tValue: 7000000\n",
      "restricted_stock to be check.\tValue: 14761694\n",
      "restricted_stock to be check.\tValue: 13847074\n",
      "shared_receipt_with_poi to be check.\tValue: 5521\n",
      "restricted_stock_deferred to be check.\tValue: 15456290\n",
      "total_stock_value to be check.\tValue: 30766064\n",
      "total_stock_value to be check.\tValue: 49110078\n",
      "expenses to be check.\tValue: 228763\n",
      "expenses to be check.\tValue: 228656\n",
      "loan_advances to be check.\tValue: 81525000\n",
      "from_messages to be check.\tValue: 14368\n",
      "from_messages to be check.\tValue: 6759\n",
      "other to be check.\tValue: 7427621\n",
      "other to be check.\tValue: 10359729\n",
      "from_this_person_to_poi to be check.\tValue: 386\n",
      "from_this_person_to_poi to be check.\tValue: 609\n",
      "from_this_person_to_poi to be check.\tValue: 387\n",
      "from_this_person_to_poi to be check.\tValue: 411\n",
      "director_fees to be check.\tValue: 137864\n",
      "deferred_income to be check.\tValue: -3081055\n",
      "deferred_income to be check.\tValue: -2334434\n",
      "deferred_income to be check.\tValue: -3367011\n",
      "deferred_income to be check.\tValue: -3117011\n",
      "deferred_income to be check.\tValue: -3504386\n",
      "long_term_incentive to be check.\tValue: 3600000\n",
      "long_term_incentive to be check.\tValue: 5145434\n",
      "from_poi_to_this_person to be check.\tValue: 528\n",
      "-------------------\n",
      "37 outliers found\n"
     ]
    }
   ],
   "source": [
    "max_zScore = 4\n",
    "min_zScore = -2\n",
    "nbOfOutliers = 0\n",
    "for f in range(len(all_features_list) - 1):\n",
    "    outliers = []\n",
    "    for i in range(len(zScore_list[f])):\n",
    "        if (zScore_list[f][i] > max_zScore) or (zScore_list[f][i] < min_zScore):\n",
    "            print(\"%s to be check.\\tValue: %i\"%(all_features_list[f+1], features[i][f]))\n",
    "            nbOfOutliers += 1\n",
    "print(\"-------------------\\n%i outliers found\"%(nbOfOutliers))"
   ]
  },
  {
   "cell_type": "markdown",
   "metadata": {},
   "source": [
    "There is no irealistic value. The values match with the PDF from findLaw. We can ask us if two people really sent more than 12000 emails. Let check who are those people."
   ]
  },
  {
   "cell_type": "code",
   "execution_count": 23,
   "metadata": {
    "collapsed": false
   },
   "outputs": [
    {
     "name": "stdout",
     "output_type": "stream",
     "text": [
      "SHAPIRO RICHARD S: 15149 mails sent\n",
      "KEAN STEVEN J: 12754 mails sent\n"
     ]
    }
   ],
   "source": [
    "for i in my_dataset:\n",
    "    if my_dataset[i]['to_messages'] != 'NaN' and my_dataset[i]['to_messages'] > 12000:\n",
    "        print(\"%s: %s mails sent\"%(i, my_dataset[i]['to_messages']))"
   ]
  },
  {
   "cell_type": "markdown",
   "metadata": {},
   "source": [
    "Those values are high but plausible. We have to keep in mind if we choose the amount of mail as a feature. "
   ]
  },
  {
   "cell_type": "markdown",
   "metadata": {},
   "source": [
    "# Add meta-data"
   ]
  },
  {
   "cell_type": "markdown",
   "metadata": {},
   "source": [
    "In order to improve the results of the classifier, it is possible to add some meta-features. Thoses features are calculated from other value in the dataset.\n",
    "\n",
    "In our case three values can be nice to have:\n",
    "- The total benefit (total_payments + total_stock_value)\n",
    "- The fraction of mails to/from POI"
   ]
  },
  {
   "cell_type": "markdown",
   "metadata": {},
   "source": [
    "## Add the total benefit meta-feature"
   ]
  },
  {
   "cell_type": "markdown",
   "metadata": {},
   "source": [
    "We add a field to calculate the total benefit per people. We just add the total_payments and the total_stock_value together."
   ]
  },
  {
   "cell_type": "code",
   "execution_count": 24,
   "metadata": {
    "collapsed": false
   },
   "outputs": [],
   "source": [
    "for p in my_dataset:\n",
    "    if my_dataset[p]['total_payments'] != 'NaN':\n",
    "        total_payments = my_dataset[p]['total_payments']\n",
    "    else:\n",
    "        total_payments = 0\n",
    "        \n",
    "    if my_dataset[p]['total_stock_value'] != 'NaN':\n",
    "        total_stock_value = my_dataset[p]['total_stock_value']\n",
    "    else:\n",
    "        total_stock_value = 0\n",
    "    \n",
    "    my_dataset[p]['total_benefit'] = total_payments + total_stock_value\n",
    "    \n"
   ]
  },
  {
   "cell_type": "markdown",
   "metadata": {},
   "source": [
    "A new field \"total benefit\" is added in the dataset"
   ]
  },
  {
   "cell_type": "markdown",
   "metadata": {},
   "source": [
    "## Add the fraction of mail to/from POI"
   ]
  },
  {
   "cell_type": "markdown",
   "metadata": {},
   "source": [
    "The number of email is relative. To see the amount of mail exchange to and from a POI, we can add two fields which represent the fraction of the the mail received of sent from or to a POI by the total number of mail received or sent."
   ]
  },
  {
   "cell_type": "code",
   "execution_count": 25,
   "metadata": {
    "collapsed": false
   },
   "outputs": [],
   "source": [
    "def check_value(v):\n",
    "    if v != 'NaN':\n",
    "        return v\n",
    "    else:\n",
    "        return 0\n",
    "\n",
    "for p in my_dataset:\n",
    "    to_message = check_value(my_dataset[p]['to_messages'])\n",
    "    from_message = check_value(my_dataset[p]['from_messages'])\n",
    "    from_poi_to_this_person = check_value(my_dataset[p]['from_poi_to_this_person'])\n",
    "    from_this_person_to_poi = check_value(my_dataset[p]['from_this_person_to_poi'])\n",
    "    \n",
    "    if to_message == 0:\n",
    "        my_dataset[p]['fraction_from_poi'] = 0\n",
    "    else:\n",
    "        my_dataset[p]['fraction_from_poi'] = from_poi_to_this_person / float(to_message)\n",
    "    if from_message == 0:\n",
    "        my_dataset[p]['fraction_to_poi'] = 0\n",
    "    else:    \n",
    "        my_dataset[p]['fraction_to_poi'] = from_this_person_to_poi / float(from_message)\n",
    "    "
   ]
  },
  {
   "cell_type": "markdown",
   "metadata": {},
   "source": [
    "Two new fields \"fraction_from_poi\" and \"fraction_to_poi\" are added in the dataset"
   ]
  },
  {
   "cell_type": "code",
   "execution_count": 26,
   "metadata": {
    "collapsed": false
   },
   "outputs": [
    {
     "data": {
      "text/plain": [
       "['poi',\n",
       " 'salary',\n",
       " 'to_messages',\n",
       " 'deferral_payments',\n",
       " 'total_payments',\n",
       " 'exercised_stock_options',\n",
       " 'bonus',\n",
       " 'restricted_stock',\n",
       " 'shared_receipt_with_poi',\n",
       " 'restricted_stock_deferred',\n",
       " 'total_stock_value',\n",
       " 'expenses',\n",
       " 'loan_advances',\n",
       " 'from_messages',\n",
       " 'other',\n",
       " 'from_this_person_to_poi',\n",
       " 'director_fees',\n",
       " 'deferred_income',\n",
       " 'long_term_incentive',\n",
       " 'from_poi_to_this_person']"
      ]
     },
     "execution_count": 26,
     "metadata": {},
     "output_type": "execute_result"
    }
   ],
   "source": [
    "all_features_list"
   ]
  },
  {
   "cell_type": "markdown",
   "metadata": {},
   "source": [
    "# Select the features"
   ]
  },
  {
   "cell_type": "code",
   "execution_count": 27,
   "metadata": {
    "collapsed": true
   },
   "outputs": [],
   "source": [
    "my_dataset = scaleDict(my_dataset)"
   ]
  },
  {
   "cell_type": "code",
   "execution_count": 29,
   "metadata": {
    "collapsed": false
   },
   "outputs": [],
   "source": [
    "all_features_list = list(my_dataset['BECK SALLY W'].keys())\n",
    "#all_features_list.remove('email_address')\n",
    "all_features_list.remove('poi')\n",
    "all_features_list.insert(0, 'poi')\n",
    "data = featureFormat(my_dataset, all_features_list, sort_keys = True)\n",
    "labels, features = targetFeatureSplit(data)\n"
   ]
  },
  {
   "cell_type": "code",
   "execution_count": 30,
   "metadata": {
    "collapsed": false
   },
   "outputs": [],
   "source": [
    "selector = SelectKBest(f_classif, k=10)\n",
    "features_selected =selector.fit_transform(features, labels)"
   ]
  },
  {
   "cell_type": "code",
   "execution_count": 31,
   "metadata": {
    "collapsed": false
   },
   "outputs": [
    {
     "data": {
      "text/plain": [
       "array([[  1.20800334e-01,   5.21875000e-01,   3.60830823e-02, ...,\n",
       "          2.96127563e-02,   5.03529074e-02,   4.07020911e-02],\n",
       "       [  1.00000000e+00,   0.00000000e+00,   6.14210338e-03, ...,\n",
       "          0.00000000e+00,   7.50594264e-03,   2.88388925e-03],\n",
       "       [  9.98543539e-01,   0.00000000e+00,   1.07571339e-01, ...,\n",
       "          0.00000000e+00,   1.17797594e-01,   4.03464283e-02],\n",
       "       ..., \n",
       "       [  1.00000000e+00,   0.00000000e+00,   3.72751684e-03, ...,\n",
       "          0.00000000e+00,   4.05055446e-03,   9.11312750e-04],\n",
       "       [  1.00000000e+00,   0.00000000e+00,   2.42682376e-01, ...,\n",
       "          0.00000000e+00,   2.41890623e-01,   8.02061200e-02],\n",
       "       [  1.00000000e+00,   0.00000000e+00,   4.81853310e-03, ...,\n",
       "          0.00000000e+00,   5.61185062e-03,   1.62347029e-03]])"
      ]
     },
     "execution_count": 31,
     "metadata": {},
     "output_type": "execute_result"
    }
   ],
   "source": [
    "features_selected"
   ]
  },
  {
   "cell_type": "code",
   "execution_count": 35,
   "metadata": {
    "collapsed": false
   },
   "outputs": [
    {
     "name": "stdout",
     "output_type": "stream",
     "text": [
      "| Feature | Score |\n",
      "---|---\n",
      "| deferred_income \t| 11.595548 |\n",
      "| bonus \t| 21.060002 |\n",
      "| total_stock_value \t| 24.467654 |\n",
      "| long_term_incentive \t| 10.072455 |\n",
      "| restricted_stock \t| 9.346701 |\n",
      "| salary \t| 18.575703 |\n",
      "| total_payments \t| 8.873835 |\n",
      "| fraction_to_poi \t| 16.641707 |\n",
      "| exercised_stock_options \t| 25.097542 |\n",
      "| total_benefit \t| 17.192568 |\n"
     ]
    }
   ],
   "source": [
    "cpt = 1\n",
    "features_list = []\n",
    "print(\"| Feature | Score |\\n---|---\")\n",
    "for i in selector.get_support():\n",
    "    if i == True:\n",
    "        print(\"| %s \\t| %f |\"%(all_features_list[cpt], selector.scores_[cpt-1]))\n",
    "        features_list.append(all_features_list[cpt])\n",
    "    cpt += 1"
   ]
  },
  {
   "cell_type": "code",
   "execution_count": 36,
   "metadata": {
    "collapsed": false
   },
   "outputs": [
    {
     "data": {
      "text/plain": [
       "array([  1.69882435,   0.21705893,   6.23420114,  11.59554766,\n",
       "         5.34494152,   3.21076192,   0.06498431,   8.74648553,\n",
       "         7.2427304 ,   0.1641645 ,   4.24615354,   2.10765594,\n",
       "        21.06000171,  24.46765405,   2.42650813,  10.07245453,\n",
       "         9.34670079,  18.57570327,   8.87383526,  16.64170707,\n",
       "        25.09754153,  17.19256765])"
      ]
     },
     "execution_count": 36,
     "metadata": {},
     "output_type": "execute_result"
    }
   ],
   "source": [
    "selector.scores_"
   ]
  },
  {
   "cell_type": "code",
   "execution_count": 37,
   "metadata": {
    "collapsed": false
   },
   "outputs": [
    {
     "data": {
      "text/plain": [
       "['poi',\n",
       " 'to_messages',\n",
       " 'deferral_payments',\n",
       " 'expenses',\n",
       " 'deferred_income',\n",
       " 'from_poi_to_this_person',\n",
       " 'fraction_from_poi',\n",
       " 'restricted_stock_deferred',\n",
       " 'shared_receipt_with_poi',\n",
       " 'loan_advances',\n",
       " 'from_messages',\n",
       " 'other',\n",
       " 'director_fees',\n",
       " 'bonus',\n",
       " 'total_stock_value',\n",
       " 'from_this_person_to_poi',\n",
       " 'long_term_incentive',\n",
       " 'restricted_stock',\n",
       " 'salary',\n",
       " 'total_payments',\n",
       " 'fraction_to_poi',\n",
       " 'exercised_stock_options',\n",
       " 'total_benefit']"
      ]
     },
     "execution_count": 37,
     "metadata": {},
     "output_type": "execute_result"
    }
   ],
   "source": [
    "all_features_list"
   ]
  },
  {
   "cell_type": "code",
   "execution_count": 42,
   "metadata": {
    "collapsed": false
   },
   "outputs": [],
   "source": [
    "scores = pd.DataFrame(data=selector.scores_, index=all_features_list[1:], columns=['Score'])\n",
    "scores.sort_values(by='Score', ascending=False, inplace=True)"
   ]
  },
  {
   "cell_type": "code",
   "execution_count": 91,
   "metadata": {
    "collapsed": false
   },
   "outputs": [
    {
     "name": "stdout",
     "output_type": "stream",
     "text": [
      "| Feature | Score |\n",
      "---|---\n",
      "| exercised_stock_options \t| 25.097542 |\n",
      "| total_stock_value \t| 24.467654 |\n",
      "| bonus \t| 21.060002 |\n",
      "| salary \t| 18.575703 |\n",
      "| total_benefit \t| 17.192568 |\n",
      "| fraction_to_poi \t| 16.641707 |\n",
      "| deferred_income \t| 11.595548 |\n",
      "| long_term_incentive \t| 10.072455 |\n",
      "| restricted_stock \t| 9.346701 |\n",
      "| total_payments \t| 8.873835 |\n",
      "| shared_receipt_with_poi \t| 8.746486 |\n",
      "| loan_advances \t| 7.242730 |\n",
      "| expenses \t| 6.234201 |\n",
      "| from_poi_to_this_person \t| 5.344942 |\n",
      "| other \t| 4.246154 |\n",
      "| fraction_from_poi \t| 3.210762 |\n",
      "| from_this_person_to_poi \t| 2.426508 |\n",
      "| director_fees \t| 2.107656 |\n",
      "| to_messages \t| 1.698824 |\n",
      "| deferral_payments \t| 0.217059 |\n",
      "| from_messages \t| 0.164164 |\n",
      "| restricted_stock_deferred \t| 0.064984 |\n"
     ]
    }
   ],
   "source": [
    "print(\"| Feature | Score |\\n---|---\")\n",
    "for i in range(scores.shape[0]):\n",
    "    print(\"| %s \\t| %f |\"%(scores.index.values[i], scores.iloc[i][0]))"
   ]
  },
  {
   "cell_type": "code",
   "execution_count": 92,
   "metadata": {
    "collapsed": false
   },
   "outputs": [
    {
     "data": {
      "text/plain": [
       "['poi',\n",
       " 'to_messages',\n",
       " 'deferral_payments',\n",
       " 'expenses',\n",
       " 'deferred_income',\n",
       " 'from_poi_to_this_person',\n",
       " 'fraction_from_poi',\n",
       " 'restricted_stock_deferred',\n",
       " 'shared_receipt_with_poi',\n",
       " 'loan_advances',\n",
       " 'from_messages',\n",
       " 'other',\n",
       " 'director_fees',\n",
       " 'bonus',\n",
       " 'total_stock_value',\n",
       " 'from_this_person_to_poi',\n",
       " 'long_term_incentive',\n",
       " 'restricted_stock',\n",
       " 'salary',\n",
       " 'total_payments',\n",
       " 'fraction_to_poi',\n",
       " 'exercised_stock_options',\n",
       " 'total_benefit']"
      ]
     },
     "execution_count": 92,
     "metadata": {},
     "output_type": "execute_result"
    }
   ],
   "source": [
    "all_features_list"
   ]
  },
  {
   "cell_type": "markdown",
   "metadata": {},
   "source": [
    "# Run classifiers"
   ]
  },
  {
   "cell_type": "code",
   "execution_count": 95,
   "metadata": {
    "collapsed": true
   },
   "outputs": [],
   "source": [
    "def testClassifier(clf, features_train, labels_train, features_test, labels_test):\n",
    "    clf.fit(features_train, labels_train)\n",
    "    pred = clf.predict(features_test)\n",
    "    accuracy = sklearn.metrics.accuracy_score(labels_test, pred)\n",
    "    precision = sklearn.metrics.precision_score(labels_test, pred)\n",
    "    recall = sklearn.metrics.recall_score(labels_test, pred)\n",
    "    myF1_score = sklearn.metrics.f1_score(labels_test, pred)\n",
    "    return accuracy, precision, recall, myF1_score"
   ]
  },
  {
   "cell_type": "code",
   "execution_count": 96,
   "metadata": {
    "collapsed": false
   },
   "outputs": [],
   "source": [
    "def datasetSplit(features, labels, test_size=0.3, random_state=42):\n",
    "    features = np.array(features)\n",
    "    labels = np.array(labels)\n",
    "    sss = StratifiedShuffleSplit(n_splits=1000, test_size=test_size, random_state=random_state)\n",
    "    for train_index, test_index in sss.split(features, labels):\n",
    "        features_train, features_test = features[train_index], features[test_index]\n",
    "        labels_train, labels_test = labels[train_index], labels[test_index]\n",
    "    \n",
    "    return features_train, features_test, labels_train, labels_test"
   ]
  },
  {
   "cell_type": "code",
   "execution_count": 97,
   "metadata": {
    "collapsed": true
   },
   "outputs": [],
   "source": [
    "def classifierPerfo(clf, features_train, labels_train, feature_test, label_test):\n",
    "    accuracy, precision, recall, f1_score = testClassifier(clf, features_train, labels_train, features_test, labels_test)\n",
    "\n",
    "    return accuracy,precision, recall, f1_score"
   ]
  },
  {
   "cell_type": "markdown",
   "metadata": {},
   "source": [
    "## Scale and split the features"
   ]
  },
  {
   "cell_type": "code",
   "execution_count": 98,
   "metadata": {
    "collapsed": false
   },
   "outputs": [],
   "source": [
    "folds = 1000\n",
    "cv = StratifiedShuffleSplit(folds, random_state = 42)\n",
    "scaler = MinMaxScaler()\n",
    "features_rescaled = scaler.fit_transform(features_selected)\n",
    "#features_rescaled = features_selected\n",
    "\n",
    "for train_idx, test_idx in cv.split(features_rescaled, labels): \n",
    "    features_train = []\n",
    "    features_test  = []\n",
    "    labels_train   = []\n",
    "    labels_test    = []\n",
    "    for ii in train_idx:\n",
    "        features_train.append( features[ii] )\n",
    "        labels_train.append( labels[ii] )\n",
    "    for jj in test_idx:\n",
    "        features_test.append( features[jj] )\n",
    "        labels_test.append( labels[jj] )\n",
    "\n",
    "#features_train, features_test, labels_train, labels_test = datasetSplit(features_rescaled, labels, test_size=0.33, random_state=42)"
   ]
  },
  {
   "cell_type": "markdown",
   "metadata": {},
   "source": [
    "## SVC Classifer"
   ]
  },
  {
   "cell_type": "code",
   "execution_count": null,
   "metadata": {
    "collapsed": false
   },
   "outputs": [],
   "source": [
    "def svcTunesParams(features, labels):\n",
    "    params = {'C': [0.001, 0.01, 0.1, 1, 10, 20, 40, 70], \\\n",
    "              'gamma' : [0.001, 0.01, 0.1, 1], \\\n",
    "              'kernel': ['linear', 'poly', 'rbf', 'sigmoid'], \\\n",
    "              'degree':[1, 2, 3, 4, 5, 6, 7, 8 ,9 ,10]}\n",
    "    gridSearch = GridSearchCV(SVC(), params)\n",
    "    gridSearch.fit(features, labels)\n",
    "    return gridSearch.best_params_"
   ]
  },
  {
   "cell_type": "code",
   "execution_count": null,
   "metadata": {
    "collapsed": false
   },
   "outputs": [],
   "source": [
    "svcTunesParams(features_train, labels_train)"
   ]
  },
  {
   "cell_type": "code",
   "execution_count": null,
   "metadata": {
    "collapsed": false
   },
   "outputs": [],
   "source": [
    "mySVC = SVC(C=0.001, degree=5, gamma=1, kernel='poly')\n",
    "accuracy, precision, recall, f1_score = classifierPerfo(mySVC, features_train, labels_train, features_test, labels_train)\n",
    "print(\"Accuracy:\\t%f\\nprecision:\\t%f\\nRecall:\\t\\t%f\\nF1 Score:\\t%f\"%(accuracy, precision, recall, f1_score))"
   ]
  },
  {
   "cell_type": "markdown",
   "metadata": {},
   "source": [
    "# Naive Bayes Classifier"
   ]
  },
  {
   "cell_type": "code",
   "execution_count": null,
   "metadata": {
    "collapsed": false
   },
   "outputs": [],
   "source": [
    "gaussianBayes = GaussianNB()\n",
    "accuracy, precision, recall, f1_score = classifierPerfo(gaussianBayes, features_train, labels_train, features_test, labels_train)\n",
    "print(\"Accuracy:\\t%f\\nprecision:\\t%f\\nRecall:\\t\\t%f\\nF1 Score:\\t%f\"%(accuracy, precision, recall, f1_score))"
   ]
  },
  {
   "cell_type": "markdown",
   "metadata": {},
   "source": [
    "# Decision Tree"
   ]
  },
  {
   "cell_type": "code",
   "execution_count": null,
   "metadata": {
    "collapsed": true
   },
   "outputs": [],
   "source": [
    "def DecisionTreeTunesParams(features, labels):\n",
    "    params = {'max_depth': [2,3,4,5,6,7,8,9,10], \\\n",
    "              'min_samples_split' : [2,3,4,5,6,7,8], \\\n",
    "              'min_samples_leaf': [2,3,4,5]}\n",
    "    gridSearch = GridSearchCV(tree.DecisionTreeClassifier(), params)\n",
    "    gridSearch.fit(features, labels)\n",
    "    return gridSearch.best_params_"
   ]
  },
  {
   "cell_type": "code",
   "execution_count": null,
   "metadata": {
    "collapsed": false
   },
   "outputs": [],
   "source": [
    "DecisionTreeTunesParams(features_train, labels_train)"
   ]
  },
  {
   "cell_type": "code",
   "execution_count": null,
   "metadata": {
    "collapsed": false
   },
   "outputs": [],
   "source": [
    "decisionTree = tree.DecisionTreeClassifier(max_depth=3, min_samples_leaf=4, min_samples_split=6)\n",
    "accuracy, precision, recall, f1_score = classifierPerfo(decisionTree, features_train, labels_train, features_test, labels_train)\n",
    "print(\"Accuracy:\\t%f\\nprecision:\\t%f\\nRecall:\\t\\t%f\\nF1 Score:\\t%f\"%(accuracy, precision, recall, f1_score))"
   ]
  },
  {
   "cell_type": "markdown",
   "metadata": {},
   "source": [
    "# KNN"
   ]
  },
  {
   "cell_type": "code",
   "execution_count": 99,
   "metadata": {
    "collapsed": true
   },
   "outputs": [],
   "source": [
    "def KNNTunesParams(features, labels):\n",
    "    params = {'n_neighbors': [2,3,4,5,6,7,8,9,10], \\\n",
    "              'algorithm' : ['ball_tree', 'kd_tree', 'brute']}\n",
    "    gridSearch = GridSearchCV(KNeighborsClassifier(), params)\n",
    "    gridSearch.fit(features, labels)\n",
    "    return gridSearch.best_params_"
   ]
  },
  {
   "cell_type": "code",
   "execution_count": 100,
   "metadata": {
    "collapsed": false
   },
   "outputs": [
    {
     "data": {
      "text/plain": [
       "{'algorithm': 'ball_tree', 'n_neighbors': 8}"
      ]
     },
     "execution_count": 100,
     "metadata": {},
     "output_type": "execute_result"
    }
   ],
   "source": [
    "KNNTunesParams(features_train, labels_train)"
   ]
  },
  {
   "cell_type": "code",
   "execution_count": 101,
   "metadata": {
    "collapsed": false
   },
   "outputs": [
    {
     "name": "stdout",
     "output_type": "stream",
     "text": [
      "Accuracy:\t0.866667\n",
      "precision:\t0.500000\n",
      "Recall:\t\t0.500000\n",
      "F1 Score:\t0.500000\n"
     ]
    }
   ],
   "source": [
    "myKNN = KNeighborsClassifier(algorithm='ball_tree', n_neighbors=3)\n",
    "accuracy, precision, recall, f1_score = classifierPerfo(myKNN, features_train, labels_train, features_test, labels_train)\n",
    "print(\"Accuracy:\\t%f\\nprecision:\\t%f\\nRecall:\\t\\t%f\\nF1 Score:\\t%f\"%(accuracy, precision, recall, f1_score))"
   ]
  },
  {
   "cell_type": "markdown",
   "metadata": {},
   "source": [
    "# Adaboost"
   ]
  },
  {
   "cell_type": "code",
   "execution_count": null,
   "metadata": {
    "collapsed": true
   },
   "outputs": [],
   "source": [
    "def AdaBoostTunesParams(features, labels):\n",
    "    params = {'n_estimators': [3, 5, 10, 20, 30, 50, 70],\n",
    "              'algorithm': ['SAMME', 'SAMME.R'],\n",
    "             'learning_rate': [0.1, 0.5, 1, 2],\n",
    "             'random_state': [42]}\n",
    "    gridSearch = GridSearchCV(ensemble.AdaBoostClassifier(), params)\n",
    "    gridSearch.fit(features, labels)\n",
    "    #return None\n",
    "    return gridSearch.best_params_"
   ]
  },
  {
   "cell_type": "code",
   "execution_count": null,
   "metadata": {
    "collapsed": false
   },
   "outputs": [],
   "source": [
    "AdaBoostTunesParams(features_train, labels_train)"
   ]
  },
  {
   "cell_type": "code",
   "execution_count": null,
   "metadata": {
    "collapsed": false
   },
   "outputs": [],
   "source": [
    "myAdaBoost = ensemble.AdaBoostClassifier(algorithm = 'SAMME', learning_rate=0.1, n_estimators=3)\n",
    "accuracy, precision, recall, f1_score = classifierPerfo(myAdaBoost, features_train, labels_train, features_test, labels_train)\n",
    "print(\"Accuracy:\\t%f\\nprecision:\\t%f\\nRecall:\\t\\t%f\\nF1 Score:\\t%f\"%(accuracy, precision, recall, f1_score))"
   ]
  },
  {
   "cell_type": "markdown",
   "metadata": {},
   "source": [
    "# Random Forest"
   ]
  },
  {
   "cell_type": "code",
   "execution_count": null,
   "metadata": {
    "collapsed": false
   },
   "outputs": [],
   "source": [
    "myRandomForest = ensemble.RandomForestClassifier()\n",
    "accuracy, precision, recall, f1_score = classifierPerfo(myRandomForest, features_train, labels_train, features_test, labels_train)\n",
    "print(\"Accuracy:\\t%f\\nprecision:\\t%f\\nRecall:\\t\\t%f\\nF1 Score:\\t%f\"%(accuracy, precision, recall, f1_score))"
   ]
  },
  {
   "cell_type": "markdown",
   "metadata": {},
   "source": [
    "# Conlusion"
   ]
  },
  {
   "cell_type": "markdown",
   "metadata": {},
   "source": [
    "We found the the better algorithm we found is the decision tree. With a F1 score of 0.90.\n",
    "\n",
    "in all tested methods, the decision tree give the better results."
   ]
  },
  {
   "cell_type": "markdown",
   "metadata": {
    "collapsed": true
   },
   "source": [
    "# Backup"
   ]
  },
  {
   "cell_type": "code",
   "execution_count": null,
   "metadata": {
    "collapsed": true
   },
   "outputs": [],
   "source": [
    "CLF_PICKLE_FILENAME = \"my_classifier.pkl\"\n",
    "DATASET_PICKLE_FILENAME = \"my_dataset.pkl\"\n",
    "FEATURE_LIST_FILENAME = \"my_feature_list.pkl\"\n",
    "\n",
    "with open(CLF_PICKLE_FILENAME, \"rb\") as clf_infile:\n",
    "        clf = pickle.load(clf_infile)\n",
    "with open(DATASET_PICKLE_FILENAME, \"rb\") as dataset_infile:\n",
    "        dataset = pickle.load(dataset_infile)\n",
    "with open(FEATURE_LIST_FILENAME, \"rb\") as featurelist_infile:\n",
    "        feature_list = pickle.load(featurelist_infile)"
   ]
  },
  {
   "cell_type": "code",
   "execution_count": null,
   "metadata": {
    "collapsed": false
   },
   "outputs": [],
   "source": [
    "clf"
   ]
  },
  {
   "cell_type": "code",
   "execution_count": null,
   "metadata": {
    "collapsed": false
   },
   "outputs": [],
   "source": [
    "dataset"
   ]
  },
  {
   "cell_type": "code",
   "execution_count": null,
   "metadata": {
    "collapsed": false
   },
   "outputs": [],
   "source": [
    "feature_list"
   ]
  },
  {
   "cell_type": "code",
   "execution_count": null,
   "metadata": {
    "collapsed": true
   },
   "outputs": [],
   "source": []
  }
 ],
 "metadata": {
  "kernelspec": {
   "display_name": "Python 2",
   "language": "python",
   "name": "python2"
  },
  "language_info": {
   "codemirror_mode": {
    "name": "ipython",
    "version": 2
   },
   "file_extension": ".py",
   "mimetype": "text/x-python",
   "name": "python",
   "nbconvert_exporter": "python",
   "pygments_lexer": "ipython2",
   "version": "2.7.13"
  }
 },
 "nbformat": 4,
 "nbformat_minor": 2
}
