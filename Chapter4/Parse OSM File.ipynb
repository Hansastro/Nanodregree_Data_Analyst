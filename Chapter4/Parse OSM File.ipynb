{
 "cells": [
  {
   "cell_type": "code",
   "execution_count": 1,
   "metadata": {
    "ExecuteTime": {
     "end_time": "2018-09-24T19:49:41.831379Z",
     "start_time": "2018-09-24T19:49:41.826143Z"
    },
    "collapsed": true
   },
   "outputs": [],
   "source": [
    "import sys\n",
    "import os\n",
    "import xml.etree.ElementTree\n",
    "import csv\n",
    "import re\n",
    "import sqlite3\n",
    "import pandas as pd\n",
    "import matplotlib\n",
    "import matplotlib.pyplot as plt\n",
    "import numpy as np\n",
    "\n",
    "% matplotlib inline"
   ]
  },
  {
   "cell_type": "markdown",
   "metadata": {},
   "source": [
    "# Openstreetmap Project"
   ]
  },
  {
   "cell_type": "markdown",
   "metadata": {},
   "source": [
    "The goal of this project is to parse data from a openstreetmap OSM file (XML format), populate a database and perform some analysis."
   ]
  },
  {
   "cell_type": "markdown",
   "metadata": {},
   "source": [
    "## List of modules used"
   ]
  },
  {
   "cell_type": "code",
   "execution_count": 2,
   "metadata": {
    "ExecuteTime": {
     "end_time": "2018-09-24T19:40:07.409296Z",
     "start_time": "2018-09-24T19:40:07.404592Z"
    },
    "collapsed": false
   },
   "outputs": [
    {
     "name": "stdout",
     "output_type": "stream",
     "text": [
      "Python: Version 3.6.0 |Anaconda 4.3.1 (32-bit)| (default, Dec 23 2016, 12:06:52) [MSC v.1900 32 bit (Intel)]\n",
      "xml.etree.ElementTree: xml is a python embedded module. Please refer to the python's version.\n",
      "csv: Version 1.0\n",
      "re: Version 2.2.1\n",
      "pandas: Version 0.19.2\n",
      "matplotlib: Version 2.0.0\n",
      "numpy: Version 1.11.3\n"
     ]
    }
   ],
   "source": [
    "print(\"Python: Version {}\".format(sys.version))\n",
    "print(\"xml.etree.ElementTree: xml is a python embedded module. Please refer to the python's version.\")\n",
    "print(\"csv: Version {}\".format(csv.__version__))\n",
    "print(\"re: Version {}\".format(re.__version__))\n",
    "#print(\"sqlite3: Version {}\".format(sqlite3.__version__))\n",
    "print(\"pandas: Version {}\".format(pd.__version__))\n",
    "print('matplotlib: Version {}'.format(matplotlib.__version__))\n",
    "print('numpy: Version {}'.format(np.__version__))"
   ]
  },
  {
   "cell_type": "markdown",
   "metadata": {},
   "source": [
    "## Set the data file"
   ]
  },
  {
   "cell_type": "code",
   "execution_count": 3,
   "metadata": {
    "ExecuteTime": {
     "end_time": "2018-09-24T19:40:07.429977Z",
     "start_time": "2018-09-24T19:40:07.411131Z"
    },
    "collapsed": true
   },
   "outputs": [],
   "source": [
    "#dataFileName = 'example.osm'\n",
    "#dataFileName = 'daensen.osm'\n",
    "dataFileName = 'pippensen.osm'\n",
    "#dataFileName = 'tulle.osm'\n",
    "#dataFileName = 'Hamburg_sued.osm'\n",
    "#dataFileName = 'Buxtehude.osm'\n",
    "#dataFileName = 'Paris.osm'"
   ]
  },
  {
   "cell_type": "code",
   "execution_count": 4,
   "metadata": {
    "ExecuteTime": {
     "end_time": "2018-09-24T19:40:07.449819Z",
     "start_time": "2018-09-24T19:40:07.431620Z"
    },
    "collapsed": false
   },
   "outputs": [
    {
     "name": "stdout",
     "output_type": "stream",
     "text": [
      "Size of the source file pippensen.osm: 6.207Mb\n"
     ]
    }
   ],
   "source": [
    "statinfo = os.stat(dataFileName)\n",
    "print('Size of the source file {}: {:.3f}Mb'.format(dataFileName, statinfo.st_size / (1024 * 1024))) "
   ]
  },
  {
   "cell_type": "markdown",
   "metadata": {},
   "source": [
    "Database filename"
   ]
  },
  {
   "cell_type": "code",
   "execution_count": 5,
   "metadata": {
    "collapsed": true
   },
   "outputs": [],
   "source": [
    "dbFileName = 'Openstreetmap.db'"
   ]
  },
  {
   "cell_type": "markdown",
   "metadata": {},
   "source": [
    "# Read data from OSM file and create some csv files"
   ]
  },
  {
   "cell_type": "markdown",
   "metadata": {},
   "source": [
    "The first part is to read the data from the OSM file and export them to some CSV files.\n",
    "\n",
    "For clarity the process is split in several functions (see below). Then main function is called 'parseOSMfile'.\n",
    "\n",
    "The OSM file is opened with the XML parser and the elements are read in sequence. The data are store in the relevant CSV file.\n",
    "\n",
    "At the end, one CSV file will be obtain per table in the database."
   ]
  },
  {
   "cell_type": "code",
   "execution_count": 21,
   "metadata": {
    "ExecuteTime": {
     "end_time": "2018-09-24T20:08:35.515799Z",
     "start_time": "2018-09-24T20:08:35.430299Z"
    },
    "collapsed": true
   },
   "outputs": [],
   "source": [
    "# List of all csv files\n",
    "csvFiles = {'node':'nodes.csv',\n",
    "         'way':'ways.csv',\n",
    "         'node_tags': 'nodes_tags.csv',\n",
    "         'way_tags': 'ways_tags.csv',\n",
    "         'way_node':'ways_nodes.csv'}\n",
    "\n",
    "# List of all fields for the csv files and the database\n",
    "fields = {'node': ['id', 'lat', 'lon', 'user', 'uid', 'version', 'changeset', 'timestamp'],\n",
    "           'way': ['id', 'user', 'uid', 'version', 'changeset', 'timestamp'],\n",
    "           'node_tags': ['id', 'key', 'value', 'type'],\n",
    "           'way_tags': ['id', 'key', 'value', 'type'],\n",
    "           'way_node': ['id', 'node_id', 'position']} \n",
    "\n",
    "def initCSVfiles():\n",
    "    '''\n",
    "    Create empty csv files and add the header line\n",
    "    \n",
    "    parameters:\n",
    "    ------------\n",
    "    None\n",
    "    \n",
    "    returns:\n",
    "    --------\n",
    "    a dictionary containing the file descriptor and the csv writer object\n",
    "    '''\n",
    "    fileDescriptor = {}\n",
    "    for f in csvFiles:\n",
    "        #print('init {}'.format(files[f]))\n",
    "        fileId = open(csvFiles[f], 'w', encoding='utf-8')\n",
    "        csvWriter = csv.writer(fileId, delimiter=';',\n",
    "                            quotechar='\\'', quoting=csv.QUOTE_MINIMAL)\n",
    "        csvWriter.writerow(fields[f])\n",
    "        fileDescriptor[f] = {}\n",
    "        fileDescriptor[f]['fileId'] = fileId\n",
    "        fileDescriptor[f]['csvWriter'] = csvWriter\n",
    "        \n",
    "    return fileDescriptor\n",
    "\n",
    "def closeCSVfiles(fileDesc):\n",
    "    '''\n",
    "    Close all csv files opened\n",
    "    \n",
    "    parameters:\n",
    "    -----------\n",
    "    the file descriptor dictionary returned by the initCSVfiles function.\n",
    "    \n",
    "    returns:\n",
    "    --------\n",
    "    None\n",
    "    '''\n",
    "    for f in fileDesc:\n",
    "        fileDesc[f]['fileId'].close()\n",
    "\n",
    "def writeElem(elemType, elem, fileDesc):\n",
    "    '''\n",
    "    write an element in the corresponding csv file\n",
    "    \n",
    "    parameters:\n",
    "    -----------\n",
    "    - elemType: a string of the type of element to be written.\n",
    "    - elem: dict of data to be written in the csv file\n",
    "    - fileDesc: dictionary of the file decriptor (given by the initCSVfiles function)\n",
    "    \n",
    "    returns:\n",
    "    --------\n",
    "    None\n",
    "    '''\n",
    "    record = []\n",
    "    for i in fields[elemType]:\n",
    "        record.append(elem[i])\n",
    "    \n",
    "    fileDesc[elemType]['csvWriter'].writerow(record)\n",
    "\n",
    "def correctBadCaracters(string):\n",
    "    '''\n",
    "    remove problematic charracteres from a stings.\n",
    "    \n",
    "    All special character in the form '&#xxx;' will be removed and semi-colon will be replaced by a space char.\n",
    "    \n",
    "    parameters:\n",
    "    -----------\n",
    "    - string: the string to be corrected\n",
    "    \n",
    "    returns:\n",
    "    --------\n",
    "    the input string without problematic characters\n",
    "    '''\n",
    "    correctedString = ''\n",
    "    start = 0\n",
    "    end = 0\n",
    "    \n",
    "    # Remove the '&#xxx' special caracters\n",
    "    pattern = r'&#?.*?;'\n",
    "    if re.search(pattern, string):\n",
    "        for m in re.finditer(pattern, string):\n",
    "            end = m.start()\n",
    "            correctedString += string[start:end]\n",
    "            start = m.end()\n",
    "    else:\n",
    "        correctedString = string\n",
    "    \n",
    "    # Remove remaning semi-colon\n",
    "    correctedString = correctedString.replace(';', ' ')\n",
    "    \n",
    "    return correctedString\n",
    "    \n",
    "def parseTag(id, attrib):\n",
    "    '''\n",
    "    Parse the tag k and return the value, the key and the type\n",
    "    \n",
    "    parameters:\n",
    "    -----------\n",
    "    - id: id of the node or the way\n",
    "    - attrib: XML object\n",
    "    \n",
    "    returns:\n",
    "    --------\n",
    "    a dictionary with the Id of the parent, the key, value and type\n",
    "    '''\n",
    "    \n",
    "    if 'k' in attrib:\n",
    "        pattern = re.compile('^([a-z_]+):(.*)$')\n",
    "        match = pattern.match(attrib['k'])\n",
    "    \n",
    "        if match:\n",
    "            type_ = match.group(1)\n",
    "            key = match.group(2)\n",
    "        else:\n",
    "            type_ = attrib['k']\n",
    "            key = ''\n",
    "    else:\n",
    "        key = None\n",
    "        type_ = None\n",
    "    \n",
    "    # Correct the value string which can contain problematic characters\n",
    "    value = correctBadCaracters(attrib['v'])\n",
    "    return {'id': id, 'key':key, 'value':value, 'type':type_}\n",
    "    \n",
    "def parseElement(element, fileDesc):\n",
    "    '''\n",
    "    parse an element and write the data in the different csv files\n",
    "    \n",
    "    parameters:\n",
    "    -----------\n",
    "    - element: XML object to be parsed\n",
    "    - fileDesc: dictionary of the file decriptor (given by the initCSVfiles function)\n",
    "\n",
    "    returns:\n",
    "    --------\n",
    "    None\n",
    "    '''\n",
    "    targetElement = ['node', 'way']\n",
    "    \n",
    "    if element.tag in targetElement:\n",
    "        #print('Parsing: {}'.format(element.tag))\n",
    "        selectedAttribs = fields[element.tag]\n",
    "\n",
    "        # Parse the main elements Node and Way\n",
    "        attribs = element.attrib\n",
    "        elem = {}\n",
    "        for i in selectedAttribs:\n",
    "            elem[i] = attribs[i]  \n",
    "        writeElem(element.tag, elem, fileDesc)\n",
    "        \n",
    "        # Parse the subelements Tag and Nd\n",
    "        position = 0\n",
    "        for e in element:\n",
    "            tag = {}\n",
    "            node = {}\n",
    "            if e.tag == 'nd':\n",
    "                node = {'id': elem['id'], 'node_id': e.attrib['ref'], 'position': position}\n",
    "                position += 1\n",
    "                writeElem('way_node', node, fileDesc)\n",
    "            elif e.tag == 'tag':\n",
    "                tag = parseTag(elem['id'], e.attrib)\n",
    "                writeElem(element.tag + '_tags', tag, fileDesc)\n",
    "        \n",
    "def parseOSMfile(fileName):\n",
    "    '''\n",
    "    main function to extract the data from an OSM file to CSV files\n",
    "    \n",
    "    parameters:\n",
    "    -----------\n",
    "    fileName: string of the path of the OSM file\n",
    "    \n",
    "    returns:\n",
    "    --------\n",
    "    None\n",
    "    '''\n",
    "    fileDesc = initCSVfiles()\n",
    "    e = xml.etree.ElementTree.parse(fileName).getroot()\n",
    "    for element in e:\n",
    "        parseElement(element, fileDesc)\n",
    "    closeCSVfiles(fileDesc)"
   ]
  },
  {
   "cell_type": "markdown",
   "metadata": {},
   "source": [
    "The CSV files can be generated:"
   ]
  },
  {
   "cell_type": "code",
   "execution_count": 22,
   "metadata": {
    "ExecuteTime": {
     "end_time": "2018-09-24T20:09:27.372928Z",
     "start_time": "2018-09-24T20:08:36.388719Z"
    },
    "collapsed": true
   },
   "outputs": [],
   "source": [
    "parseOSMfile(dataFileName)"
   ]
  },
  {
   "cell_type": "markdown",
   "metadata": {},
   "source": [
    "List of all CSV files in the current directory:"
   ]
  },
  {
   "cell_type": "code",
   "execution_count": 8,
   "metadata": {
    "ExecuteTime": {
     "end_time": "2018-09-24T20:09:57.481111Z",
     "start_time": "2018-09-24T20:09:57.475952Z"
    },
    "collapsed": false
   },
   "outputs": [
    {
     "name": "stdout",
     "output_type": "stream",
     "text": [
      "List of csv files.\n",
      "File nodes.csv (1998.0kb)\n",
      "File nodes_tags.csv (104.8kb)\n",
      "File node_tags.csv (3.9kb)\n",
      "File ways.csv (249.0kb)\n",
      "File ways_nodes.csv (758.3kb)\n",
      "File ways_tags.csv (315.0kb)\n",
      "File way_node.csv (19.5kb)\n",
      "File way_tags.csv (8.2kb)\n"
     ]
    }
   ],
   "source": [
    "fileList = os.listdir()\n",
    "\n",
    "print('List of csv files.')\n",
    "pattern = re.compile('.*\\.csv$')\n",
    "for f in fileList:\n",
    "    if pattern.match(f):\n",
    "        statinfo = os.stat(f)\n",
    "        print('File {} ({:.1f}kb)'.format(f, statinfo.st_size / 1024))\n",
    "    "
   ]
  },
  {
   "cell_type": "markdown",
   "metadata": {},
   "source": [
    "Those files can be used to populate the database"
   ]
  },
  {
   "cell_type": "markdown",
   "metadata": {},
   "source": [
    "# Create the database"
   ]
  },
  {
   "cell_type": "markdown",
   "metadata": {},
   "source": [
    "From the CSV, it is now easy to populate the database. The first step will be to create one with the adequat tables. The database will be created with the schema contains in the file 'data_wrangling_schema.sql'\n",
    "\n",
    "The database is a SQLite one."
   ]
  },
  {
   "cell_type": "code",
   "execution_count": 9,
   "metadata": {
    "ExecuteTime": {
     "end_time": "2018-09-24T20:10:02.762299Z",
     "start_time": "2018-09-24T20:10:02.506469Z"
    },
    "collapsed": false
   },
   "outputs": [
    {
     "name": "stdout",
     "output_type": "stream",
     "text": [
      "Database file Openstreetmap.db already exists. This file will be use.\n"
     ]
    }
   ],
   "source": [
    "# To avoid errors, if the database file does not exist, it is created else just the connexion will be established.\n",
    "if not os.path.isfile(dbFileName):\n",
    "    conn = sqlite3.connect(dbFileName)\n",
    "    c = conn.cursor()\n",
    "    with open('data_wrangling_schema.sql') as f:\n",
    "        print('Creating database...')\n",
    "        text = f.read()\n",
    "        c.executescript(text)\n",
    "        conn.commit()\n",
    "        print('Execute SQL statement: \\n{}'.format(text))\n",
    "else:\n",
    "    print('Database file {} already exists. This file will be use.'.format(dbFileName))\n",
    "    conn = sqlite3.connect(dbFileName)\n",
    "    c = conn.cursor()"
   ]
  },
  {
   "cell_type": "markdown",
   "metadata": {},
   "source": [
    "# Populate the database"
   ]
  },
  {
   "cell_type": "markdown",
   "metadata": {},
   "source": [
    "The database file exists, it can be populated with the CSV files previously generated."
   ]
  },
  {
   "cell_type": "code",
   "execution_count": 10,
   "metadata": {
    "ExecuteTime": {
     "end_time": "2018-09-24T20:10:03.258778Z",
     "start_time": "2018-09-24T20:10:03.254972Z"
    },
    "collapsed": true
   },
   "outputs": [],
   "source": [
    "def populateDatabase(dbConn):\n",
    "    '''\n",
    "    populate the database with the CSV files.\n",
    "    \n",
    "    The name of the files and the table are extracted from the global table 'csvFiles'\n",
    "    \n",
    "    parameters:\n",
    "    -----------\n",
    "    - dbConn: connexion variable to the database\n",
    "    \n",
    "    returns:\n",
    "    --------\n",
    "    None\n",
    "    '''\n",
    "    for f in csvFiles:\n",
    "        print('Reading file {} for table {}'.format(csvFiles[f], csvFiles[f].split('.')[0]))\n",
    "        df = pd.read_csv(csvFiles[f], sep=';', dtype={\"id\": np.int32})\n",
    "        df.to_sql(csvFiles[f].split('.')[0], dbConn, if_exists='replace', index=False)"
   ]
  },
  {
   "cell_type": "code",
   "execution_count": 11,
   "metadata": {
    "ExecuteTime": {
     "end_time": "2018-09-24T20:10:13.187700Z",
     "start_time": "2018-09-24T20:10:04.308919Z"
    },
    "collapsed": false,
    "scrolled": true
   },
   "outputs": [
    {
     "name": "stdout",
     "output_type": "stream",
     "text": [
      "Reading file nodes.csv for table nodes\n",
      "Reading file ways.csv for table ways\n",
      "Reading file nodes_tags.csv for table nodes_tags\n",
      "Reading file ways_tags.csv for table ways_tags\n",
      "Reading file ways_nodes.csv for table ways_nodes\n"
     ]
    }
   ],
   "source": [
    "populateDatabase(conn)"
   ]
  },
  {
   "cell_type": "markdown",
   "metadata": {},
   "source": [
    "Now the database is populated and can be used."
   ]
  },
  {
   "cell_type": "markdown",
   "metadata": {},
   "source": [
    "# Analysis of the data"
   ]
  },
  {
   "cell_type": "markdown",
   "metadata": {},
   "source": [
    "## How many nodes in the database?"
   ]
  },
  {
   "cell_type": "code",
   "execution_count": 12,
   "metadata": {
    "ExecuteTime": {
     "end_time": "2018-09-24T19:41:26.840762Z",
     "start_time": "2018-09-24T19:41:26.706558Z"
    },
    "collapsed": false
   },
   "outputs": [
    {
     "name": "stdout",
     "output_type": "stream",
     "text": [
      "There are 24556 nodes in the database\n"
     ]
    }
   ],
   "source": [
    "c.execute('SELECT COUNT(id) FROM nodes')\n",
    "print('There are {} nodes in the database'.format(c.fetchall()[0][0]))"
   ]
  },
  {
   "cell_type": "markdown",
   "metadata": {},
   "source": [
    "## How many ways in the database?"
   ]
  },
  {
   "cell_type": "code",
   "execution_count": 13,
   "metadata": {
    "ExecuteTime": {
     "end_time": "2018-09-24T19:41:26.865560Z",
     "start_time": "2018-09-24T19:41:26.845265Z"
    },
    "collapsed": false
   },
   "outputs": [
    {
     "name": "stdout",
     "output_type": "stream",
     "text": [
      "There are 4146 ways in the database\n"
     ]
    }
   ],
   "source": [
    "c.execute('SELECT COUNT(id) FROM ways')\n",
    "print('There are {} ways in the database'.format(c.fetchall()[0][0]))"
   ]
  },
  {
   "cell_type": "markdown",
   "metadata": {},
   "source": [
    "## How many users are in the tables?"
   ]
  },
  {
   "cell_type": "code",
   "execution_count": 14,
   "metadata": {
    "ExecuteTime": {
     "end_time": "2018-09-24T19:41:27.683074Z",
     "start_time": "2018-09-24T19:41:26.867774Z"
    },
    "collapsed": false
   },
   "outputs": [
    {
     "name": "stdout",
     "output_type": "stream",
     "text": [
      "There are 99 different users in the ways table\n",
      "There are 121 different users in the nodes table\n"
     ]
    }
   ],
   "source": [
    "c.execute('SELECT COUNT(DISTINCT user) FROM ways')\n",
    "print('There are {} different users in the ways table'.format(c.fetchall()[0][0]))\n",
    "\n",
    "c.execute('SELECT COUNT(DISTINCT user) FROM nodes')\n",
    "print('There are {} different users in the nodes table'.format(c.fetchall()[0][0]))"
   ]
  },
  {
   "cell_type": "markdown",
   "metadata": {},
   "source": [
    "## List of different type of elements in the file"
   ]
  },
  {
   "cell_type": "markdown",
   "metadata": {},
   "source": [
    "It is possible to have an idea of what sort of information are contains by having a look to the field 'type' of the nodes tags."
   ]
  },
  {
   "cell_type": "code",
   "execution_count": 15,
   "metadata": {
    "collapsed": false
   },
   "outputs": [
    {
     "name": "stdout",
     "output_type": "stream",
     "text": [
      "[['bus']\n",
      " ['name']\n",
      " ['public_transport']\n",
      " ['note']\n",
      " ['source']\n",
      " ['traffic_sign']\n",
      " ['highway']\n",
      " ['is_in']\n",
      " ['place']\n",
      " ['wikidata']\n",
      " ['created_by']\n",
      " ['wikipedia']\n",
      " ['power']\n",
      " ['ref']\n",
      " ['crossing']\n",
      " ['alt_name']\n",
      " ['railway']\n",
      " ['hazard']\n",
      " ['button_operated']\n",
      " ['waterway']\n",
      " ['route_ref']\n",
      " ['shelter']\n",
      " ['opening_hours']\n",
      " ['shop']\n",
      " ['wheelchair']\n",
      " ['barrier']\n",
      " ['leisure']\n",
      " ['sport']\n",
      " ['crossing_ref']\n",
      " ['amenity']\n",
      " ['religion']\n",
      " ['bicycle']\n",
      " ['foot']\n",
      " ['tourism']\n",
      " ['check_date']\n",
      " ['collection_times']\n",
      " ['operator']\n",
      " ['addr']\n",
      " ['fuel']\n",
      " ['phone']\n",
      " ['maxspeed']\n",
      " ['recycling']\n",
      " ['recycling_type']\n",
      " ['man_made']\n",
      " ['start_date']\n",
      " ['website']\n",
      " ['fence_type']\n",
      " ['contact']\n",
      " ['parking']\n",
      " ['access']\n",
      " ['playground']\n",
      " ['emergency']\n",
      " ['fire_hydrant']\n",
      " ['bench']\n",
      " ['waste_basket']\n",
      " ['bin']\n",
      " ['entrance']\n",
      " ['noexit']\n",
      " ['water_tank']\n",
      " ['waste']\n",
      " ['building']\n",
      " ['bicycle_parking']\n",
      " ['generator']\n",
      " ['traffic_signals']\n",
      " ['historic']\n",
      " ['inscription']\n",
      " ['memorial']\n",
      " ['material']\n",
      " ['smoking']\n",
      " ['toilets']\n",
      " ['local_ref']\n",
      " ['train']\n",
      " ['craft']\n",
      " ['supervised']\n",
      " ['natural']\n",
      " ['cuisine']\n",
      " ['level']\n",
      " ['takeaway']\n",
      " ['organic']\n",
      " ['golf']\n",
      " ['water_source']\n",
      " ['ele']]\n"
     ]
    }
   ],
   "source": [
    "sqlQuery = 'SELECT DISTINCT nodes_tags.type \\\n",
    "          FROM nodes_tags;'\n",
    "df = pd.read_sql(sqlQuery, conn)\n",
    "print(df.values)"
   ]
  },
  {
   "cell_type": "markdown",
   "metadata": {},
   "source": [
    "## What about fire protection?"
   ]
  },
  {
   "cell_type": "markdown",
   "metadata": {},
   "source": [
    "The type 'water_hydrant' can be interessing to see."
   ]
  },
  {
   "cell_type": "code",
   "execution_count": 16,
   "metadata": {
    "ExecuteTime": {
     "end_time": "2018-09-24T19:41:27.797284Z",
     "start_time": "2018-09-24T19:41:27.684786Z"
    },
    "collapsed": false
   },
   "outputs": [
    {
     "name": "stdout",
     "output_type": "stream",
     "text": [
      "There are 139 fire hydrant in the database\n"
     ]
    }
   ],
   "source": [
    "c.execute('SELECT count(type) \\\n",
    "          FROM nodes_tags \\\n",
    "          WHERE type == \\'fire_hydrant\\' AND nodes_tags.key = \\'type\\';')\n",
    "print('There are {} fire hydrant in the database'.format(c.fetchall()[0][0]))"
   ]
  },
  {
   "cell_type": "markdown",
   "metadata": {},
   "source": [
    "It should be possible to see their location. We can extract their position in latitude and longitude from the nodes table.\n",
    "\n",
    "Displaying only the position it is hard to really see. We will extract also the ways and the name of the places.\n",
    "\n",
    "*Note: For performance reason, the map can take some times to be generated. It is possible to deactivate the generation of the ways by setting the parameter 'plotWays' to False. The parameter 'plotPlace' can also be set to False but it not improve the performance just the visualization.*"
   ]
  },
  {
   "cell_type": "code",
   "execution_count": 17,
   "metadata": {
    "collapsed": false
   },
   "outputs": [],
   "source": [
    "def plotMap(plotWays = True, plotPlaces = True):\n",
    "    # Extraction of the ways.\n",
    "    if plotWays:\n",
    "        sqlQuery = 'SELECT ways_nodes.id, ways_nodes.position, nodes.lat, nodes.lon \\\n",
    "              FROM ways_nodes \\\n",
    "              JOIN nodes \\\n",
    "              WHERE ways_nodes.node_id = nodes.id;'\n",
    "        df = pd.read_sql(sqlQuery, conn)\n",
    "        wayList = df['id'].unique()\n",
    "        for way in wayList:\n",
    "            singleWay = df[df['id'] == way].sort_values(by = ['position'])\n",
    "            plt.plot(singleWay['lon'], singleWay['lat'], c='k', alpha=0.3)\n",
    "    \n",
    "    # Extraction of the name of the place.\n",
    "    # For that a self join is needed because the name of the place separate from the type.\n",
    "    # Also in name are given in German and Plattdeutsch. Only the German name should be selected\n",
    "    # (it is the reason of the 'B.key IS NULL')\n",
    "    if plotPlaces:\n",
    "        sqlQuery = 'SELECT B.value, nodes.lat, nodes.lon \\\n",
    "              FROM nodes_tags A, nodes_tags B \\\n",
    "              JOIN nodes \\\n",
    "              ON nodes.id = A.id \\\n",
    "              WHERE A.type = \\'place\\' \\\n",
    "              AND B.type = \\'name\\' AND B.key IS NULL\\\n",
    "              AND A.id = B.id;'\n",
    "        df = pd.read_sql(sqlQuery, conn)\n",
    "        for i in range(df.shape[0]):\n",
    "            plt.annotate(df.iloc[i]['value'], xy=(df.iloc[i]['lon'], df.iloc[i]['lat']), fontsize=15)"
   ]
  },
  {
   "cell_type": "code",
   "execution_count": 18,
   "metadata": {
    "ExecuteTime": {
     "end_time": "2018-09-24T19:41:29.434489Z",
     "start_time": "2018-09-24T19:41:29.246797Z"
    },
    "collapsed": false
   },
   "outputs": [
    {
     "data": {
      "image/png": "[encoded data removed]",
      "text/plain": [
       "<matplotlib.figure.Figure at 0xa6fa9b0>"
      ]
     },
     "metadata": {},
     "output_type": "display_data"
    }
   ],
   "source": [
    "# Extract all Fire_hydrant with their latitude and longitude\n",
    "sqlQuery = 'SELECT nodes.lat, nodes.lon, nodes_tags.type, nodes_tags.key, nodes_tags.value \\\n",
    "          FROM nodes \\\n",
    "          JOIN nodes_tags ON nodes.id = nodes_tags.id \\\n",
    "          WHERE nodes_tags.type == \\'fire_hydrant\\' AND nodes_tags.key = \\'type\\';'\n",
    "df = pd.read_sql(sqlQuery, conn)\n",
    "\n",
    "\n",
    "plt.figure(num=None, figsize=(20, 15), dpi=80, facecolor='w', edgecolor='k')  \n",
    "plotMap(plotWays = False)\n",
    "plt.title('Position of fire hydrants', fontdict={'fontsize': 30})\n",
    "plt.xlabel('Longitude', fontdict={'fontsize': 20})\n",
    "plt.ylabel('Latitude', fontdict={'fontsize': 20})\n",
    "plt.scatter(df['lon'], df['lat'], marker='x', s=70, c='r', alpha=0.9)\n",
    "plt.show()"
   ]
  },
  {
   "cell_type": "markdown",
   "metadata": {},
   "source": [
    "## Check of the name of the objects"
   ]
  },
  {
   "cell_type": "markdown",
   "metadata": {},
   "source": [
    "A quality check of the naming has to be done."
   ]
  },
  {
   "cell_type": "code",
   "execution_count": 19,
   "metadata": {
    "ExecuteTime": {
     "end_time": "2018-09-24T19:41:29.550309Z",
     "start_time": "2018-09-24T19:41:29.436028Z"
    },
    "collapsed": false
   },
   "outputs": [
    {
     "data": {
      "text/html": [
       "<div>\n",
       "<table border=\"1\" class=\"dataframe\">\n",
       "  <thead>\n",
       "    <tr style=\"text-align: right;\">\n",
       "      <th></th>\n",
       "      <th>value</th>\n",
       "    </tr>\n",
       "  </thead>\n",
       "  <tbody>\n",
       "    <tr>\n",
       "      <th>0</th>\n",
       "      <td>Zum Lehmfeld</td>\n",
       "    </tr>\n",
       "    <tr>\n",
       "      <th>1</th>\n",
       "      <td>Am Dorfteich</td>\n",
       "    </tr>\n",
       "    <tr>\n",
       "      <th>2</th>\n",
       "      <td>Zum Schlüsselberg</td>\n",
       "    </tr>\n",
       "    <tr>\n",
       "      <th>3</th>\n",
       "      <td>Ovelgönner Straße</td>\n",
       "    </tr>\n",
       "    <tr>\n",
       "      <th>4</th>\n",
       "      <td>Am Jehrdenberg</td>\n",
       "    </tr>\n",
       "    <tr>\n",
       "      <th>5</th>\n",
       "      <td>Grauener Weg</td>\n",
       "    </tr>\n",
       "    <tr>\n",
       "      <th>6</th>\n",
       "      <td>Fliegenmoor</td>\n",
       "    </tr>\n",
       "    <tr>\n",
       "      <th>7</th>\n",
       "      <td>Ardestorfer Weg</td>\n",
       "    </tr>\n",
       "    <tr>\n",
       "      <th>8</th>\n",
       "      <td>Inne Beek</td>\n",
       "    </tr>\n",
       "    <tr>\n",
       "      <th>9</th>\n",
       "      <td>Schaffeld</td>\n",
       "    </tr>\n",
       "    <tr>\n",
       "      <th>10</th>\n",
       "      <td>Eckdahl</td>\n",
       "    </tr>\n",
       "    <tr>\n",
       "      <th>11</th>\n",
       "      <td>Lurup</td>\n",
       "    </tr>\n",
       "    <tr>\n",
       "      <th>12</th>\n",
       "      <td>Apensener Straße</td>\n",
       "    </tr>\n",
       "    <tr>\n",
       "      <th>13</th>\n",
       "      <td>Beim Kloster Dohren</td>\n",
       "    </tr>\n",
       "    <tr>\n",
       "      <th>14</th>\n",
       "      <td>Henrikweg</td>\n",
       "    </tr>\n",
       "    <tr>\n",
       "      <th>15</th>\n",
       "      <td>Floriastraße</td>\n",
       "    </tr>\n",
       "    <tr>\n",
       "      <th>16</th>\n",
       "      <td>Gerlachweg</td>\n",
       "    </tr>\n",
       "    <tr>\n",
       "      <th>17</th>\n",
       "      <td>Am Dornbusch</td>\n",
       "    </tr>\n",
       "    <tr>\n",
       "      <th>18</th>\n",
       "      <td>Am Steingrab</td>\n",
       "    </tr>\n",
       "    <tr>\n",
       "      <th>19</th>\n",
       "      <td>Lüdenstorfer Feld</td>\n",
       "    </tr>\n",
       "    <tr>\n",
       "      <th>20</th>\n",
       "      <td>Delmer Bogen</td>\n",
       "    </tr>\n",
       "    <tr>\n",
       "      <th>21</th>\n",
       "      <td>Alte Trift</td>\n",
       "    </tr>\n",
       "    <tr>\n",
       "      <th>22</th>\n",
       "      <td>Beim Soll</td>\n",
       "    </tr>\n",
       "    <tr>\n",
       "      <th>23</th>\n",
       "      <td>Im Hülsenbusch</td>\n",
       "    </tr>\n",
       "    <tr>\n",
       "      <th>24</th>\n",
       "      <td>Ohkamp</td>\n",
       "    </tr>\n",
       "    <tr>\n",
       "      <th>25</th>\n",
       "      <td>Spindelkamp</td>\n",
       "    </tr>\n",
       "    <tr>\n",
       "      <th>26</th>\n",
       "      <td>Beim Urnenfeld</td>\n",
       "    </tr>\n",
       "    <tr>\n",
       "      <th>27</th>\n",
       "      <td>Torfweg</td>\n",
       "    </tr>\n",
       "    <tr>\n",
       "      <th>28</th>\n",
       "      <td>Heideweg</td>\n",
       "    </tr>\n",
       "    <tr>\n",
       "      <th>29</th>\n",
       "      <td>Habichtstraße</td>\n",
       "    </tr>\n",
       "    <tr>\n",
       "      <th>...</th>\n",
       "      <td>...</td>\n",
       "    </tr>\n",
       "    <tr>\n",
       "      <th>65</th>\n",
       "      <td>Eilendorfer Weg</td>\n",
       "    </tr>\n",
       "    <tr>\n",
       "      <th>66</th>\n",
       "      <td>Klosterfeldstraße</td>\n",
       "    </tr>\n",
       "    <tr>\n",
       "      <th>67</th>\n",
       "      <td>Kranichweg</td>\n",
       "    </tr>\n",
       "    <tr>\n",
       "      <th>68</th>\n",
       "      <td>Daenser Weg</td>\n",
       "    </tr>\n",
       "    <tr>\n",
       "      <th>69</th>\n",
       "      <td>Zum Baaksberg</td>\n",
       "    </tr>\n",
       "    <tr>\n",
       "      <th>70</th>\n",
       "      <td>Koppelstieg</td>\n",
       "    </tr>\n",
       "    <tr>\n",
       "      <th>71</th>\n",
       "      <td>Am Bahnhof Ottensen</td>\n",
       "    </tr>\n",
       "    <tr>\n",
       "      <th>72</th>\n",
       "      <td>Buxtehuder Straße</td>\n",
       "    </tr>\n",
       "    <tr>\n",
       "      <th>73</th>\n",
       "      <td>Kasperstraße</td>\n",
       "    </tr>\n",
       "    <tr>\n",
       "      <th>74</th>\n",
       "      <td>Dorfstraße</td>\n",
       "    </tr>\n",
       "    <tr>\n",
       "      <th>75</th>\n",
       "      <td>Kutschers Weg</td>\n",
       "    </tr>\n",
       "    <tr>\n",
       "      <th>76</th>\n",
       "      <td>Auf dem Knüll</td>\n",
       "    </tr>\n",
       "    <tr>\n",
       "      <th>77</th>\n",
       "      <td>Zur Vilsenheide</td>\n",
       "    </tr>\n",
       "    <tr>\n",
       "      <th>78</th>\n",
       "      <td>Auf dem Berge</td>\n",
       "    </tr>\n",
       "    <tr>\n",
       "      <th>79</th>\n",
       "      <td>Karkenstieg</td>\n",
       "    </tr>\n",
       "    <tr>\n",
       "      <th>80</th>\n",
       "      <td>Teichstraße</td>\n",
       "    </tr>\n",
       "    <tr>\n",
       "      <th>81</th>\n",
       "      <td>Am Hexenberg</td>\n",
       "    </tr>\n",
       "    <tr>\n",
       "      <th>82</th>\n",
       "      <td>Merianblick</td>\n",
       "    </tr>\n",
       "    <tr>\n",
       "      <th>83</th>\n",
       "      <td>Paaschbarg</td>\n",
       "    </tr>\n",
       "    <tr>\n",
       "      <th>84</th>\n",
       "      <td>Catharina-Gerkens-Weg</td>\n",
       "    </tr>\n",
       "    <tr>\n",
       "      <th>85</th>\n",
       "      <td>Sünnslag</td>\n",
       "    </tr>\n",
       "    <tr>\n",
       "      <th>86</th>\n",
       "      <td>Hemberg</td>\n",
       "    </tr>\n",
       "    <tr>\n",
       "      <th>87</th>\n",
       "      <td>Birkenhang</td>\n",
       "    </tr>\n",
       "    <tr>\n",
       "      <th>88</th>\n",
       "      <td>Rehwinkel</td>\n",
       "    </tr>\n",
       "    <tr>\n",
       "      <th>89</th>\n",
       "      <td>Bergfeld</td>\n",
       "    </tr>\n",
       "    <tr>\n",
       "      <th>90</th>\n",
       "      <td>Nindorfer Weg</td>\n",
       "    </tr>\n",
       "    <tr>\n",
       "      <th>91</th>\n",
       "      <td>Obstwiese</td>\n",
       "    </tr>\n",
       "    <tr>\n",
       "      <th>92</th>\n",
       "      <td>Am Rütersberg</td>\n",
       "    </tr>\n",
       "    <tr>\n",
       "      <th>93</th>\n",
       "      <td>Am Kuhhof</td>\n",
       "    </tr>\n",
       "    <tr>\n",
       "      <th>94</th>\n",
       "      <td>Ornsweg</td>\n",
       "    </tr>\n",
       "  </tbody>\n",
       "</table>\n",
       "<p>95 rows × 1 columns</p>\n",
       "</div>"
      ],
      "text/plain": [
       "                    value\n",
       "0            Zum Lehmfeld\n",
       "1            Am Dorfteich\n",
       "2       Zum Schlüsselberg\n",
       "3       Ovelgönner Straße\n",
       "4          Am Jehrdenberg\n",
       "5            Grauener Weg\n",
       "6             Fliegenmoor\n",
       "7         Ardestorfer Weg\n",
       "8               Inne Beek\n",
       "9               Schaffeld\n",
       "10                Eckdahl\n",
       "11                  Lurup\n",
       "12       Apensener Straße\n",
       "13    Beim Kloster Dohren\n",
       "14              Henrikweg\n",
       "15           Floriastraße\n",
       "16             Gerlachweg\n",
       "17           Am Dornbusch\n",
       "18           Am Steingrab\n",
       "19      Lüdenstorfer Feld\n",
       "20           Delmer Bogen\n",
       "21             Alte Trift\n",
       "22              Beim Soll\n",
       "23         Im Hülsenbusch\n",
       "24                 Ohkamp\n",
       "25            Spindelkamp\n",
       "26         Beim Urnenfeld\n",
       "27                Torfweg\n",
       "28               Heideweg\n",
       "29          Habichtstraße\n",
       "..                    ...\n",
       "65        Eilendorfer Weg\n",
       "66      Klosterfeldstraße\n",
       "67             Kranichweg\n",
       "68            Daenser Weg\n",
       "69          Zum Baaksberg\n",
       "70            Koppelstieg\n",
       "71    Am Bahnhof Ottensen\n",
       "72      Buxtehuder Straße\n",
       "73           Kasperstraße\n",
       "74             Dorfstraße\n",
       "75          Kutschers Weg\n",
       "76          Auf dem Knüll\n",
       "77        Zur Vilsenheide\n",
       "78          Auf dem Berge\n",
       "79            Karkenstieg\n",
       "80            Teichstraße\n",
       "81           Am Hexenberg\n",
       "82            Merianblick\n",
       "83             Paaschbarg\n",
       "84  Catharina-Gerkens-Weg\n",
       "85               Sünnslag\n",
       "86                Hemberg\n",
       "87             Birkenhang\n",
       "88              Rehwinkel\n",
       "89               Bergfeld\n",
       "90          Nindorfer Weg\n",
       "91              Obstwiese\n",
       "92          Am Rütersberg\n",
       "93              Am Kuhhof\n",
       "94                Ornsweg\n",
       "\n",
       "[95 rows x 1 columns]"
      ]
     },
     "execution_count": 19,
     "metadata": {},
     "output_type": "execute_result"
    }
   ],
   "source": [
    "sqlQuery = 'SELECT DISTINCT value FROM ways_tags WHERE type == \\'addr\\' AND key=\\'street\\''\n",
    "names = pd.read_sql(sqlQuery, conn)\n",
    "names"
   ]
  },
  {
   "cell_type": "markdown",
   "metadata": {},
   "source": [
    "In Germany the  naming convention of the street is quite tricky. Some street have only one word for some others Straße or Weg are separated and some other contains some hyphens. The rule is as the following:\n",
    "- The standard id to name the ways or place with one word. (Like 'Torfweg' or 'Falkenstraße')\n",
    "- If the name refers to a person and this name is only one word, the name will be written in one word (e.g. Goethestraße)\n",
    "- If the name refers to a person and this name is composed by several words, the name will be written in several words but separate by an hypen (e.g. 'Catharina-Gerkens-Weg')\n",
    "- If the name refer to a place, it will be written in several words (e.g. 'Buxtehuder Straße')\n",
    "- If the name refer to a quality (straight, blue...), it will be written in several words (e.g. 'Blauer Weg', 'Alter Platz')\n",
    "\n",
    "In Germany, the name of the street are often written as \"str\" instead of 'Straße' (e.g. 'Landstr.')\n",
    "\n",
    "To verify all this rules a dictionary will be needed. This is out of scope of this project but can be taken for improvements."
   ]
  },
  {
   "cell_type": "markdown",
   "metadata": {},
   "source": [
    "What can be done is:\n",
    "- Check the extention of the street name ('Straße' and not 'Str.') (Can be done automaticaly)\n",
    "- Correctness of the hyphenation (should be done manually)\n",
    "- Check of name if refers to a place (it will end by 'er'). (should be done partily manually)"
   ]
  },
  {
   "cell_type": "markdown",
   "metadata": {},
   "source": [
    "### Check of the extentions"
   ]
  },
  {
   "cell_type": "markdown",
   "metadata": {},
   "source": [
    "The name of the streets must be ' Straße' or '\\*straße' and not ' Str. or '\\*str.'"
   ]
  },
  {
   "cell_type": "code",
   "execution_count": 45,
   "metadata": {
    "collapsed": false
   },
   "outputs": [
    {
     "data": {
      "text/html": [
       "<div>\n",
       "<table border=\"1\" class=\"dataframe\">\n",
       "  <thead>\n",
       "    <tr style=\"text-align: right;\">\n",
       "      <th></th>\n",
       "      <th>value</th>\n",
       "    </tr>\n",
       "  </thead>\n",
       "  <tbody>\n",
       "  </tbody>\n",
       "</table>\n",
       "</div>"
      ],
      "text/plain": [
       "Empty DataFrame\n",
       "Columns: [value]\n",
       "Index: []"
      ]
     },
     "execution_count": 45,
     "metadata": {},
     "output_type": "execute_result"
    }
   ],
   "source": [
    "names[names.value.str.match('.* ?[sS]tr\\.?$')]"
   ]
  },
  {
   "cell_type": "markdown",
   "metadata": {},
   "source": [
    "No result. It seems that all Straße are corectly spelled."
   ]
  },
  {
   "cell_type": "markdown",
   "metadata": {},
   "source": [
    "### Check the correctness of the hyphenation"
   ]
  },
  {
   "cell_type": "markdown",
   "metadata": {},
   "source": [
    "The check is to see if some name are composed by only two words or not composed by a name of a person."
   ]
  },
  {
   "cell_type": "code",
   "execution_count": 47,
   "metadata": {
    "collapsed": false
   },
   "outputs": [
    {
     "data": {
      "text/html": [
       "<div>\n",
       "<table border=\"1\" class=\"dataframe\">\n",
       "  <thead>\n",
       "    <tr style=\"text-align: right;\">\n",
       "      <th></th>\n",
       "      <th>value</th>\n",
       "    </tr>\n",
       "  </thead>\n",
       "  <tbody>\n",
       "    <tr>\n",
       "      <th>38</th>\n",
       "      <td>Fritz-Ehlers-Weg</td>\n",
       "    </tr>\n",
       "    <tr>\n",
       "      <th>41</th>\n",
       "      <td>Claus-Dammann-Weg</td>\n",
       "    </tr>\n",
       "    <tr>\n",
       "      <th>54</th>\n",
       "      <td>Carl-Zeiss-Straße</td>\n",
       "    </tr>\n",
       "    <tr>\n",
       "      <th>84</th>\n",
       "      <td>Catharina-Gerkens-Weg</td>\n",
       "    </tr>\n",
       "  </tbody>\n",
       "</table>\n",
       "</div>"
      ],
      "text/plain": [
       "                    value\n",
       "38       Fritz-Ehlers-Weg\n",
       "41      Claus-Dammann-Weg\n",
       "54      Carl-Zeiss-Straße\n",
       "84  Catharina-Gerkens-Weg"
      ]
     },
     "execution_count": 47,
     "metadata": {},
     "output_type": "execute_result"
    }
   ],
   "source": [
    "names[names.value.str.match('\\w+\\-')]"
   ]
  },
  {
   "cell_type": "markdown",
   "metadata": {},
   "source": [
    "All are named from People and are composed by several words. It is all correct."
   ]
  },
  {
   "cell_type": "markdown",
   "metadata": {},
   "source": [
    "### Check the correctness of the name composed by a place"
   ]
  },
  {
   "cell_type": "markdown",
   "metadata": {},
   "source": [
    "The name of the place are in general ended by 'er'. The name should be like 'Buxtehuder Straße'. All name composed by *erstraße, *erweg or *erplatz are suspect and should be verified."
   ]
  },
  {
   "cell_type": "code",
   "execution_count": 50,
   "metadata": {
    "collapsed": false
   },
   "outputs": [
    {
     "data": {
      "text/html": [
       "<div>\n",
       "<table border=\"1\" class=\"dataframe\">\n",
       "  <thead>\n",
       "    <tr style=\"text-align: right;\">\n",
       "      <th></th>\n",
       "      <th>value</th>\n",
       "    </tr>\n",
       "  </thead>\n",
       "  <tbody>\n",
       "    <tr>\n",
       "      <th>3</th>\n",
       "      <td>Ovelgönner Straße</td>\n",
       "    </tr>\n",
       "    <tr>\n",
       "      <th>5</th>\n",
       "      <td>Grauener Weg</td>\n",
       "    </tr>\n",
       "    <tr>\n",
       "      <th>7</th>\n",
       "      <td>Ardestorfer Weg</td>\n",
       "    </tr>\n",
       "    <tr>\n",
       "      <th>12</th>\n",
       "      <td>Apensener Straße</td>\n",
       "    </tr>\n",
       "    <tr>\n",
       "      <th>13</th>\n",
       "      <td>Beim Kloster Dohren</td>\n",
       "    </tr>\n",
       "    <tr>\n",
       "      <th>19</th>\n",
       "      <td>Lüdenstorfer Feld</td>\n",
       "    </tr>\n",
       "    <tr>\n",
       "      <th>20</th>\n",
       "      <td>Delmer Bogen</td>\n",
       "    </tr>\n",
       "    <tr>\n",
       "      <th>39</th>\n",
       "      <td>Nindorfer Straße</td>\n",
       "    </tr>\n",
       "    <tr>\n",
       "      <th>45</th>\n",
       "      <td>Heimbrucher Straße</td>\n",
       "    </tr>\n",
       "    <tr>\n",
       "      <th>51</th>\n",
       "      <td>Moisburger Landstraße</td>\n",
       "    </tr>\n",
       "    <tr>\n",
       "      <th>52</th>\n",
       "      <td>Hamburger Chaussee</td>\n",
       "    </tr>\n",
       "    <tr>\n",
       "      <th>55</th>\n",
       "      <td>Immenbecker Moorweg</td>\n",
       "    </tr>\n",
       "    <tr>\n",
       "      <th>56</th>\n",
       "      <td>Harburger Straße</td>\n",
       "    </tr>\n",
       "    <tr>\n",
       "      <th>57</th>\n",
       "      <td>Eilendorfer Moorweg</td>\n",
       "    </tr>\n",
       "    <tr>\n",
       "      <th>65</th>\n",
       "      <td>Eilendorfer Weg</td>\n",
       "    </tr>\n",
       "    <tr>\n",
       "      <th>68</th>\n",
       "      <td>Daenser Weg</td>\n",
       "    </tr>\n",
       "    <tr>\n",
       "      <th>72</th>\n",
       "      <td>Buxtehuder Straße</td>\n",
       "    </tr>\n",
       "    <tr>\n",
       "      <th>90</th>\n",
       "      <td>Nindorfer Weg</td>\n",
       "    </tr>\n",
       "  </tbody>\n",
       "</table>\n",
       "</div>"
      ],
      "text/plain": [
       "                    value\n",
       "3       Ovelgönner Straße\n",
       "5            Grauener Weg\n",
       "7         Ardestorfer Weg\n",
       "12       Apensener Straße\n",
       "13    Beim Kloster Dohren\n",
       "19      Lüdenstorfer Feld\n",
       "20           Delmer Bogen\n",
       "39       Nindorfer Straße\n",
       "45     Heimbrucher Straße\n",
       "51  Moisburger Landstraße\n",
       "52     Hamburger Chaussee\n",
       "55    Immenbecker Moorweg\n",
       "56       Harburger Straße\n",
       "57    Eilendorfer Moorweg\n",
       "65        Eilendorfer Weg\n",
       "68            Daenser Weg\n",
       "72      Buxtehuder Straße\n",
       "90          Nindorfer Weg"
      ]
     },
     "execution_count": 50,
     "metadata": {},
     "output_type": "execute_result"
    }
   ],
   "source": [
    "names[names.value.str.match('.*er .*$')]"
   ]
  },
  {
   "cell_type": "code",
   "execution_count": 70,
   "metadata": {
    "collapsed": false
   },
   "outputs": [
    {
     "data": {
      "text/html": [
       "<div>\n",
       "<table border=\"1\" class=\"dataframe\">\n",
       "  <thead>\n",
       "    <tr style=\"text-align: right;\">\n",
       "      <th></th>\n",
       "      <th>value</th>\n",
       "    </tr>\n",
       "  </thead>\n",
       "  <tbody>\n",
       "    <tr>\n",
       "      <th>73</th>\n",
       "      <td>Kasperstraße</td>\n",
       "    </tr>\n",
       "  </tbody>\n",
       "</table>\n",
       "</div>"
      ],
      "text/plain": [
       "           value\n",
       "73  Kasperstraße"
      ]
     },
     "execution_count": 70,
     "metadata": {},
     "output_type": "execute_result"
    }
   ],
   "source": [
    "names[names.value.str.match('.*er(?:str|weg|platz).*$')]"
   ]
  },
  {
   "cell_type": "markdown",
   "metadata": {},
   "source": [
    "## Correction of values in the database"
   ]
  },
  {
   "cell_type": "markdown",
   "metadata": {},
   "source": [
    "As we see the quality of the data are quite good. There is nothing to really correct.\n",
    "\n",
    "As example we will merge the name contains Straße. It is wring but this can be usefull in the futur, if a better error detection algorythm is available."
   ]
  },
  {
   "cell_type": "markdown",
   "metadata": {},
   "source": [
    "First we can extract the name of the street we want to change (this can be given by an algorithm which check the error with a dictionary)"
   ]
  },
  {
   "cell_type": "code",
   "execution_count": 135,
   "metadata": {
    "collapsed": false
   },
   "outputs": [
    {
     "data": {
      "text/html": [
       "<div>\n",
       "<table border=\"1\" class=\"dataframe\">\n",
       "  <thead>\n",
       "    <tr style=\"text-align: right;\">\n",
       "      <th></th>\n",
       "      <th>value</th>\n",
       "    </tr>\n",
       "  </thead>\n",
       "  <tbody>\n",
       "    <tr>\n",
       "      <th>3</th>\n",
       "      <td>Ovelgönner Straße</td>\n",
       "    </tr>\n",
       "    <tr>\n",
       "      <th>12</th>\n",
       "      <td>Apensener Straße</td>\n",
       "    </tr>\n",
       "    <tr>\n",
       "      <th>39</th>\n",
       "      <td>Nindorfer Straße</td>\n",
       "    </tr>\n",
       "    <tr>\n",
       "      <th>45</th>\n",
       "      <td>Heimbrucher Straße</td>\n",
       "    </tr>\n",
       "    <tr>\n",
       "      <th>56</th>\n",
       "      <td>Harburger Straße</td>\n",
       "    </tr>\n",
       "    <tr>\n",
       "      <th>72</th>\n",
       "      <td>Buxtehuder Straße</td>\n",
       "    </tr>\n",
       "  </tbody>\n",
       "</table>\n",
       "</div>"
      ],
      "text/plain": [
       "                 value\n",
       "3    Ovelgönner Straße\n",
       "12    Apensener Straße\n",
       "39    Nindorfer Straße\n",
       "45  Heimbrucher Straße\n",
       "56    Harburger Straße\n",
       "72   Buxtehuder Straße"
      ]
     },
     "execution_count": 135,
     "metadata": {},
     "output_type": "execute_result"
    }
   ],
   "source": [
    "originalNames = names[names.value.str.match('.*er Straße$')]\n",
    "originalNames"
   ]
  },
  {
   "cell_type": "markdown",
   "metadata": {},
   "source": [
    "Change a the values"
   ]
  },
  {
   "cell_type": "code",
   "execution_count": 136,
   "metadata": {
    "collapsed": false
   },
   "outputs": [],
   "source": [
    "def glueName(name):\n",
    "    name = name.split(' ')\n",
    "    return ''.join(name[0:-1]) + 'straße'\n",
    "\n"
   ]
  },
  {
   "cell_type": "code",
   "execution_count": 139,
   "metadata": {
    "collapsed": false
   },
   "outputs": [],
   "source": [
    "newNames = originalNames['value'].apply(glueName).values.flatten()"
   ]
  },
  {
   "cell_type": "code",
   "execution_count": 140,
   "metadata": {
    "collapsed": false
   },
   "outputs": [
    {
     "data": {
      "text/plain": [
       "array(['Ovelgönnerstraße', 'Apensenerstraße', 'Nindorferstraße',\n",
       "       'Heimbrucherstraße', 'Harburgerstraße', 'Buxtehuderstraße'], dtype=object)"
      ]
     },
     "execution_count": 140,
     "metadata": {},
     "output_type": "execute_result"
    }
   ],
   "source": [
    "newNames"
   ]
  },
  {
   "cell_type": "code",
   "execution_count": 143,
   "metadata": {
    "collapsed": false
   },
   "outputs": [
    {
     "name": "stdout",
     "output_type": "stream",
     "text": [
      "UPDATE ways_tags SET value = 'Ovelgönnerstraße' WHERE value = 'Ovelgönner Straße'\n",
      "UPDATE ways_tags SET value = 'Apensenerstraße' WHERE value = 'Apensener Straße'\n",
      "UPDATE ways_tags SET value = 'Nindorferstraße' WHERE value = 'Nindorfer Straße'\n",
      "UPDATE ways_tags SET value = 'Heimbrucherstraße' WHERE value = 'Heimbrucher Straße'\n",
      "UPDATE ways_tags SET value = 'Harburgerstraße' WHERE value = 'Harburger Straße'\n",
      "UPDATE ways_tags SET value = 'Buxtehuderstraße' WHERE value = 'Buxtehuder Straße'\n"
     ]
    }
   ],
   "source": [
    "sqlUpdateRequest = 'UPDATE ways_tags SET value = \\'{}\\' WHERE value = \\'{}\\''\n",
    "for i in range(len(originalNames['value'].values.flatten())):\n",
    "    print(sqlUpdateRequest.format(newNames[i], originalNames['value'].values.flatten()[i]))"
   ]
  },
  {
   "cell_type": "markdown",
   "metadata": {},
   "source": [
    "# Close the database"
   ]
  },
  {
   "cell_type": "markdown",
   "metadata": {},
   "source": [
    "Now the database connection can be closed."
   ]
  },
  {
   "cell_type": "code",
   "execution_count": 20,
   "metadata": {
    "ExecuteTime": {
     "end_time": "2018-09-24T19:41:29.556882Z",
     "start_time": "2018-09-24T19:41:29.551787Z"
    },
    "collapsed": true
   },
   "outputs": [],
   "source": [
    "conn.close()"
   ]
  },
  {
   "cell_type": "markdown",
   "metadata": {},
   "source": [
    "# Possible improvment"
   ]
  },
  {
   "cell_type": "markdown",
   "metadata": {},
   "source": [
    "- Check the name of the place with a dicionnary.\n",
    "- Add better data visulatzation to see the repatition of the objects"
   ]
  },
  {
   "cell_type": "code",
   "execution_count": null,
   "metadata": {
    "collapsed": true
   },
   "outputs": [],
   "source": []
  }
 ],
 "metadata": {
  "kernelspec": {
   "display_name": "Python 3",
   "language": "python",
   "name": "python3"
  },
  "language_info": {
   "codemirror_mode": {
    "name": "ipython",
    "version": 3
   },
   "file_extension": ".py",
   "mimetype": "text/x-python",
   "name": "python",
   "nbconvert_exporter": "python",
   "pygments_lexer": "ipython3",
   "version": "3.6.0"
  },
  "toc": {
   "nav_menu": {},
   "number_sections": true,
   "sideBar": true,
   "skip_h1_title": false,
   "title_cell": "Table of Contents",
   "title_sidebar": "Contents",
   "toc_cell": false,
   "toc_position": {},
   "toc_section_display": true,
   "toc_window_display": false
  },
  "varInspector": {
   "cols": {
    "lenName": 16,
    "lenType": 16,
    "lenVar": 40
   },
   "kernels_config": {
    "python": {
     "delete_cmd_postfix": "",
     "delete_cmd_prefix": "del ",
     "library": "var_list.py",
     "varRefreshCmd": "print(var_dic_list())"
    },
    "r": {
     "delete_cmd_postfix": ") ",
     "delete_cmd_prefix": "rm(",
     "library": "var_list.r",
     "varRefreshCmd": "cat(var_dic_list()) "
    }
   },
   "types_to_exclude": [
    "module",
    "function",
    "builtin_function_or_method",
    "instance",
    "_Feature"
   ],
   "window_display": false
  }
 },
 "nbformat": 4,
 "nbformat_minor": 2
}
