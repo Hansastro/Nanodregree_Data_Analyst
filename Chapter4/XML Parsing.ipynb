{
 "cells": [
  {
   "cell_type": "code",
   "execution_count": 1,
   "metadata": {
    "collapsed": true
   },
   "outputs": [],
   "source": [
    "import xml.etree.ElementTree\n",
    "import re"
   ]
  },
  {
   "cell_type": "code",
   "execution_count": 2,
   "metadata": {
    "collapsed": false
   },
   "outputs": [],
   "source": [
    "e = xml.etree.ElementTree.parse('example.osm').getroot()"
   ]
  },
  {
   "cell_type": "code",
   "execution_count": 3,
   "metadata": {
    "collapsed": false
   },
   "outputs": [],
   "source": [
    "LOWER_COLON = re.compile(r'^([a-z]|_)+:([a-z]|_)+')\n",
    "PROBLEMCHARS = re.compile(r'[=\\+/&<>;\\'\"\\?%#$@\\,\\. \\t\\r\\n]')\n",
    "\n",
    "def parse_k(element):\n",
    "    #print(element)\n",
    "    type_ = ''\n",
    "    key = ''\n",
    "    \n",
    "    if PROBLEMCHARS.match(element):\n",
    "        print('Problem element {}'.format(element))\n",
    "        return '', ''\n",
    "    \n",
    "    pattern = re.compile('^([a-z_]+):(.*)$')\n",
    "    match = pattern.match(element) \n",
    "    if match:\n",
    "        type_ = match.group(1)\n",
    "        key = match.group(2)\n",
    "    else:\n",
    "        type_ = element\n",
    "        key = ''\n",
    "    return type_, key\n",
    "\n",
    "def getValues(element):\n",
    "    nodeAttribs = ['id', 'user', 'uid', 'version', 'lat', 'lon', 'timestamp', 'changeset']\n",
    "    wayAttribs = ['id', 'user', 'uid', 'version', 'timestamp', 'changeset']\n",
    "    node = {}\n",
    "    node_tags = []\n",
    "    node_tag = {}\n",
    "    nds_data = []\n",
    "    nd_data = {}\n",
    "    position = 0\n",
    "    \n",
    "    if element.tag == 'node':\n",
    "        selectedAttribs = nodeAttribs\n",
    "    else:\n",
    "        selectedAttribs = wayAttribs\n",
    "    \n",
    "    attribs = element.attrib\n",
    "    for i in selectedAttribs:\n",
    "        if i in ['id', 'uid', 'changeset']:\n",
    "            node[i] = int(attribs[i])\n",
    "        else:\n",
    "            node[i] = attribs[i]\n",
    "    position = 0\n",
    "    for t in element:\n",
    "        if t.tag == 'tag':\n",
    "            node_tag = {}\n",
    "            node_tag['id'] = node['id']\n",
    "            for i2 in t.attrib:\n",
    "                if i2 == 'k':\n",
    "                    type_, key = parse_k(t.attrib[i2])\n",
    "                    node_tag['type']= type_\n",
    "                    node_tag['key'] = key\n",
    "                else:\n",
    "                    if i2 == 'v':\n",
    "                        node_tag['value'] = t.attrib[i2]\n",
    "                    else:\n",
    "                        node_tag[i2] = t.attrib[i2]\n",
    "                node_tags.append(node_tag)\n",
    "        if t.tag == 'nd':\n",
    "            nd_data = {'id': node['id'], 'node_id': t.attrib['ref'], 'position':position}\n",
    "            nds_data.append(nd_data)\n",
    "                \n",
    "            position += 1\n",
    "        else:\n",
    "            pass\n",
    "\n",
    "    if element.tag == 'node':\n",
    "        return {'node':node, 'node_tags': node_tags}\n",
    "    else:\n",
    "        return {'way': node, 'way_nodes':nds_data, 'way_tags':node_tags}\n",
    "        \n",
    "            \n",
    "def parseElement(element):    \n",
    "    if element.tag == 'node':\n",
    "        return getValues(element)\n",
    "    elif element.tag == 'way':\n",
    "        return getValues(element)\n",
    "    else:\n",
    "        return {}\n",
    "        "
   ]
  },
  {
   "cell_type": "code",
   "execution_count": 4,
   "metadata": {
    "collapsed": false
   },
   "outputs": [
    {
     "name": "stdout",
     "output_type": "stream",
     "text": [
      "{'node': {'id': 261114295, 'user': 'bbmiller', 'uid': 451048, 'version': '7', 'lat': '41.9730791', 'lon': '-87.6866303', 'timestamp': '2012-03-28T18:31:23Z', 'changeset': 11129782}, 'node_tags': []}\n",
      "\n",
      "{'node': {'id': 261114296, 'user': 'bbmiller', 'uid': 451048, 'version': '6', 'lat': '41.9730416', 'lon': '-87.6878512', 'timestamp': '2011-06-15T17:04:54Z', 'changeset': 8448766}, 'node_tags': []}\n",
      "\n",
      "{'node': {'id': 261114299, 'user': 'bbmiller', 'uid': 451048, 'version': '5', 'lat': '41.9729565', 'lon': '-87.6939548', 'timestamp': '2011-06-29T14:14:14Z', 'changeset': 8581395}, 'node_tags': []}\n",
      "\n",
      "{'node': {'id': 261146436, 'user': 'bbmiller', 'uid': 451048, 'version': '5', 'lat': '41.9707380', 'lon': '-87.6976025', 'timestamp': '2011-06-29T14:14:14Z', 'changeset': 8581395}, 'node_tags': []}\n",
      "\n",
      "{'node': {'id': 261147304, 'user': 'bbmiller', 'uid': 451048, 'version': '7', 'lat': '41.9740068', 'lon': '-87.6988576', 'timestamp': '2011-06-29T14:14:15Z', 'changeset': 8581395}, 'node_tags': []}\n",
      "\n",
      "{'node': {'id': 261224274, 'user': 'bbmiller', 'uid': 451048, 'version': '5', 'lat': '41.9707656', 'lon': '-87.6938669', 'timestamp': '2011-06-29T14:14:14Z', 'changeset': 8581395}, 'node_tags': []}\n",
      "\n",
      "{'node': {'id': 293816175, 'user': 'bbmiller', 'uid': 451048, 'version': '47', 'lat': '41.9730154', 'lon': '-87.6890403', 'timestamp': '2011-06-15T16:55:37Z', 'changeset': 8448766}, 'node_tags': []}\n",
      "\n",
      "{'node': {'id': 305896090, 'user': 'Umbugbene', 'uid': 567034, 'version': '37', 'lat': '41.9749225', 'lon': '-87.6891198', 'timestamp': '2013-03-13T07:46:29Z', 'changeset': 15348240}, 'node_tags': []}\n",
      "\n",
      "{'node': {'id': 317636974, 'user': 'Umbugbene', 'uid': 567034, 'version': '12', 'lat': '41.9740292', 'lon': '-87.7012430', 'timestamp': '2013-03-13T08:02:56Z', 'changeset': 15348240}, 'node_tags': []}\n",
      "\n",
      "{'node': {'id': 317636971, 'user': 'Umbugbene', 'uid': 567034, 'version': '13', 'lat': '41.9740556', 'lon': '-87.6979712', 'timestamp': '2013-03-13T08:08:01Z', 'changeset': 15348240}, 'node_tags': []}\n",
      "\n",
      "{'node': {'id': 317637399, 'user': 'Umbugbene', 'uid': 567034, 'version': '2', 'lat': '41.9705609', 'lon': '-87.7012048', 'timestamp': '2013-02-05T22:43:49Z', 'changeset': 14927972}, 'node_tags': []}\n",
      "\n",
      "{'node': {'id': 317637398, 'user': 'Umbugbene', 'uid': 567034, 'version': '2', 'lat': '41.9706972', 'lon': '-87.7012109', 'timestamp': '2013-02-05T22:43:49Z', 'changeset': 14927972}, 'node_tags': []}\n",
      "\n",
      "{'node': {'id': 365214872, 'user': 'bbmiller', 'uid': 451048, 'version': '3', 'lat': '41.9731130', 'lon': '-87.6847998', 'timestamp': '2011-06-15T17:04:54Z', 'changeset': 8448766}, 'node_tags': []}\n",
      "\n",
      "{'node': {'id': 261299091, 'user': 'bbmiller', 'uid': 451048, 'version': '6', 'lat': '41.9747482', 'lon': '-87.6988886', 'timestamp': '2011-06-29T14:14:15Z', 'changeset': 8581395}, 'node_tags': []}\n",
      "\n",
      "{'node': {'id': 261114294, 'user': 'bbmiller', 'uid': 451048, 'version': '6', 'lat': '41.9731219', 'lon': '-87.6841979', 'timestamp': '2011-06-15T17:04:54Z', 'changeset': 8448766}, 'node_tags': []}\n",
      "\n",
      "{'node': {'id': 261210804, 'user': 'woodpeck_fixbot', 'uid': 147510, 'version': '4', 'lat': '41.9707217', 'lon': '-87.7000019', 'timestamp': '2009-12-13T00:36:09Z', 'changeset': 3359748}, 'node_tags': []}\n",
      "\n",
      "{'node': {'id': 261221422, 'user': 'bbmiller', 'uid': 451048, 'version': '7', 'lat': '41.9748542', 'lon': '-87.6922652', 'timestamp': '2011-06-29T14:14:15Z', 'changeset': 8581395}, 'node_tags': []}\n",
      "\n",
      "{'node': {'id': 261221424, 'user': 'bbmiller', 'uid': 451048, 'version': '7', 'lat': '41.9758794', 'lon': '-87.6923639', 'timestamp': '2011-06-29T14:14:15Z', 'changeset': 8581395}, 'node_tags': [{'id': 261221424, 'type': 'highway', 'key': '', 'value': 'traffic_signals'}, {'id': 261221424, 'type': 'highway', 'key': '', 'value': 'traffic_signals'}]}\n",
      "\n",
      "{'node': {'id': 2406124091, 'user': 'linuxUser16', 'uid': 1219059, 'version': '2', 'lat': '41.9757030', 'lon': '-87.6921867', 'timestamp': '2013-08-03T16:43:42Z', 'changeset': 17206049}, 'node_tags': [{'id': 2406124091, 'type': 'addr', 'key': 'city', 'value': 'Chicago'}, {'id': 2406124091, 'type': 'addr', 'key': 'city', 'value': 'Chicago'}, {'id': 2406124091, 'type': 'addr', 'key': 'housenumber', 'value': '5157'}, {'id': 2406124091, 'type': 'addr', 'key': 'housenumber', 'value': '5157'}, {'id': 2406124091, 'type': 'addr', 'key': 'postcode', 'value': '60625'}, {'id': 2406124091, 'type': 'addr', 'key': 'postcode', 'value': '60625'}, {'id': 2406124091, 'type': 'addr', 'key': 'street', 'value': 'North Lincoln Ave'}, {'id': 2406124091, 'type': 'addr', 'key': 'street', 'value': 'North Lincoln Ave'}, {'id': 2406124091, 'type': 'amenity', 'key': '', 'value': 'restaurant'}, {'id': 2406124091, 'type': 'amenity', 'key': '', 'value': 'restaurant'}, {'id': 2406124091, 'type': 'cuisine', 'key': '', 'value': 'mexican'}, {'id': 2406124091, 'type': 'cuisine', 'key': '', 'value': 'mexican'}, {'id': 2406124091, 'type': 'name', 'key': '', 'value': 'La Cabana De Don Luis'}, {'id': 2406124091, 'type': 'name', 'key': '', 'value': 'La Cabana De Don Luis'}, {'id': 2406124091, 'type': 'outdoor_seating', 'key': '', 'value': 'no'}, {'id': 2406124091, 'type': 'outdoor_seating', 'key': '', 'value': 'no'}, {'id': 2406124091, 'type': 'phone', 'key': '', 'value': '1 (773)-271-5176'}, {'id': 2406124091, 'type': 'phone', 'key': '', 'value': '1 (773)-271-5176'}, {'id': 2406124091, 'type': 'smoking', 'key': '', 'value': 'no'}, {'id': 2406124091, 'type': 'smoking', 'key': '', 'value': 'no'}, {'id': 2406124091, 'type': 'takeaway', 'key': '', 'value': 'yes'}, {'id': 2406124091, 'type': 'takeaway', 'key': '', 'value': 'yes'}]}\n",
      "\n",
      "{'node': {'id': 2636084635, 'user': 'linuxUser16', 'uid': 1219059, 'version': '1', 'lat': '41.9705219', 'lon': '-87.6900344', 'timestamp': '2014-01-25T01:56:10Z', 'changeset': 20187349}, 'node_tags': [{'id': 2636084635, 'type': 'addr', 'key': 'city', 'value': 'Chicago'}, {'id': 2636084635, 'type': 'addr', 'key': 'city', 'value': 'Chicago'}, {'id': 2636084635, 'type': 'addr', 'key': 'country', 'value': 'US'}, {'id': 2636084635, 'type': 'addr', 'key': 'country', 'value': 'US'}, {'id': 2636084635, 'type': 'addr', 'key': 'housenumber', 'value': '4874'}, {'id': 2636084635, 'type': 'addr', 'key': 'housenumber', 'value': '4874'}, {'id': 2636084635, 'type': 'addr', 'key': 'postcode', 'value': '60625'}, {'id': 2636084635, 'type': 'addr', 'key': 'postcode', 'value': '60625'}, {'id': 2636084635, 'type': 'addr', 'key': 'state', 'value': 'Illinois'}, {'id': 2636084635, 'type': 'addr', 'key': 'state', 'value': 'Illinois'}, {'id': 2636084635, 'type': 'addr', 'key': 'street', 'value': 'N. Lincoln Ave'}, {'id': 2636084635, 'type': 'addr', 'key': 'street', 'value': 'N. Lincoln Ave'}, {'id': 2636084635, 'type': 'name', 'key': '', 'value': 'Matty Ks'}, {'id': 2636084635, 'type': 'name', 'key': '', 'value': 'Matty Ks'}, {'id': 2636084635, 'type': 'phone', 'key': '', 'value': '(773)-654-1347'}, {'id': 2636084635, 'type': 'phone', 'key': '', 'value': '(773)-654-1347'}, {'id': 2636084635, 'type': 'shop', 'key': '', 'value': 'doityourself'}, {'id': 2636084635, 'type': 'shop', 'key': '', 'value': 'doityourself'}, {'id': 2636084635, 'type': 'source', 'key': '', 'value': 'GPS'}, {'id': 2636084635, 'type': 'source', 'key': '', 'value': 'GPS'}]}\n",
      "\n",
      "{'node': {'id': 261198953, 'user': 'bbmiller', 'uid': 451048, 'version': '6', 'lat': '41.9707413', 'lon': '-87.6963097', 'timestamp': '2011-06-29T14:14:13Z', 'changeset': 8581395}, 'node_tags': []}\n",
      "\n",
      "{'node': {'id': 757860928, 'user': 'uboot', 'uid': 26299, 'version': '2', 'lat': '41.9747374', 'lon': '-87.6920102', 'timestamp': '2010-07-22T16:16:51Z', 'changeset': 5288876}, 'node_tags': [{'id': 757860928, 'type': 'amenity', 'key': '', 'value': 'fast_food'}, {'id': 757860928, 'type': 'amenity', 'key': '', 'value': 'fast_food'}, {'id': 757860928, 'type': 'cuisine', 'key': '', 'value': 'sausage'}, {'id': 757860928, 'type': 'cuisine', 'key': '', 'value': 'sausage'}, {'id': 757860928, 'type': 'name', 'key': '', 'value': \"Shelly's Tasty Freeze\"}, {'id': 757860928, 'type': 'name', 'key': '', 'value': \"Shelly's Tasty Freeze\"}]}\n",
      "\n",
      "{'way': {'id': 258219703, 'user': 'linuxUser16', 'uid': 1219059, 'version': '1', 'timestamp': '2014-01-25T02:01:54Z', 'changeset': 20187382}, 'way_nodes': [{'id': 258219703, 'node_id': '2636086179', 'position': 0}, {'id': 258219703, 'node_id': '2636086178', 'position': 1}, {'id': 258219703, 'node_id': '2636086177', 'position': 2}, {'id': 258219703, 'node_id': '2636086176', 'position': 3}], 'way_tags': [{'id': 258219703, 'type': 'highway', 'key': '', 'value': 'service'}, {'id': 258219703, 'type': 'highway', 'key': '', 'value': 'service'}]}\n",
      "\n",
      "{'node': {'id': 1683602133, 'user': 'Jacobs Studios', 'uid': 634589, 'version': '2', 'lat': '42.1251718', 'lon': '-88.0780576', 'timestamp': '2012-03-20T18:56:44Z', 'changeset': 11043902}, 'node_tags': [{'id': 1683602133, 'type': 'addr', 'key': 'housename', 'value': 'Village Hall'}, {'id': 1683602133, 'type': 'addr', 'key': 'housename', 'value': 'Village Hall'}, {'id': 1683602133, 'type': 'addr', 'key': 'housenumber', 'value': '1400'}, {'id': 1683602133, 'type': 'addr', 'key': 'housenumber', 'value': '1400'}, {'id': 1683602133, 'type': 'addr', 'key': 'postcode', 'value': '60067'}, {'id': 1683602133, 'type': 'addr', 'key': 'postcode', 'value': '60067'}, {'id': 1683602133, 'type': 'addr', 'key': 'street', 'value': 'Baldwin Rd.'}, {'id': 1683602133, 'type': 'addr', 'key': 'street', 'value': 'Baldwin Rd.'}, {'id': 1683602133, 'type': 'amenity', 'key': '', 'value': 'townhall'}, {'id': 1683602133, 'type': 'amenity', 'key': '', 'value': 'townhall'}, {'id': 1683602133, 'type': 'name', 'key': '', 'value': 'Village Hall'}, {'id': 1683602133, 'type': 'name', 'key': '', 'value': 'Village Hall'}]}\n",
      "\n",
      "{'way': {'id': 209809850, 'user': 'chicago-buildings', 'uid': 674454, 'version': '1', 'timestamp': '2013-03-13T15:58:04Z', 'changeset': 15353317}, 'way_nodes': [{'id': 209809850, 'node_id': '2199822281', 'position': 0}, {'id': 209809850, 'node_id': '2199822390', 'position': 1}, {'id': 209809850, 'node_id': '2199822392', 'position': 2}, {'id': 209809850, 'node_id': '2199822369', 'position': 3}, {'id': 209809850, 'node_id': '2199822370', 'position': 4}, {'id': 209809850, 'node_id': '2199822284', 'position': 5}, {'id': 209809850, 'node_id': '2199822281', 'position': 6}], 'way_tags': [{'id': 209809850, 'type': 'addr', 'key': 'housenumber', 'value': '1412'}, {'id': 209809850, 'type': 'addr', 'key': 'housenumber', 'value': '1412'}, {'id': 209809850, 'type': 'addr', 'key': 'street', 'value': 'West Lexington St.'}, {'id': 209809850, 'type': 'addr', 'key': 'street', 'value': 'West Lexington St.'}, {'id': 209809850, 'type': 'addr', 'key': 'street:name', 'value': 'Lexington'}, {'id': 209809850, 'type': 'addr', 'key': 'street:name', 'value': 'Lexington'}, {'id': 209809850, 'type': 'addr', 'key': 'street:prefix', 'value': 'West'}, {'id': 209809850, 'type': 'addr', 'key': 'street:prefix', 'value': 'West'}, {'id': 209809850, 'type': 'addr', 'key': 'street:type', 'value': 'Street'}, {'id': 209809850, 'type': 'addr', 'key': 'street:type', 'value': 'Street'}, {'id': 209809850, 'type': 'building', 'key': '', 'value': 'yes'}, {'id': 209809850, 'type': 'building', 'key': '', 'value': 'yes'}, {'id': 209809850, 'type': 'building', 'key': 'levels', 'value': '1'}, {'id': 209809850, 'type': 'building', 'key': 'levels', 'value': '1'}, {'id': 209809850, 'type': 'chicago', 'key': 'building_id', 'value': '366409'}, {'id': 209809850, 'type': 'chicago', 'key': 'building_id', 'value': '366409'}]}\n",
      "\n"
     ]
    }
   ],
   "source": [
    "\n",
    "\n",
    "\n",
    "\n",
    "for element in e:\n",
    "    if element.tag in ['node', 'way']:\n",
    "        #pass\n",
    "        res = parseElement(element)\n",
    "        print(res)\n",
    "        print('')"
   ]
  },
  {
   "cell_type": "code",
   "execution_count": 5,
   "metadata": {
    "collapsed": true
   },
   "outputs": [],
   "source": [
    "element = 'addr:postcode:test'\n",
    "\n",
    "pattern = re.compile('^([a-zA-Z0-9_]+):(.*)$')\n",
    "match = pattern.match(element) \n"
   ]
  },
  {
   "cell_type": "code",
   "execution_count": 6,
   "metadata": {
    "collapsed": false
   },
   "outputs": [
    {
     "data": {
      "text/plain": [
       "'addr'"
      ]
     },
     "execution_count": 6,
     "metadata": {},
     "output_type": "execute_result"
    }
   ],
   "source": [
    "match.group(1)"
   ]
  },
  {
   "cell_type": "code",
   "execution_count": null,
   "metadata": {
    "collapsed": true
   },
   "outputs": [],
   "source": []
  }
 ],
 "metadata": {
  "kernelspec": {
   "display_name": "Python 3",
   "language": "python",
   "name": "python3"
  },
  "language_info": {
   "codemirror_mode": {
    "name": "ipython",
    "version": 3
   },
   "file_extension": ".py",
   "mimetype": "text/x-python",
   "name": "python",
   "nbconvert_exporter": "python",
   "pygments_lexer": "ipython3",
   "version": "3.6.0"
  }
 },
 "nbformat": 4,
 "nbformat_minor": 2
}
