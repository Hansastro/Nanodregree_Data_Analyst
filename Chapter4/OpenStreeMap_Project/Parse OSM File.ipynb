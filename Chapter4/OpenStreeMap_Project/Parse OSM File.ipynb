{
 "cells": [
  {
   "cell_type": "markdown",
   "metadata": {},
   "source": [
    "Parse OSM file and export the result in CSV"
   ]
  },
  {
   "cell_type": "code",
   "execution_count": 1,
   "metadata": {
    "collapsed": true
   },
   "outputs": [],
   "source": [
    "import xml.etree.ElementTree\n",
    "import re"
   ]
  },
  {
   "cell_type": "code",
   "execution_count": 2,
   "metadata": {
    "collapsed": true
   },
   "outputs": [],
   "source": [
    "dataFileName = 'example.osm'"
   ]
  },
  {
   "cell_type": "code",
   "execution_count": 30,
   "metadata": {
    "collapsed": false
   },
   "outputs": [],
   "source": [
    "def parseElement(element):\n",
    "    targetElement = ['node', 'way']\n",
    "    nodeAttribs =  ['id', 'lat', 'lon', 'user', 'uid', 'version', 'changeset', 'timestamp']\n",
    "    wayAttribs = ['id', 'user', 'uid', 'version', 'changeset', 'timestamp']\n",
    "    \n",
    "    \n",
    "    \n",
    "    if element.tag in targetElement:\n",
    "        print('Parsing: {}'.format(element.tag))\n",
    "        if element.tag == 'node':\n",
    "            selectedAttribs = nodeAttribs\n",
    "        else:\n",
    "            selectedAttribs = wayAttribs\n",
    "        \n",
    "        attribs = element.attrib\n",
    "        elem = {}\n",
    "        for i in selectedAttribs:\n",
    "            if i in ['id', 'uid', 'changeset']:\n",
    "                elem[i] = int(attribs[i])\n",
    "            else:\n",
    "                elem[i] = attribs[i]\n",
    "            \n",
    "        print(elem)\n",
    "        \n",
    "def parseOSMfile(fileName):\n",
    "    e = xml.etree.ElementTree.parse(fileName).getroot()\n",
    "    for element in e:\n",
    "        parseElement(element)"
   ]
  },
  {
   "cell_type": "code",
   "execution_count": 31,
   "metadata": {
    "collapsed": false
   },
   "outputs": [
    {
     "name": "stdout",
     "output_type": "stream",
     "text": [
      "Parsing: node\n",
      "{'id': 261114295, 'lat': '41.9730791', 'lon': '-87.6866303', 'user': 'bbmiller', 'uid': 451048, 'version': '7', 'changeset': 11129782, 'timestamp': '2012-03-28T18:31:23Z'}\n",
      "Parsing: node\n",
      "{'id': 261114296, 'lat': '41.9730416', 'lon': '-87.6878512', 'user': 'bbmiller', 'uid': 451048, 'version': '6', 'changeset': 8448766, 'timestamp': '2011-06-15T17:04:54Z'}\n",
      "Parsing: node\n",
      "{'id': 261114299, 'lat': '41.9729565', 'lon': '-87.6939548', 'user': 'bbmiller', 'uid': 451048, 'version': '5', 'changeset': 8581395, 'timestamp': '2011-06-29T14:14:14Z'}\n",
      "Parsing: node\n",
      "{'id': 261146436, 'lat': '41.9707380', 'lon': '-87.6976025', 'user': 'bbmiller', 'uid': 451048, 'version': '5', 'changeset': 8581395, 'timestamp': '2011-06-29T14:14:14Z'}\n",
      "Parsing: node\n",
      "{'id': 261147304, 'lat': '41.9740068', 'lon': '-87.6988576', 'user': 'bbmiller', 'uid': 451048, 'version': '7', 'changeset': 8581395, 'timestamp': '2011-06-29T14:14:15Z'}\n",
      "Parsing: node\n",
      "{'id': 261224274, 'lat': '41.9707656', 'lon': '-87.6938669', 'user': 'bbmiller', 'uid': 451048, 'version': '5', 'changeset': 8581395, 'timestamp': '2011-06-29T14:14:14Z'}\n",
      "Parsing: node\n",
      "{'id': 293816175, 'lat': '41.9730154', 'lon': '-87.6890403', 'user': 'bbmiller', 'uid': 451048, 'version': '47', 'changeset': 8448766, 'timestamp': '2011-06-15T16:55:37Z'}\n",
      "Parsing: node\n",
      "{'id': 305896090, 'lat': '41.9749225', 'lon': '-87.6891198', 'user': 'Umbugbene', 'uid': 567034, 'version': '37', 'changeset': 15348240, 'timestamp': '2013-03-13T07:46:29Z'}\n",
      "Parsing: node\n",
      "{'id': 317636974, 'lat': '41.9740292', 'lon': '-87.7012430', 'user': 'Umbugbene', 'uid': 567034, 'version': '12', 'changeset': 15348240, 'timestamp': '2013-03-13T08:02:56Z'}\n",
      "Parsing: node\n",
      "{'id': 317636971, 'lat': '41.9740556', 'lon': '-87.6979712', 'user': 'Umbugbene', 'uid': 567034, 'version': '13', 'changeset': 15348240, 'timestamp': '2013-03-13T08:08:01Z'}\n",
      "Parsing: node\n",
      "{'id': 317637399, 'lat': '41.9705609', 'lon': '-87.7012048', 'user': 'Umbugbene', 'uid': 567034, 'version': '2', 'changeset': 14927972, 'timestamp': '2013-02-05T22:43:49Z'}\n",
      "Parsing: node\n",
      "{'id': 317637398, 'lat': '41.9706972', 'lon': '-87.7012109', 'user': 'Umbugbene', 'uid': 567034, 'version': '2', 'changeset': 14927972, 'timestamp': '2013-02-05T22:43:49Z'}\n",
      "Parsing: node\n",
      "{'id': 365214872, 'lat': '41.9731130', 'lon': '-87.6847998', 'user': 'bbmiller', 'uid': 451048, 'version': '3', 'changeset': 8448766, 'timestamp': '2011-06-15T17:04:54Z'}\n",
      "Parsing: node\n",
      "{'id': 261299091, 'lat': '41.9747482', 'lon': '-87.6988886', 'user': 'bbmiller', 'uid': 451048, 'version': '6', 'changeset': 8581395, 'timestamp': '2011-06-29T14:14:15Z'}\n",
      "Parsing: node\n",
      "{'id': 261114294, 'lat': '41.9731219', 'lon': '-87.6841979', 'user': 'bbmiller', 'uid': 451048, 'version': '6', 'changeset': 8448766, 'timestamp': '2011-06-15T17:04:54Z'}\n",
      "Parsing: node\n",
      "{'id': 261210804, 'lat': '41.9707217', 'lon': '-87.7000019', 'user': 'woodpeck_fixbot', 'uid': 147510, 'version': '4', 'changeset': 3359748, 'timestamp': '2009-12-13T00:36:09Z'}\n",
      "Parsing: node\n",
      "{'id': 261221422, 'lat': '41.9748542', 'lon': '-87.6922652', 'user': 'bbmiller', 'uid': 451048, 'version': '7', 'changeset': 8581395, 'timestamp': '2011-06-29T14:14:15Z'}\n",
      "Parsing: node\n",
      "{'id': 261221424, 'lat': '41.9758794', 'lon': '-87.6923639', 'user': 'bbmiller', 'uid': 451048, 'version': '7', 'changeset': 8581395, 'timestamp': '2011-06-29T14:14:15Z'}\n",
      "Parsing: node\n",
      "{'id': 2406124091, 'lat': '41.9757030', 'lon': '-87.6921867', 'user': 'linuxUser16', 'uid': 1219059, 'version': '2', 'changeset': 17206049, 'timestamp': '2013-08-03T16:43:42Z'}\n",
      "Parsing: node\n",
      "{'id': 2636084635, 'lat': '41.9705219', 'lon': '-87.6900344', 'user': 'linuxUser16', 'uid': 1219059, 'version': '1', 'changeset': 20187349, 'timestamp': '2014-01-25T01:56:10Z'}\n",
      "Parsing: node\n",
      "{'id': 261198953, 'lat': '41.9707413', 'lon': '-87.6963097', 'user': 'bbmiller', 'uid': 451048, 'version': '6', 'changeset': 8581395, 'timestamp': '2011-06-29T14:14:13Z'}\n",
      "Parsing: node\n",
      "{'id': 757860928, 'lat': '41.9747374', 'lon': '-87.6920102', 'user': 'uboot', 'uid': 26299, 'version': '2', 'changeset': 5288876, 'timestamp': '2010-07-22T16:16:51Z'}\n",
      "Parsing: way\n",
      "{'id': 258219703, 'user': 'linuxUser16', 'uid': 1219059, 'version': '1', 'changeset': 20187382, 'timestamp': '2014-01-25T02:01:54Z'}\n",
      "Parsing: node\n",
      "{'id': 1683602133, 'lat': '42.1251718', 'lon': '-88.0780576', 'user': 'Jacobs Studios', 'uid': 634589, 'version': '2', 'changeset': 11043902, 'timestamp': '2012-03-20T18:56:44Z'}\n",
      "Parsing: way\n",
      "{'id': 209809850, 'user': 'chicago-buildings', 'uid': 674454, 'version': '1', 'changeset': 15353317, 'timestamp': '2013-03-13T15:58:04Z'}\n"
     ]
    }
   ],
   "source": [
    "parseOSMfile(dataFileName)"
   ]
  },
  {
   "cell_type": "code",
   "execution_count": null,
   "metadata": {
    "collapsed": true
   },
   "outputs": [],
   "source": []
  }
 ],
 "metadata": {
  "kernelspec": {
   "display_name": "Python 3",
   "language": "python",
   "name": "python3"
  },
  "language_info": {
   "codemirror_mode": {
    "name": "ipython",
    "version": 3
   },
   "file_extension": ".py",
   "mimetype": "text/x-python",
   "name": "python",
   "nbconvert_exporter": "python",
   "pygments_lexer": "ipython3",
   "version": "3.6.0"
  }
 },
 "nbformat": 4,
 "nbformat_minor": 2
}
