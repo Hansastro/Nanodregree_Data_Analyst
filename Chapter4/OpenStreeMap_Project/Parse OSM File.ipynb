{
 "cells": [
  {
   "cell_type": "markdown",
   "metadata": {},
   "source": [
    "Parse OSM file and export the result in CSV"
   ]
  },
  {
   "cell_type": "code",
   "execution_count": 45,
   "metadata": {
    "ExecuteTime": {
     "end_time": "2018-09-23T11:36:10.658315Z",
     "start_time": "2018-09-23T11:36:10.652296Z"
    }
   },
   "outputs": [],
   "source": [
    "import xml.etree.ElementTree\n",
    "import csv\n",
    "import re"
   ]
  },
  {
   "cell_type": "code",
   "execution_count": 46,
   "metadata": {
    "ExecuteTime": {
     "end_time": "2018-09-23T11:36:11.104368Z",
     "start_time": "2018-09-23T11:36:11.098610Z"
    }
   },
   "outputs": [],
   "source": [
    "dataFileName = 'daensen.osm'"
   ]
  },
  {
   "cell_type": "code",
   "execution_count": null,
   "metadata": {
    "ExecuteTime": {
     "end_time": "2018-09-23T12:02:36.527945Z",
     "start_time": "2018-09-23T12:02:36.482618Z"
    }
   },
   "outputs": [],
   "source": [
    "files = {'node':'nodes.csv', 'way':'ways.csv', 'nodes_tags': 'nodes_tags.csv'}\n",
    "    \n",
    "fields = {'node': ['id', 'lat', 'lon', 'user', 'uid', 'version', 'changeset', 'timestamp'],\n",
    "           'way': ['id', 'user', 'uid', 'version', 'changeset', 'timestamp'],\n",
    "           'nodes_tags': ['id', 'key', 'value', 'type']}\n",
    "\n",
    "def initCSVfiles():\n",
    "    fileDescriptor = {}\n",
    "    for f in files:\n",
    "        print('init {}'.format(files[f]))\n",
    "        fileId = open(files[f], 'w')\n",
    "        csvWriter = csv.writer(fileId, delimiter=';',\n",
    "                            quotechar='\\'', quoting=csv.QUOTE_MINIMAL)\n",
    "        csvWriter.writerow(fields[f])\n",
    "        fileDescriptor[f] = {}\n",
    "        fileDescriptor[f]['fileId'] = fileId\n",
    "        fileDescriptor[f]['csvWriter'] = csvWriter\n",
    "        \n",
    "    return fileDescriptor\n",
    "\n",
    "def closeCSVfiles(fileDesc):\n",
    "    for f in fileDesc:\n",
    "        print("
   ]
  },
  {
   "cell_type": "code",
   "execution_count": 93,
   "metadata": {
    "ExecuteTime": {
     "end_time": "2018-09-23T12:05:10.032947Z",
     "start_time": "2018-09-23T12:05:09.957190Z"
    }
   },
   "outputs": [],
   "source": [
    "files = {'node':'nodes.csv', 'way':'ways.csv', 'nodes_tags': 'nodes_tags.csv'}\n",
    "    \n",
    "fields = {'node': ['id', 'lat', 'lon', 'user', 'uid', 'version', 'changeset', 'timestamp'],\n",
    "           'way': ['id', 'user', 'uid', 'version', 'changeset', 'timestamp'],\n",
    "           'nodes_tags': ['id', 'key', 'value', 'type']}\n",
    "\n",
    "def initCSVfiles():\n",
    "    fileDescriptor = {}\n",
    "    for f in files:\n",
    "        #print('init {}'.format(files[f]))\n",
    "        fileId = open(files[f], 'w')\n",
    "        csvWriter = csv.writer(fileId, delimiter=';',\n",
    "                            quotechar='\\'', quoting=csv.QUOTE_MINIMAL)\n",
    "        csvWriter.writerow(fields[f])\n",
    "        fileDescriptor[f] = {}\n",
    "        fileDescriptor[f]['fileId'] = fileId\n",
    "        fileDescriptor[f]['csvWriter'] = csvWriter\n",
    "        \n",
    "    return fileDescriptor\n",
    "\n",
    "def closeCSVfiles(fileDesc):\n",
    "    for f in fileDesc:\n",
    "        #print(fileDesc[f]['fileId'])\n",
    "        fileDesc[f]['fileId'].close()\n",
    "\n",
    "def writeElem(elemType, elem, fileDesc):\n",
    "    record = []\n",
    "    for i in fields[elemType]:\n",
    "        record.append(elem[i])\n",
    "    \n",
    "    fileDesc[elemType]['csvWriter'].writerow(record)\n",
    "    #print('Write in {}: {}'.format(fileDesc[elemType], record))\n",
    "    \n",
    "def parseElement(element, fileDesc):\n",
    "    targetElement = ['node', 'way']\n",
    "    nodeAttribs =  ['id', 'lat', 'lon', 'user', 'uid', 'version', 'changeset', 'timestamp']\n",
    "    wayAttribs = ['id', 'user', 'uid', 'version', 'changeset', 'timestamp']\n",
    "    \n",
    "    nodes = []\n",
    "    ways = []\n",
    "    \n",
    "    if element.tag in targetElement:\n",
    "        #print('Parsing: {}'.format(element.tag))\n",
    "        selectedAttribs = fields[element.tag]\n",
    "\n",
    "        attribs = element.attrib\n",
    "        elem = {}\n",
    "        for i in selectedAttribs:\n",
    "            elem[i] = attribs[i]\n",
    "            \n",
    "        writeElem(element.tag, elem, fileDesc)\n",
    "        #print(elem)\n",
    "        \n",
    "def parseOSMfile(fileName):\n",
    "    fileDesc = initCSVfiles()\n",
    "    #print(fileDesc)\n",
    "    e = xml.etree.ElementTree.parse(fileName).getroot()\n",
    "    for element in e:\n",
    "        parseElement(element, fileDesc)\n",
    "    closeCSVfiles(fileDesc)"
   ]
  },
  {
   "cell_type": "code",
   "execution_count": 94,
   "metadata": {
    "ExecuteTime": {
     "end_time": "2018-09-23T12:05:10.513371Z",
     "start_time": "2018-09-23T12:05:10.495842Z"
    }
   },
   "outputs": [],
   "source": [
    "parseOSMfile(dataFileName)"
   ]
  },
  {
   "cell_type": "code",
   "execution_count": null,
   "metadata": {
    "collapsed": true
   },
   "outputs": [],
   "source": []
  }
 ],
 "metadata": {
  "kernelspec": {
   "display_name": "Python 3",
   "language": "python",
   "name": "python3"
  },
  "language_info": {
   "codemirror_mode": {
    "name": "ipython",
    "version": 3
   },
   "file_extension": ".py",
   "mimetype": "text/x-python",
   "name": "python",
   "nbconvert_exporter": "python",
   "pygments_lexer": "ipython3",
   "version": "3.6.5"
  },
  "toc": {
   "nav_menu": {},
   "number_sections": true,
   "sideBar": true,
   "skip_h1_title": false,
   "title_cell": "Table of Contents",
   "title_sidebar": "Contents",
   "toc_cell": false,
   "toc_position": {},
   "toc_section_display": true,
   "toc_window_display": false
  },
  "varInspector": {
   "cols": {
    "lenName": 16,
    "lenType": 16,
    "lenVar": 40
   },
   "kernels_config": {
    "python": {
     "delete_cmd_postfix": "",
     "delete_cmd_prefix": "del ",
     "library": "var_list.py",
     "varRefreshCmd": "print(var_dic_list())"
    },
    "r": {
     "delete_cmd_postfix": ") ",
     "delete_cmd_prefix": "rm(",
     "library": "var_list.r",
     "varRefreshCmd": "cat(var_dic_list()) "
    }
   },
   "types_to_exclude": [
    "module",
    "function",
    "builtin_function_or_method",
    "instance",
    "_Feature"
   ],
   "window_display": false
  }
 },
 "nbformat": 4,
 "nbformat_minor": 2
}
