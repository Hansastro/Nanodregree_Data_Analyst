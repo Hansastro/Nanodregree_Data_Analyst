{
 "cells": [
  {
   "cell_type": "markdown",
   "metadata": {},
   "source": [
    "Parse OSM file and export the result in CSV"
   ]
  },
  {
   "cell_type": "code",
   "execution_count": 1,
   "metadata": {
    "collapsed": true
   },
   "outputs": [],
   "source": [
    "import xml.etree.ElementTree\n",
    "import re"
   ]
  },
  {
   "cell_type": "code",
   "execution_count": 2,
   "metadata": {
    "collapsed": true
   },
   "outputs": [],
   "source": [
    "dataFileName = 'example.osm'"
   ]
  },
  {
   "cell_type": "code",
   "execution_count": 21,
   "metadata": {
    "collapsed": true
   },
   "outputs": [],
   "source": [
    "def parseElement(element):\n",
    "    targetElement = ['node', 'way']\n",
    "    nodeAttribs =  ['id', 'lat', 'lon', 'user', 'uid', 'version', 'changeset', 'timestamp']\n",
    "    wayAttribs = ['id', 'user', 'uid', 'version', 'changeset', 'timestamp']\n",
    "    \n",
    "    if element.tag in targetElement:\n",
    "        print('Parse: {}'.format(element.tag))\n",
    "    \n",
    "def parseOSMfile(fileName):\n",
    "    e = xml.etree.ElementTree.parse(fileName).getroot()\n",
    "    for element in e:\n",
    "        parseElement(element)"
   ]
  },
  {
   "cell_type": "code",
   "execution_count": 22,
   "metadata": {
    "collapsed": false
   },
   "outputs": [
    {
     "name": "stdout",
     "output_type": "stream",
     "text": [
      "Parse: node\n",
      "Parse: node\n",
      "Parse: node\n",
      "Parse: node\n",
      "Parse: node\n",
      "Parse: node\n",
      "Parse: node\n",
      "Parse: node\n",
      "Parse: node\n",
      "Parse: node\n",
      "Parse: node\n",
      "Parse: node\n",
      "Parse: node\n",
      "Parse: node\n",
      "Parse: node\n",
      "Parse: node\n",
      "Parse: node\n",
      "Parse: node\n",
      "Parse: node\n",
      "Parse: node\n",
      "Parse: node\n",
      "Parse: node\n",
      "Parse: way\n",
      "Parse: node\n",
      "Parse: way\n"
     ]
    }
   ],
   "source": [
    "parseOSMfile(dataFileName)"
   ]
  },
  {
   "cell_type": "code",
   "execution_count": null,
   "metadata": {
    "collapsed": true
   },
   "outputs": [],
   "source": []
  }
 ],
 "metadata": {
  "kernelspec": {
   "display_name": "Python 3",
   "language": "python",
   "name": "python3"
  },
  "language_info": {
   "codemirror_mode": {
    "name": "ipython",
    "version": 3
   },
   "file_extension": ".py",
   "mimetype": "text/x-python",
   "name": "python",
   "nbconvert_exporter": "python",
   "pygments_lexer": "ipython3",
   "version": "3.6.0"
  }
 },
 "nbformat": 4,
 "nbformat_minor": 2
}
