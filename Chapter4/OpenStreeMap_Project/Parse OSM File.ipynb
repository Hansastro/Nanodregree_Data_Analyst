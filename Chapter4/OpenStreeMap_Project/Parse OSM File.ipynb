{
 "cells": [
  {
   "cell_type": "code",
   "execution_count": 75,
   "metadata": {
    "ExecuteTime": {
     "end_time": "2018-09-23T19:23:01.366842Z",
     "start_time": "2018-09-23T19:23:01.363906Z"
    },
    "collapsed": true
   },
   "outputs": [],
   "source": [
    "import sys\n",
    "import os\n",
    "import xml.etree.ElementTree\n",
    "import csv\n",
    "import re\n",
    "import sqlite3\n",
    "import pandas as pd\n",
    "import matplotlib.pyplot as plt\n",
    "\n",
    "% matplotlib inline"
   ]
  },
  {
   "cell_type": "markdown",
   "metadata": {},
   "source": [
    "# Openstreetmap Project"
   ]
  },
  {
   "cell_type": "markdown",
   "metadata": {},
   "source": [
    "The goal of this project is to parse data from a openstreetmap OSM file (XML format), populate a database and perform some analysis."
   ]
  },
  {
   "cell_type": "markdown",
   "metadata": {},
   "source": [
    "## List of modules used"
   ]
  },
  {
   "cell_type": "code",
   "execution_count": 2,
   "metadata": {
    "collapsed": false
   },
   "outputs": [
    {
     "name": "stdout",
     "output_type": "stream",
     "text": [
      "Python: Version 3.6.0 |Anaconda 4.3.1 (32-bit)| (default, Dec 23 2016, 12:06:52) [MSC v.1900 32 bit (Intel)]\n",
      "xml.etree.ElementTree: xml is a python embedded module. Please refer to the python's version.\n",
      "csv: Version 1.0\n",
      "re: Version 2.2.1\n",
      "pandas: Version 0.19.2\n"
     ]
    }
   ],
   "source": [
    "print(\"Python: Version %s\"%(sys.version))\n",
    "print(\"xml.etree.ElementTree: xml is a python embedded module. Please refer to the python's version.\")\n",
    "print(\"csv: Version %s\"%(csv.__version__))\n",
    "print(\"re: Version %s\"%(re.__version__))\n",
    "#print(\"sqlite3: Version %s\"%(sqlite3.__version__))\n",
    "print(\"pandas: Version %s\"%(pd.__version__))\n"
   ]
  },
  {
   "cell_type": "markdown",
   "metadata": {},
   "source": [
    "## Set the data file"
   ]
  },
  {
   "cell_type": "code",
   "execution_count": 3,
   "metadata": {
    "ExecuteTime": {
     "end_time": "2018-09-23T19:23:02.058416Z",
     "start_time": "2018-09-23T19:23:02.053667Z"
    },
    "collapsed": true
   },
   "outputs": [],
   "source": [
    "#dataFileName = 'example.osm'\n",
    "dataFileName = 'daensen.osm'"
   ]
  },
  {
   "cell_type": "code",
   "execution_count": 4,
   "metadata": {
    "collapsed": false
   },
   "outputs": [
    {
     "name": "stdout",
     "output_type": "stream",
     "text": [
      "Size of the source file daensen.osm: 0.244Mb\n"
     ]
    }
   ],
   "source": [
    "statinfo = os.stat(dataFileName)\n",
    "print('Size of the source file {}: {:.3f}Mb'.format(dataFileName, statinfo.st_size / (1024 * 1024))) "
   ]
  },
  {
   "cell_type": "markdown",
   "metadata": {},
   "source": [
    "# Read data from OSM file and create some csv files"
   ]
  },
  {
   "cell_type": "code",
   "execution_count": 5,
   "metadata": {
    "ExecuteTime": {
     "end_time": "2018-09-23T20:18:28.127341Z",
     "start_time": "2018-09-23T20:18:28.063417Z"
    },
    "collapsed": false
   },
   "outputs": [],
   "source": [
    "# List of all csv files\n",
    "csvFiles = {'node':'nodes.csv',\n",
    "         'way':'ways.csv',\n",
    "         'node_tags': 'nodes_tags.csv',\n",
    "         'way_tags': 'ways_tags.csv',\n",
    "         'way_node':'ways_nodes.csv'}\n",
    "\n",
    "# List of all fields for the csv files\n",
    "fields = {'node': ['id', 'lat', 'lon', 'user', 'uid', 'version', 'changeset', 'timestamp'],\n",
    "           'way': ['id', 'user', 'uid', 'version', 'changeset', 'timestamp'],\n",
    "           'node_tags': ['id', 'key', 'value', 'type'],\n",
    "           'way_tags': ['id', 'key', 'value', 'type'],\n",
    "           'way_node': ['id', 'node_id', 'position']} \n",
    "\n",
    "def initCSVfiles():\n",
    "    '''\n",
    "    Create empty csv files and add the header line\n",
    "    \n",
    "    parameters:\n",
    "    ------------\n",
    "    None\n",
    "    \n",
    "    returns:\n",
    "    --------\n",
    "    a dictionary containing the file descriptor and the csv writer object\n",
    "    '''\n",
    "    fileDescriptor = {}\n",
    "    for f in csvFiles:\n",
    "        #print('init {}'.format(files[f]))\n",
    "        fileId = open(csvFiles[f], 'w', encoding='utf-8')\n",
    "        csvWriter = csv.writer(fileId, delimiter=';',\n",
    "                            quotechar='\\'', quoting=csv.QUOTE_MINIMAL)\n",
    "        csvWriter.writerow(fields[f])\n",
    "        fileDescriptor[f] = {}\n",
    "        fileDescriptor[f]['fileId'] = fileId\n",
    "        fileDescriptor[f]['csvWriter'] = csvWriter\n",
    "        \n",
    "    return fileDescriptor\n",
    "\n",
    "def closeCSVfiles(fileDesc):\n",
    "    '''\n",
    "    Close all csv files opened\n",
    "    \n",
    "    parameters:\n",
    "    -----------\n",
    "    the file descriptor dictionary returned by the initCSVfiles function.\n",
    "    \n",
    "    returns:\n",
    "    --------\n",
    "    None\n",
    "    '''\n",
    "    for f in fileDesc:\n",
    "        fileDesc[f]['fileId'].close()\n",
    "\n",
    "def writeElem(elemType, elem, fileDesc):\n",
    "    '''\n",
    "    write an element in the corresponding csv file\n",
    "    \n",
    "    parameters:\n",
    "    -----------\n",
    "    - elemType: a string of the type of element to be written.\n",
    "    - elem: dict of data to be written in the csv file\n",
    "    - fileDesc: dictionary of the file decriptor (given by the initCSVfiles function)\n",
    "    '''\n",
    "    record = []\n",
    "    for i in fields[elemType]:\n",
    "        record.append(elem[i])\n",
    "    \n",
    "    fileDesc[elemType]['csvWriter'].writerow(record)\n",
    "\n",
    "def parseTag(id, attrib):\n",
    "    '''\n",
    "    Parse the tag k and return the value, the key and the type\n",
    "    \n",
    "    parameters:\n",
    "    -----------\n",
    "    - id: id of the node or the way\n",
    "    - attrib: XML object\n",
    "    \n",
    "    returns:\n",
    "    --------\n",
    "    a dictionary with the Id of the parent, the key, value and type\n",
    "    '''\n",
    "    \n",
    "    if 'k' in attrib:\n",
    "        pattern = re.compile('^([a-z_]+):(.*)$')\n",
    "        match = pattern.match(attrib['k'])\n",
    "    \n",
    "        if match:\n",
    "            type_ = match.group(1)\n",
    "            key = match.group(2)\n",
    "        else:\n",
    "            type_ = attrib['k']\n",
    "            key = ''\n",
    "    else:\n",
    "        key = None\n",
    "        type_ = None\n",
    "    \n",
    "    # Replace semi-colon by a space in the value string to avoid issues by reading the csv file.\n",
    "    value = attrib['v'].replace(';', ' ')\n",
    "    return {'id': id, 'key':key, 'value':value, 'type':type_}\n",
    "    \n",
    "def parseElement(element, fileDesc):\n",
    "    '''\n",
    "    parse an element and write the data in the different csv files\n",
    "    \n",
    "    parameters:\n",
    "    -----------\n",
    "    - element: XML object to be parsed\n",
    "    - fileDesc: dictionary of the file decriptor (given by the initCSVfiles function)\n",
    "\n",
    "    returns:\n",
    "    --------\n",
    "    None\n",
    "    '''\n",
    "    targetElement = ['node', 'way']\n",
    "    \n",
    "    if element.tag in targetElement:\n",
    "        #print('Parsing: {}'.format(element.tag))\n",
    "        selectedAttribs = fields[element.tag]\n",
    "\n",
    "        # Parse the main elements Node and Way\n",
    "        attribs = element.attrib\n",
    "        elem = {}\n",
    "        for i in selectedAttribs:\n",
    "            elem[i] = attribs[i]  \n",
    "        writeElem(element.tag, elem, fileDesc)\n",
    "        \n",
    "        # Parse the subelements Tag and Nd\n",
    "        position = 0\n",
    "        for e in element:\n",
    "            tag = {}\n",
    "            node = {}\n",
    "            if e.tag == 'nd':\n",
    "                node = {'id': elem['id'], 'node_id': e.attrib['ref'], 'position': position}\n",
    "                position += 1\n",
    "                writeElem('way_node', node, fileDesc)\n",
    "            elif e.tag == 'tag':\n",
    "                tag = parseTag(elem['id'], e.attrib)\n",
    "                writeElem(element.tag + '_tags', tag, fileDesc)\n",
    "        \n",
    "def parseOSMfile(fileName):\n",
    "    '''\n",
    "    main function to extract the data from an OSM file to CSV files\n",
    "    \n",
    "    parameters:\n",
    "    -----------\n",
    "    fileName: string of the path of the OSM file\n",
    "    \n",
    "    returns:\n",
    "    --------\n",
    "    None\n",
    "    '''\n",
    "    fileDesc = initCSVfiles()\n",
    "    e = xml.etree.ElementTree.parse(fileName).getroot()\n",
    "    for element in e:\n",
    "        parseElement(element, fileDesc)\n",
    "    closeCSVfiles(fileDesc)"
   ]
  },
  {
   "cell_type": "markdown",
   "metadata": {},
   "source": [
    "Now we can generate the CSV files:"
   ]
  },
  {
   "cell_type": "code",
   "execution_count": 6,
   "metadata": {
    "ExecuteTime": {
     "end_time": "2018-09-23T20:18:28.433732Z",
     "start_time": "2018-09-23T20:18:28.413500Z"
    },
    "collapsed": true
   },
   "outputs": [],
   "source": [
    "parseOSMfile(dataFileName)"
   ]
  },
  {
   "cell_type": "markdown",
   "metadata": {},
   "source": [
    "We see all CSV files in the current directory:"
   ]
  },
  {
   "cell_type": "code",
   "execution_count": 7,
   "metadata": {
    "collapsed": false
   },
   "outputs": [
    {
     "name": "stdout",
     "output_type": "stream",
     "text": [
      "List of csv files.\n",
      "File nodes.csv (55.5kb)\n",
      "File nodes_tags.csv (3.9kb)\n",
      "File node_tags.csv (3.9kb)\n",
      "File ways.csv (7.2kb)\n",
      "File ways_nodes.csv (19.5kb)\n",
      "File ways_tags.csv (8.2kb)\n",
      "File way_node.csv (19.5kb)\n",
      "File way_tags.csv (8.2kb)\n"
     ]
    }
   ],
   "source": [
    "fileList = os.listdir()\n",
    "\n",
    "print('List of csv files.')\n",
    "pattern = re.compile('.*\\.csv$')\n",
    "for f in fileList:\n",
    "    if pattern.match(f):\n",
    "        statinfo = os.stat(f)\n",
    "        print('File {} ({:.1f}kb)'.format(f, statinfo.st_size / 1024))\n",
    "    "
   ]
  },
  {
   "cell_type": "markdown",
   "metadata": {},
   "source": [
    "Those files can be used to populate the database"
   ]
  },
  {
   "cell_type": "markdown",
   "metadata": {
    "collapsed": true
   },
   "source": [
    "# Create the database"
   ]
  },
  {
   "cell_type": "markdown",
   "metadata": {},
   "source": [
    "It is necessary to create the database only once. A variable can be use to avoid to create the tables everytime the notebook is executed."
   ]
  },
  {
   "cell_type": "code",
   "execution_count": 8,
   "metadata": {
    "collapsed": true
   },
   "outputs": [],
   "source": [
    "# Set this variable to True to for the regeneration of the database\n",
    "regenerateDatabase = True"
   ]
  },
  {
   "cell_type": "markdown",
   "metadata": {},
   "source": [
    "Create the database with the schema contains in the file 'data_wrangling_schema.sql'"
   ]
  },
  {
   "cell_type": "code",
   "execution_count": 20,
   "metadata": {
    "collapsed": true
   },
   "outputs": [],
   "source": [
    "conn = sqlite3.connect('Openstreetmap.db')\n",
    "c = conn.cursor()"
   ]
  },
  {
   "cell_type": "code",
   "execution_count": 9,
   "metadata": {
    "collapsed": false
   },
   "outputs": [
    {
     "name": "stdout",
     "output_type": "stream",
     "text": [
      "Execute SQL statement: \n",
      "CREATE TABLE nodes (\n",
      "    id INTEGER PRIMARY KEY NOT NULL,\n",
      "    lat REAL,\n",
      "    lon REAL,\n",
      "    user TEXT,\n",
      "    uid INTEGER,\n",
      "    version INTEGER,\n",
      "    changeset INTEGER,\n",
      "    timestamp TEXT\n",
      ");\n",
      "\n",
      "CREATE TABLE nodes_tags (\n",
      "    id INTEGER,\n",
      "    key TEXT,\n",
      "    value TEXT,\n",
      "    type TEXT,\n",
      "    FOREIGN KEY (id) REFERENCES nodes(id)\n",
      ");\n",
      "\n",
      "CREATE TABLE ways (\n",
      "    id INTEGER PRIMARY KEY NOT NULL,\n",
      "    user TEXT,\n",
      "    uid INTEGER,\n",
      "    version TEXT,\n",
      "    changeset INTEGER,\n",
      "    timestamp TEXT\n",
      ");\n",
      "\n",
      "CREATE TABLE ways_tags (\n",
      "    id INTEGER NOT NULL,\n",
      "    key TEXT NOT NULL,\n",
      "    value TEXT NOT NULL,\n",
      "    type TEXT,\n",
      "    FOREIGN KEY (id) REFERENCES ways(id)\n",
      ");\n",
      "\n",
      "CREATE TABLE ways_nodes (\n",
      "    id INTEGER NOT NULL,\n",
      "    node_id INTEGER NOT NULL,\n",
      "    position INTEGER NOT NULL,\n",
      "    FOREIGN KEY (id) REFERENCES ways(id),\n",
      "    FOREIGN KEY (node_id) REFERENCES nodes(id)\n",
      ");\n",
      "\n"
     ]
    }
   ],
   "source": [
    "with open('data_wrangling_schema.sql') as f: \n",
    "    text = f.read()\n",
    "    c.executescript(text)\n",
    "    conn.commit()\n",
    "    print('Execute SQL statement: \\n{}'.format(text))\n"
   ]
  },
  {
   "cell_type": "markdown",
   "metadata": {},
   "source": [
    "# Populate the database"
   ]
  },
  {
   "cell_type": "code",
   "execution_count": 10,
   "metadata": {
    "collapsed": true
   },
   "outputs": [],
   "source": [
    "def populateDatabase(dbConn):\n",
    "    for f in csvFiles:\n",
    "        print('Reading file {} for table {}'.format(csvFiles[f], csvFiles[f].split('.')[0]))\n",
    "        df = pd.read_csv(csvFiles[f], sep=';')\n",
    "        df.to_sql(csvFiles[f].split('.')[0], dbConn, if_exists='replace', index=False)"
   ]
  },
  {
   "cell_type": "code",
   "execution_count": 11,
   "metadata": {
    "collapsed": false,
    "scrolled": true
   },
   "outputs": [
    {
     "name": "stdout",
     "output_type": "stream",
     "text": [
      "Reading file nodes.csv for table nodes\n",
      "Reading file ways.csv for table ways\n",
      "Reading file nodes_tags.csv for table nodes_tags\n",
      "Reading file ways_tags.csv for table ways_tags\n",
      "Reading file ways_nodes.csv for table ways_nodes\n"
     ]
    }
   ],
   "source": [
    "populateDatabase(conn)"
   ]
  },
  {
   "cell_type": "markdown",
   "metadata": {},
   "source": [
    "Now the database is populated and can be use."
   ]
  },
  {
   "cell_type": "markdown",
   "metadata": {},
   "source": [
    "# Analyse the data"
   ]
  },
  {
   "cell_type": "markdown",
   "metadata": {},
   "source": [
    "## How many nodes in th database?"
   ]
  },
  {
   "cell_type": "code",
   "execution_count": 21,
   "metadata": {
    "collapsed": false
   },
   "outputs": [
    {
     "name": "stdout",
     "output_type": "stream",
     "text": [
      "There are 675 nodes in the database\n"
     ]
    }
   ],
   "source": [
    "c.execute('SELECT COUNT(id) FROM nodes')\n",
    "print('There are {} nodes in the database'.format(c.fetchall()[0][0]))"
   ]
  },
  {
   "cell_type": "markdown",
   "metadata": {},
   "source": [
    "## How many ways in the database?"
   ]
  },
  {
   "cell_type": "code",
   "execution_count": 22,
   "metadata": {
    "collapsed": false
   },
   "outputs": [
    {
     "name": "stdout",
     "output_type": "stream",
     "text": [
      "There are 118 ways in the database\n"
     ]
    }
   ],
   "source": [
    "c.execute('SELECT COUNT(id) FROM ways')\n",
    "print('There are {} ways in the database'.format(c.fetchall()[0][0]))"
   ]
  },
  {
   "cell_type": "markdown",
   "metadata": {},
   "source": [
    "## How many users are in the tables?"
   ]
  },
  {
   "cell_type": "code",
   "execution_count": 23,
   "metadata": {
    "collapsed": false
   },
   "outputs": [
    {
     "name": "stdout",
     "output_type": "stream",
     "text": [
      "There are 7 different users in the ways table\n",
      "There are 15 different users in the nodes table\n"
     ]
    }
   ],
   "source": [
    "c.execute('SELECT COUNT(DISTINCT user) FROM ways')\n",
    "print('There are {} different users in the ways table'.format(c.fetchall()[0][0]))\n",
    "\n",
    "c.execute('SELECT COUNT(DISTINCT user) FROM nodes')\n",
    "print('There are {} different users in the nodes table'.format(c.fetchall()[0][0]))"
   ]
  },
  {
   "cell_type": "markdown",
   "metadata": {},
   "source": [
    "## What about fire protection?"
   ]
  },
  {
   "cell_type": "code",
   "execution_count": 56,
   "metadata": {
    "collapsed": false
   },
   "outputs": [
    {
     "name": "stdout",
     "output_type": "stream",
     "text": [
      "There are 13 fire hydrant in the database\n"
     ]
    }
   ],
   "source": [
    "c.execute('SELECT count(type) \\\n",
    "          FROM nodes_tags \\\n",
    "          WHERE type == \\'fire_hydrant\\' AND nodes_tags.key = \\'type\\';')\n",
    "print('There are {} fire hydrant in the database'.format(c.fetchall()[0][0]))"
   ]
  },
  {
   "cell_type": "markdown",
   "metadata": {},
   "source": [
    "We can extract their position."
   ]
  },
  {
   "cell_type": "code",
   "execution_count": 60,
   "metadata": {
    "collapsed": false
   },
   "outputs": [
    {
     "data": {
      "text/plain": [
       "[(53.41958149999999, 9.6971642, 'fire_hydrant', 'type', 'underground'),\n",
       " (53.4199681, 9.6968844, 'fire_hydrant', 'type', 'underground'),\n",
       " (53.420046400000004, 9.693318, 'fire_hydrant', 'type', 'underground'),\n",
       " (53.4201353, 9.695699900000001, 'fire_hydrant', 'type', 'underground'),\n",
       " (53.4213255, 9.69435, 'fire_hydrant', 'type', 'underground'),\n",
       " (53.421583, 9.694297500000001, 'fire_hydrant', 'type', 'pond'),\n",
       " (53.421855799999996, 9.6957095, 'fire_hydrant', 'type', 'underground'),\n",
       " (53.4221119, 9.6929105, 'fire_hydrant', 'type', 'underground'),\n",
       " (53.4221616, 9.6915516, 'fire_hydrant', 'type', 'underground'),\n",
       " (53.4224003, 9.6969722, 'fire_hydrant', 'type', 'underground'),\n",
       " (53.42303879999999, 9.6933044, 'fire_hydrant', 'type', 'underground'),\n",
       " (53.423207999999995, 9.6950783, 'fire_hydrant', 'type', 'underground'),\n",
       " (53.423454799999995, 9.6965059, 'fire_hydrant', 'type', 'underground')]"
      ]
     },
     "execution_count": 60,
     "metadata": {},
     "output_type": "execute_result"
    }
   ],
   "source": [
    "c.execute('SELECT nodes.lat, nodes.lon, nodes_tags.type, nodes_tags.key, nodes_tags.value \\\n",
    "          FROM nodes \\\n",
    "          JOIN nodes_tags ON nodes.id = nodes_tags.id \\\n",
    "          WHERE nodes_tags.type == \\'fire_hydrant\\' AND nodes_tags.key = \\'type\\';')\n",
    "res = c.fetchall()\n",
    "res"
   ]
  },
  {
   "cell_type": "code",
   "execution_count": 79,
   "metadata": {
    "collapsed": false
   },
   "outputs": [
    {
     "data": {
      "image/png": "[encoded data removed]",
      "text/plain": [
       "<matplotlib.figure.Figure at 0xa7b7450>"
      ]
     },
     "metadata": {},
     "output_type": "display_data"
    }
   ],
   "source": [
    "lat = []\n",
    "lon = []\n",
    "for i in res:\n",
    "    lat.append(i[0])\n",
    "    lon.append(i[1])\n",
    "    \n",
    "plt.scatter(lat, lon)\n",
    "plt.show()"
   ]
  },
  {
   "cell_type": "markdown",
   "metadata": {},
   "source": [
    "## Check of the name of the objects"
   ]
  },
  {
   "cell_type": "code",
   "execution_count": 33,
   "metadata": {
    "collapsed": false
   },
   "outputs": [
    {
     "data": {
      "text/plain": [
       "[('Golf Club Buxtehude',),\n",
       " ('Daensener Weg',),\n",
       " ('Daenser Weg',),\n",
       " ('Zum Baaksberg',),\n",
       " ('Zum Lehmfeld',),\n",
       " ('Koppelstieg',),\n",
       " ('Moisburger Landstraße',)]"
      ]
     },
     "execution_count": 33,
     "metadata": {},
     "output_type": "execute_result"
    }
   ],
   "source": [
    "c.execute('SELECT DISTINCT value FROM ways_tags WHERE type == \\'name\\'')\n",
    "c.fetchall()"
   ]
  },
  {
   "cell_type": "markdown",
   "metadata": {},
   "source": [
    "# Close the database"
   ]
  },
  {
   "cell_type": "code",
   "execution_count": 16,
   "metadata": {
    "collapsed": true
   },
   "outputs": [],
   "source": [
    "conn.close()"
   ]
  },
  {
   "cell_type": "code",
   "execution_count": null,
   "metadata": {
    "collapsed": true
   },
   "outputs": [],
   "source": []
  }
 ],
 "metadata": {
  "kernelspec": {
   "display_name": "Python 3",
   "language": "python",
   "name": "python3"
  },
  "language_info": {
   "codemirror_mode": {
    "name": "ipython",
    "version": 3
   },
   "file_extension": ".py",
   "mimetype": "text/x-python",
   "name": "python",
   "nbconvert_exporter": "python",
   "pygments_lexer": "ipython3",
   "version": "3.6.0"
  },
  "toc": {
   "nav_menu": {},
   "number_sections": true,
   "sideBar": true,
   "skip_h1_title": false,
   "title_cell": "Table of Contents",
   "title_sidebar": "Contents",
   "toc_cell": false,
   "toc_position": {},
   "toc_section_display": true,
   "toc_window_display": false
  },
  "varInspector": {
   "cols": {
    "lenName": 16,
    "lenType": 16,
    "lenVar": 40
   },
   "kernels_config": {
    "python": {
     "delete_cmd_postfix": "",
     "delete_cmd_prefix": "del ",
     "library": "var_list.py",
     "varRefreshCmd": "print(var_dic_list())"
    },
    "r": {
     "delete_cmd_postfix": ") ",
     "delete_cmd_prefix": "rm(",
     "library": "var_list.r",
     "varRefreshCmd": "cat(var_dic_list()) "
    }
   },
   "types_to_exclude": [
    "module",
    "function",
    "builtin_function_or_method",
    "instance",
    "_Feature"
   ],
   "window_display": false
  }
 },
 "nbformat": 4,
 "nbformat_minor": 2
}
