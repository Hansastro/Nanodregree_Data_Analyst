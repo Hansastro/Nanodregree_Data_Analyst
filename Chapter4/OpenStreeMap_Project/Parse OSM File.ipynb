{
 "cells": [
  {
   "cell_type": "markdown",
   "metadata": {},
   "source": [
    "Parse OSM file and export the result in CSV"
   ]
  },
  {
   "cell_type": "code",
   "execution_count": 99,
   "metadata": {
    "ExecuteTime": {
     "end_time": "2018-09-23T19:23:01.366842Z",
     "start_time": "2018-09-23T19:23:01.363906Z"
    }
   },
   "outputs": [],
   "source": [
    "import xml.etree.ElementTree\n",
    "import csv\n",
    "import re"
   ]
  },
  {
   "cell_type": "code",
   "execution_count": 100,
   "metadata": {
    "ExecuteTime": {
     "end_time": "2018-09-23T19:23:02.058416Z",
     "start_time": "2018-09-23T19:23:02.053667Z"
    }
   },
   "outputs": [],
   "source": [
    "dataFileName = 'daensen.osm'"
   ]
  },
  {
   "cell_type": "code",
   "execution_count": 145,
   "metadata": {
    "ExecuteTime": {
     "end_time": "2018-09-23T20:18:28.127341Z",
     "start_time": "2018-09-23T20:18:28.063417Z"
    }
   },
   "outputs": [],
   "source": [
    "files = {'node':'nodes.csv', 'way':'ways.csv', 'node_tags': 'node_tags.csv', 'way_tags': 'way_tags.csv', 'way_node':'way_node.csv'}\n",
    "    \n",
    "fields = {'node': ['id', 'lat', 'lon', 'user', 'uid', 'version', 'changeset', 'timestamp'],\n",
    "           'way': ['id', 'user', 'uid', 'version', 'changeset', 'timestamp'],\n",
    "           'node_tags': ['id', 'key', 'value', 'type'],\n",
    "           'way_tags': ['id', 'key', 'value', 'type'],\n",
    "           'way_node': ['id', 'node_id', 'position']} \n",
    "\n",
    "def initCSVfiles():\n",
    "    fileDescriptor = {}\n",
    "    for f in files:\n",
    "        #print('init {}'.format(files[f]))\n",
    "        fileId = open(files[f], 'w')\n",
    "        csvWriter = csv.writer(fileId, delimiter=';',\n",
    "                            quotechar='\\'', quoting=csv.QUOTE_MINIMAL)\n",
    "        csvWriter.writerow(fields[f])\n",
    "        fileDescriptor[f] = {}\n",
    "        fileDescriptor[f]['fileId'] = fileId\n",
    "        fileDescriptor[f]['csvWriter'] = csvWriter\n",
    "        \n",
    "    return fileDescriptor\n",
    "\n",
    "def closeCSVfiles(fileDesc):\n",
    "    for f in fileDesc:\n",
    "        #print(fileDesc[f]['fileId'])\n",
    "        fileDesc[f]['fileId'].close()\n",
    "\n",
    "def writeElem(elemType, elem, fileDesc):\n",
    "    record = []\n",
    "    for i in fields[elemType]:\n",
    "        record.append(elem[i])\n",
    "    \n",
    "    fileDesc[elemType]['csvWriter'].writerow(record)\n",
    "    #print('Write in {}: {}'.format(fileDesc[elemType], record))\n",
    "\n",
    "def parseTag(id, attrib):\n",
    "    # TODO Parse k --> value, key\n",
    "    return {'id': id, 'key':attrib['k'], 'value':attrib['v'], 'type':attrib['k']}\n",
    "    \n",
    "def parseElement(element, fileDesc):\n",
    "    targetElement = ['node', 'way']\n",
    "    \n",
    "    nodes = []\n",
    "    ways = []\n",
    "    node_tags = []\n",
    "    way_tags = []\n",
    "    node_way = []\n",
    "    \n",
    "    if element.tag in targetElement:\n",
    "        #print('Parsing: {}'.format(element.tag))\n",
    "        selectedAttribs = fields[element.tag]\n",
    "\n",
    "        attribs = element.attrib\n",
    "        elem = {}\n",
    "        for i in selectedAttribs:\n",
    "            elem[i] = attribs[i]  \n",
    "        writeElem(element.tag, elem, fileDesc)\n",
    "        \n",
    "        position = 0\n",
    "        for e in element:\n",
    "            tag = {}\n",
    "            node = {}\n",
    "            if e.tag == 'nd':\n",
    "                node = {'id': elem['id'], 'node_id': e.attrib['ref'], 'position': position}\n",
    "                position += 1\n",
    "                writeElem('way_node', node, fileDesc)\n",
    "            elif e.tag == 'tag':\n",
    "                tag = parseTag(elem['id'], e.attrib)\n",
    "                writeElem(element.tag + '_tags', tag, fileDesc)\n",
    "        \n",
    "def parseOSMfile(fileName):\n",
    "    fileDesc = initCSVfiles()\n",
    "    #print(fileDesc)\n",
    "    e = xml.etree.ElementTree.parse(fileName).getroot()\n",
    "    for element in e:\n",
    "        parseElement(element, fileDesc)\n",
    "    closeCSVfiles(fileDesc)"
   ]
  },
  {
   "cell_type": "code",
   "execution_count": 146,
   "metadata": {
    "ExecuteTime": {
     "end_time": "2018-09-23T20:18:28.433732Z",
     "start_time": "2018-09-23T20:18:28.413500Z"
    }
   },
   "outputs": [],
   "source": [
    "parseOSMfile(dataFileName)"
   ]
  },
  {
   "cell_type": "code",
   "execution_count": null,
   "metadata": {
    "collapsed": true
   },
   "outputs": [],
   "source": []
  }
 ],
 "metadata": {
  "kernelspec": {
   "display_name": "Python 3",
   "language": "python",
   "name": "python3"
  },
  "language_info": {
   "codemirror_mode": {
    "name": "ipython",
    "version": 3
   },
   "file_extension": ".py",
   "mimetype": "text/x-python",
   "name": "python",
   "nbconvert_exporter": "python",
   "pygments_lexer": "ipython3",
   "version": "3.6.5"
  },
  "toc": {
   "nav_menu": {},
   "number_sections": true,
   "sideBar": true,
   "skip_h1_title": false,
   "title_cell": "Table of Contents",
   "title_sidebar": "Contents",
   "toc_cell": false,
   "toc_position": {},
   "toc_section_display": true,
   "toc_window_display": false
  },
  "varInspector": {
   "cols": {
    "lenName": 16,
    "lenType": 16,
    "lenVar": 40
   },
   "kernels_config": {
    "python": {
     "delete_cmd_postfix": "",
     "delete_cmd_prefix": "del ",
     "library": "var_list.py",
     "varRefreshCmd": "print(var_dic_list())"
    },
    "r": {
     "delete_cmd_postfix": ") ",
     "delete_cmd_prefix": "rm(",
     "library": "var_list.r",
     "varRefreshCmd": "cat(var_dic_list()) "
    }
   },
   "types_to_exclude": [
    "module",
    "function",
    "builtin_function_or_method",
    "instance",
    "_Feature"
   ],
   "window_display": false
  }
 },
 "nbformat": 4,
 "nbformat_minor": 2
}
