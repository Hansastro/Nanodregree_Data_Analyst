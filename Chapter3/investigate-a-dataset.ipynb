{
 "cells": [
  {
   "cell_type": "markdown",
   "metadata": {},
   "source": [
    "# Project: Investigate a Dataset - No show medical appointment in Brazil\n",
    "\n",
    "## Table of Contents\n",
    "<ul>\n",
    "<li><a href=\"#intro\">Introduction</a></li>\n",
    "<li><a href=\"#wrangling\">Data Wrangling</a></li>\n",
    "<li><a href=\"#eda\">Exploratory Data Analysis</a></li>\n",
    "<li><a href=\"#conclusions\">Conclusions</a></li>\n",
    "</ul>"
   ]
  },
  {
   "cell_type": "markdown",
   "metadata": {},
   "source": [
    "<a id='intro'></a>\n",
    "## Introduction\n",
    "\n",
    "The goal of this document is to investigate a dataset containing the presence or not of a patient to a medical appointment in Brazil.\n",
    "\n",
    "The primary source of the dataset was Kaggle ([link](https://www.kaggle.com/joniarroba/noshowappointments)). The exact link of the dataset will be given below."
   ]
  },
  {
   "cell_type": "code",
   "execution_count": 1,
   "metadata": {
    "ExecuteTime": {
     "end_time": "2018-06-03T18:51:28.043975Z",
     "start_time": "2018-06-03T18:51:27.724662Z"
    },
    "collapsed": true
   },
   "outputs": [],
   "source": [
    "#Import python libraries\n",
    "import sys\n",
    "import datetime\n",
    "import pandas as pd\n",
    "import matplotlib\n",
    "import matplotlib.pyplot as plt\n",
    "import seaborn as sns\n",
    "%matplotlib inline"
   ]
  },
  {
   "cell_type": "markdown",
   "metadata": {},
   "source": [
    "Check of the versions of Python and the different modules used to ease reproductibility."
   ]
  },
  {
   "cell_type": "code",
   "execution_count": 2,
   "metadata": {
    "ExecuteTime": {
     "end_time": "2018-06-03T18:51:28.049199Z",
     "start_time": "2018-06-03T18:51:28.045289Z"
    },
    "collapsed": false
   },
   "outputs": [
    {
     "name": "stdout",
     "output_type": "stream",
     "text": [
      "Version of Python: 2.7.13 |Anaconda custom (64-bit)| (default, Dec 19 2016, 13:29:36) [MSC v.1500 64 bit (AMD64)]\n",
      "Version of sys: sys is a python embedded module. Please refer to the python's version.\n",
      "Version of datetime: datetime is a python embedded module. Please refer to the python's version.\n",
      "Version of pandas: 0.19.2\n",
      "Version of matplotlib :2.0.0\n",
      "Version of seaborn: 0.7.1\n"
     ]
    }
   ],
   "source": [
    "print(\"Version of Python: %s\"%(sys.version))\n",
    "print(\"Version of sys: sys is a python embedded module. Please refer to the python's version.\")\n",
    "print(\"Version of datetime: datetime is a python embedded module. Please refer to the python's version.\")\n",
    "print(\"Version of pandas: %s\"%(pd.__version__))\n",
    "print(\"Version of matplotlib :%s\"%(matplotlib.__version__))\n",
    "print(\"Version of seaborn: %s\"%(sns.__version__))"
   ]
  },
  {
   "cell_type": "markdown",
   "metadata": {},
   "source": [
    "<a id='wrangling'></a>\n",
    "## Data Wrangling"
   ]
  },
  {
   "cell_type": "markdown",
   "metadata": {},
   "source": [
    "<a id='general_properties'></a>\n",
    "### General Properties"
   ]
  },
  {
   "cell_type": "markdown",
   "metadata": {},
   "source": [
    "The dataset used for this analysis was originated from this place: [link](https://d17h27t6h515a5.cloudfront.net/topher/2017/October/59dd2e9a_noshowappointments-kagglev2-may-2016/noshowappointments-kagglev2-may-2016.csv)"
   ]
  },
  {
   "cell_type": "code",
   "execution_count": 3,
   "metadata": {
    "ExecuteTime": {
     "end_time": "2018-06-03T18:51:28.261984Z",
     "start_time": "2018-06-03T18:51:28.050329Z"
    },
    "collapsed": true
   },
   "outputs": [],
   "source": [
    "# Import the dataset\n",
    "noshowapp_df = pd.read_csv(\"noshowappointments-kagglev2-may-2016.csv\")"
   ]
  },
  {
   "cell_type": "markdown",
   "metadata": {},
   "source": [
    "We can now have a first look on the content of the data. Here are the first 5 rows."
   ]
  },
  {
   "cell_type": "code",
   "execution_count": 4,
   "metadata": {
    "ExecuteTime": {
     "end_time": "2018-06-03T18:51:28.277973Z",
     "start_time": "2018-06-03T18:51:28.263374Z"
    },
    "collapsed": false
   },
   "outputs": [
    {
     "data": {
      "text/html": [
       "<div>\n",
       "<table border=\"1\" class=\"dataframe\">\n",
       "  <thead>\n",
       "    <tr style=\"text-align: right;\">\n",
       "      <th></th>\n",
       "      <th>PatientId</th>\n",
       "      <th>AppointmentID</th>\n",
       "      <th>Gender</th>\n",
       "      <th>ScheduledDay</th>\n",
       "      <th>AppointmentDay</th>\n",
       "      <th>Age</th>\n",
       "      <th>Neighbourhood</th>\n",
       "      <th>Scholarship</th>\n",
       "      <th>Hipertension</th>\n",
       "      <th>Diabetes</th>\n",
       "      <th>Alcoholism</th>\n",
       "      <th>Handcap</th>\n",
       "      <th>SMS_received</th>\n",
       "      <th>No-show</th>\n",
       "    </tr>\n",
       "  </thead>\n",
       "  <tbody>\n",
       "    <tr>\n",
       "      <th>0</th>\n",
       "      <td>2.987250e+13</td>\n",
       "      <td>5642903</td>\n",
       "      <td>F</td>\n",
       "      <td>2016-04-29T18:38:08Z</td>\n",
       "      <td>2016-04-29T00:00:00Z</td>\n",
       "      <td>62</td>\n",
       "      <td>JARDIM DA PENHA</td>\n",
       "      <td>0</td>\n",
       "      <td>1</td>\n",
       "      <td>0</td>\n",
       "      <td>0</td>\n",
       "      <td>0</td>\n",
       "      <td>0</td>\n",
       "      <td>No</td>\n",
       "    </tr>\n",
       "    <tr>\n",
       "      <th>1</th>\n",
       "      <td>5.589978e+14</td>\n",
       "      <td>5642503</td>\n",
       "      <td>M</td>\n",
       "      <td>2016-04-29T16:08:27Z</td>\n",
       "      <td>2016-04-29T00:00:00Z</td>\n",
       "      <td>56</td>\n",
       "      <td>JARDIM DA PENHA</td>\n",
       "      <td>0</td>\n",
       "      <td>0</td>\n",
       "      <td>0</td>\n",
       "      <td>0</td>\n",
       "      <td>0</td>\n",
       "      <td>0</td>\n",
       "      <td>No</td>\n",
       "    </tr>\n",
       "    <tr>\n",
       "      <th>2</th>\n",
       "      <td>4.262962e+12</td>\n",
       "      <td>5642549</td>\n",
       "      <td>F</td>\n",
       "      <td>2016-04-29T16:19:04Z</td>\n",
       "      <td>2016-04-29T00:00:00Z</td>\n",
       "      <td>62</td>\n",
       "      <td>MATA DA PRAIA</td>\n",
       "      <td>0</td>\n",
       "      <td>0</td>\n",
       "      <td>0</td>\n",
       "      <td>0</td>\n",
       "      <td>0</td>\n",
       "      <td>0</td>\n",
       "      <td>No</td>\n",
       "    </tr>\n",
       "    <tr>\n",
       "      <th>3</th>\n",
       "      <td>8.679512e+11</td>\n",
       "      <td>5642828</td>\n",
       "      <td>F</td>\n",
       "      <td>2016-04-29T17:29:31Z</td>\n",
       "      <td>2016-04-29T00:00:00Z</td>\n",
       "      <td>8</td>\n",
       "      <td>PONTAL DE CAMBURI</td>\n",
       "      <td>0</td>\n",
       "      <td>0</td>\n",
       "      <td>0</td>\n",
       "      <td>0</td>\n",
       "      <td>0</td>\n",
       "      <td>0</td>\n",
       "      <td>No</td>\n",
       "    </tr>\n",
       "    <tr>\n",
       "      <th>4</th>\n",
       "      <td>8.841186e+12</td>\n",
       "      <td>5642494</td>\n",
       "      <td>F</td>\n",
       "      <td>2016-04-29T16:07:23Z</td>\n",
       "      <td>2016-04-29T00:00:00Z</td>\n",
       "      <td>56</td>\n",
       "      <td>JARDIM DA PENHA</td>\n",
       "      <td>0</td>\n",
       "      <td>1</td>\n",
       "      <td>1</td>\n",
       "      <td>0</td>\n",
       "      <td>0</td>\n",
       "      <td>0</td>\n",
       "      <td>No</td>\n",
       "    </tr>\n",
       "  </tbody>\n",
       "</table>\n",
       "</div>"
      ],
      "text/plain": [
       "      PatientId  AppointmentID Gender          ScheduledDay  \\\n",
       "0  2.987250e+13        5642903      F  2016-04-29T18:38:08Z   \n",
       "1  5.589978e+14        5642503      M  2016-04-29T16:08:27Z   \n",
       "2  4.262962e+12        5642549      F  2016-04-29T16:19:04Z   \n",
       "3  8.679512e+11        5642828      F  2016-04-29T17:29:31Z   \n",
       "4  8.841186e+12        5642494      F  2016-04-29T16:07:23Z   \n",
       "\n",
       "         AppointmentDay  Age      Neighbourhood  Scholarship  Hipertension  \\\n",
       "0  2016-04-29T00:00:00Z   62    JARDIM DA PENHA            0             1   \n",
       "1  2016-04-29T00:00:00Z   56    JARDIM DA PENHA            0             0   \n",
       "2  2016-04-29T00:00:00Z   62      MATA DA PRAIA            0             0   \n",
       "3  2016-04-29T00:00:00Z    8  PONTAL DE CAMBURI            0             0   \n",
       "4  2016-04-29T00:00:00Z   56    JARDIM DA PENHA            0             1   \n",
       "\n",
       "   Diabetes  Alcoholism  Handcap  SMS_received No-show  \n",
       "0         0           0        0             0      No  \n",
       "1         0           0        0             0      No  \n",
       "2         0           0        0             0      No  \n",
       "3         0           0        0             0      No  \n",
       "4         1           0        0             0      No  "
      ]
     },
     "execution_count": 4,
     "metadata": {},
     "output_type": "execute_result"
    }
   ],
   "source": [
    "noshowapp_df.head()"
   ]
  },
  {
   "cell_type": "markdown",
   "metadata": {},
   "source": [
    "A list of all columns:"
   ]
  },
  {
   "cell_type": "code",
   "execution_count": 5,
   "metadata": {
    "ExecuteTime": {
     "end_time": "2018-06-03T18:51:28.300024Z",
     "start_time": "2018-06-03T18:51:28.279182Z"
    },
    "collapsed": false
   },
   "outputs": [
    {
     "data": {
      "text/plain": [
       "Index([u'PatientId', u'AppointmentID', u'Gender', u'ScheduledDay',\n",
       "       u'AppointmentDay', u'Age', u'Neighbourhood', u'Scholarship',\n",
       "       u'Hipertension', u'Diabetes', u'Alcoholism', u'Handcap',\n",
       "       u'SMS_received', u'No-show'],\n",
       "      dtype='object')"
      ]
     },
     "execution_count": 5,
     "metadata": {},
     "output_type": "execute_result"
    }
   ],
   "source": [
    "noshowapp_df.columns"
   ]
  },
  {
   "cell_type": "markdown",
   "metadata": {},
   "source": [
    "A count of each non null element of each column."
   ]
  },
  {
   "cell_type": "code",
   "execution_count": 6,
   "metadata": {
    "ExecuteTime": {
     "end_time": "2018-06-03T18:51:28.406238Z",
     "start_time": "2018-06-03T18:51:28.301151Z"
    },
    "collapsed": false
   },
   "outputs": [
    {
     "data": {
      "text/plain": [
       "PatientId         110527\n",
       "AppointmentID     110527\n",
       "Gender            110527\n",
       "ScheduledDay      110527\n",
       "AppointmentDay    110527\n",
       "Age               110527\n",
       "Neighbourhood     110527\n",
       "Scholarship       110527\n",
       "Hipertension      110527\n",
       "Diabetes          110527\n",
       "Alcoholism        110527\n",
       "Handcap           110527\n",
       "SMS_received      110527\n",
       "No-show           110527\n",
       "dtype: int64"
      ]
     },
     "execution_count": 6,
     "metadata": {},
     "output_type": "execute_result"
    }
   ],
   "source": [
    "noshowapp_df.count()"
   ]
  },
  {
   "cell_type": "markdown",
   "metadata": {},
   "source": [
    "We can see that no column constains empty elements. We have 110527 entries in the dataset."
   ]
  },
  {
   "cell_type": "markdown",
   "metadata": {},
   "source": [
    "### Data Cleaning"
   ]
  },
  {
   "cell_type": "markdown",
   "metadata": {},
   "source": [
    "#### Cleaning the Columns"
   ]
  },
  {
   "cell_type": "markdown",
   "metadata": {},
   "source": [
    "The column named \"Hipertension\" and \"Handcap\" seem to be wrongly spelled.\n",
    "\n",
    "In portugese, hypertension is hipertensao. The error seems to be a wrong translation. We will replace the column name \"Hipertension\" by \"Hypertention\".\n",
    "\n",
    "After research, the word \"Handcap\" does not exist. In a portugese dictionnary nothing can justify this wording. Here we decided to rename the colunm \"Handcap\" by \"Handicap\"."
   ]
  },
  {
   "cell_type": "code",
   "execution_count": 7,
   "metadata": {
    "collapsed": false
   },
   "outputs": [],
   "source": [
    "# Rename the column Hipertension and Handcap by the correct wording.\n",
    "noshowapp_df = noshowapp_df.rename(index=str, columns={\"Hipertension\": \"Hypertension\", \"Handcap\": \"Handicap\"})"
   ]
  },
  {
   "cell_type": "code",
   "execution_count": 8,
   "metadata": {
    "collapsed": false
   },
   "outputs": [
    {
     "data": {
      "text/plain": [
       "Index([u'PatientId', u'AppointmentID', u'Gender', u'ScheduledDay',\n",
       "       u'AppointmentDay', u'Age', u'Neighbourhood', u'Scholarship',\n",
       "       u'Hypertension', u'Diabetes', u'Alcoholism', u'Handicap',\n",
       "       u'SMS_received', u'No-show'],\n",
       "      dtype='object')"
      ]
     },
     "execution_count": 8,
     "metadata": {},
     "output_type": "execute_result"
    }
   ],
   "source": [
    "noshowapp_df.columns"
   ]
  },
  {
   "cell_type": "markdown",
   "metadata": {},
   "source": [
    "Now the columns are less confusing."
   ]
  },
  {
   "cell_type": "markdown",
   "metadata": {},
   "source": [
    "#### Cleaning the Rows"
   ]
  },
  {
   "cell_type": "markdown",
   "metadata": {},
   "source": [
    "We will review each rows to see if they contains strange values."
   ]
  },
  {
   "cell_type": "markdown",
   "metadata": {},
   "source": [
    "##### PatientId"
   ]
  },
  {
   "cell_type": "markdown",
   "metadata": {},
   "source": [
    "Check of the limit of the patient ID."
   ]
  },
  {
   "cell_type": "code",
   "execution_count": 9,
   "metadata": {
    "collapsed": false
   },
   "outputs": [
    {
     "data": {
      "text/plain": [
       "39217.844389999998"
      ]
     },
     "execution_count": 9,
     "metadata": {},
     "output_type": "execute_result"
    }
   ],
   "source": [
    "noshowapp_df['PatientId'].min()"
   ]
  },
  {
   "cell_type": "code",
   "execution_count": 10,
   "metadata": {
    "collapsed": false
   },
   "outputs": [
    {
     "data": {
      "text/plain": [
       "999981631772427.0"
      ]
     },
     "execution_count": 10,
     "metadata": {},
     "output_type": "execute_result"
    }
   ],
   "source": [
    "noshowapp_df['PatientId'].max()"
   ]
  },
  {
   "cell_type": "markdown",
   "metadata": {},
   "source": [
    "The Patient IDs are quite huge and it seems to have a problem in the import of the file. After check in the CSV file, some patient ID are noted in an exponential notation.\n",
    "\n",
    "We have to multiply the wrong IDs by 10E5.\n",
    "\n",
    "Let find the faulty IDs and correct the values."
   ]
  },
  {
   "cell_type": "code",
   "execution_count": 11,
   "metadata": {
    "collapsed": false
   },
   "outputs": [
    {
     "data": {
      "text/plain": [
       "3950       93779.52927\n",
       "73228     537615.28476\n",
       "73303     141724.16655\n",
       "100517     39217.84439\n",
       "105430     43741.75652\n",
       "Name: PatientId, dtype: float64"
      ]
     },
     "execution_count": 11,
     "metadata": {},
     "output_type": "execute_result"
    }
   ],
   "source": [
    "noshowapp_df.loc[noshowapp_df['PatientId'] < 5000000]['PatientId']"
   ]
  },
  {
   "cell_type": "markdown",
   "metadata": {},
   "source": [
    "By trying some limits value we find those 5 values which have a strange number.\n",
    "\n",
    "Before correct the value, we have to check if the values does not exists in the table. If it is the case, we will have to analyse the duplicates to verify if it is realy the same person or not."
   ]
  },
  {
   "cell_type": "code",
   "execution_count": 12,
   "metadata": {
    "collapsed": false
   },
   "outputs": [
    {
     "name": "stdout",
     "output_type": "stream",
     "text": [
      "No match found for patient ID 93779.5\n",
      "Correct the value. PatientID 93779.5 becomes 93779529270.0\n",
      "\n",
      "No match found for patient ID 537615.3\n",
      "Correct the value. PatientID 537615.3 becomes 537615284760.0\n",
      "\n",
      "No match found for patient ID 141724.2\n",
      "Correct the value. PatientID 141724.2 becomes 141724166550.0\n",
      "\n",
      "No match found for patient ID 39217.8\n",
      "Correct the value. PatientID 39217.8 becomes 39217844390.0\n",
      "\n",
      "No match found for patient ID 43741.8\n",
      "Correct the value. PatientID 43741.8 becomes 43741756519.0\n",
      "\n"
     ]
    }
   ],
   "source": [
    "def correctPatientID(patientID):\n",
    "    '''\n",
    "    Check if a patient ID is present is the database with the ID*10E5.\n",
    "    If no, correct the row in the dataset.\n",
    "    If yes, display a message for further investigation\n",
    "    '''\n",
    "    newPatientID = float(int(patientID*10E5))\n",
    "    result = noshowapp_df.loc[noshowapp_df['PatientId'] == newPatientID]\n",
    "    if result.shape[0] > 0:\n",
    "        print(\"Match found for patientID %.1f\"%(patientID))\n",
    "        print(result)\n",
    "        print(\"----------------------------------------\")\n",
    "    else:\n",
    "        print(\"No match found for patient ID %.1f\"%(patientID))\n",
    "        print(\"Correct the value. PatientID %.1f becomes %.1f\"%(patientID, newPatientID))\n",
    "        noshowapp_df.loc[(noshowapp_df['PatientId'] == patientID),(['PatientId'])] = newPatientID\n",
    "        print(\"\")\n",
    "\n",
    "patientIDtoCheck = noshowapp_df.loc[noshowapp_df['PatientId'] < 5000000]['PatientId']\n",
    "res = patientIDtoCheck.apply(correctPatientID)"
   ]
  },
  {
   "cell_type": "markdown",
   "metadata": {},
   "source": [
    "By luck no duplicates were found and all patient IDs are now corrected.\n",
    "Let check if it is really the case:"
   ]
  },
  {
   "cell_type": "code",
   "execution_count": 13,
   "metadata": {
    "collapsed": false
   },
   "outputs": [
    {
     "data": {
      "text/plain": [
       "Series([], Name: PatientId, dtype: float64)"
      ]
     },
     "execution_count": 13,
     "metadata": {},
     "output_type": "execute_result"
    }
   ],
   "source": [
    "noshowapp_df.loc[noshowapp_df['PatientId'] < 5000000]['PatientId']"
   ]
  },
  {
   "cell_type": "markdown",
   "metadata": {},
   "source": [
    "The result is an empty serie. The IDs are now corrected."
   ]
  },
  {
   "cell_type": "markdown",
   "metadata": {},
   "source": [
    "How many patients are registered in the dataset. some patients can have more than one appointment."
   ]
  },
  {
   "cell_type": "code",
   "execution_count": 14,
   "metadata": {
    "collapsed": false
   },
   "outputs": [
    {
     "data": {
      "text/plain": [
       "62299"
      ]
     },
     "execution_count": 14,
     "metadata": {},
     "output_type": "execute_result"
    }
   ],
   "source": [
    "len(noshowapp_df['PatientId'].unique())"
   ]
  },
  {
   "cell_type": "markdown",
   "metadata": {},
   "source": [
    "There are 62299 unique patients are in the dataset."
   ]
  },
  {
   "cell_type": "markdown",
   "metadata": {},
   "source": [
    "#### AppointmentID"
   ]
  },
  {
   "cell_type": "markdown",
   "metadata": {},
   "source": [
    "Check the limit of the data contains in column \"AppointmentID\""
   ]
  },
  {
   "cell_type": "code",
   "execution_count": 15,
   "metadata": {
    "collapsed": false
   },
   "outputs": [
    {
     "data": {
      "text/plain": [
       "5030230"
      ]
     },
     "execution_count": 15,
     "metadata": {},
     "output_type": "execute_result"
    }
   ],
   "source": [
    "noshowapp_df['AppointmentID'].min()"
   ]
  },
  {
   "cell_type": "code",
   "execution_count": 16,
   "metadata": {
    "collapsed": false
   },
   "outputs": [
    {
     "data": {
      "text/plain": [
       "5790484"
      ]
     },
     "execution_count": 16,
     "metadata": {},
     "output_type": "execute_result"
    }
   ],
   "source": [
    "noshowapp_df['AppointmentID'].max()"
   ]
  },
  {
   "cell_type": "markdown",
   "metadata": {},
   "source": [
    "For this column the limits make sense.\n",
    "\n",
    "Each ID should be unique. Let check that."
   ]
  },
  {
   "cell_type": "code",
   "execution_count": 17,
   "metadata": {
    "collapsed": false
   },
   "outputs": [
    {
     "data": {
      "text/plain": [
       "110527"
      ]
     },
     "execution_count": 17,
     "metadata": {},
     "output_type": "execute_result"
    }
   ],
   "source": [
    "len(noshowapp_df['AppointmentID'].unique())"
   ]
  },
  {
   "cell_type": "markdown",
   "metadata": {},
   "source": [
    "All Appointment IDs are unique. This row seems to be clean."
   ]
  },
  {
   "cell_type": "markdown",
   "metadata": {},
   "source": [
    "##### Gender"
   ]
  },
  {
   "cell_type": "markdown",
   "metadata": {},
   "source": [
    "Which gender do we have in this column. Only Male and Female?"
   ]
  },
  {
   "cell_type": "code",
   "execution_count": 18,
   "metadata": {
    "collapsed": false
   },
   "outputs": [
    {
     "data": {
      "text/plain": [
       "array(['F', 'M'], dtype=object)"
      ]
     },
     "execution_count": 18,
     "metadata": {},
     "output_type": "execute_result"
    }
   ],
   "source": [
    "noshowapp_df['Gender'].unique()"
   ]
  },
  {
   "cell_type": "markdown",
   "metadata": {},
   "source": [
    "No creativity here. We have only male and female."
   ]
  },
  {
   "cell_type": "markdown",
   "metadata": {},
   "source": [
    "##### Scheduled day"
   ]
  },
  {
   "cell_type": "markdown",
   "metadata": {},
   "source": [
    "This column indicate when the patient call for his/her appointment.\n",
    "\n",
    "Let have a look on the format:"
   ]
  },
  {
   "cell_type": "code",
   "execution_count": 19,
   "metadata": {
    "collapsed": false
   },
   "outputs": [
    {
     "data": {
      "text/plain": [
       "0    2016-04-29T18:38:08Z\n",
       "1    2016-04-29T16:08:27Z\n",
       "2    2016-04-29T16:19:04Z\n",
       "3    2016-04-29T17:29:31Z\n",
       "4    2016-04-29T16:07:23Z\n",
       "Name: ScheduledDay, dtype: object"
      ]
     },
     "execution_count": 19,
     "metadata": {},
     "output_type": "execute_result"
    }
   ],
   "source": [
    "noshowapp_df['ScheduledDay'].head()"
   ]
  },
  {
   "cell_type": "markdown",
   "metadata": {},
   "source": [
    "The format is a string and should be converted."
   ]
  },
  {
   "cell_type": "code",
   "execution_count": 20,
   "metadata": {
    "collapsed": false
   },
   "outputs": [],
   "source": [
    "def convertDate(str):\n",
    "    return datetime.datetime.strptime(str, '%Y-%m-%dT%H:%M:%SZ')\n",
    "\n",
    "noshowapp_df['ScheduledDay'] = noshowapp_df['ScheduledDay'].apply(convertDate)"
   ]
  },
  {
   "cell_type": "markdown",
   "metadata": {},
   "source": [
    "Let see what we have for data recorded."
   ]
  },
  {
   "cell_type": "code",
   "execution_count": 21,
   "metadata": {
    "collapsed": false
   },
   "outputs": [
    {
     "data": {
      "text/plain": [
       "<matplotlib.text.Text at 0xc23b438>"
      ]
     },
     "execution_count": 21,
     "metadata": {},
     "output_type": "execute_result"
    },
    {
     "data": {
      "image/png": "[encoded data removed]",
      "text/plain": [
       "<matplotlib.figure.Figure at 0x10b86ba8>"
      ]
     },
     "metadata": {},
     "output_type": "display_data"
    }
   ],
   "source": [
    "plt.rcParams['figure.figsize'] = 8, 5\n",
    "noshowapp_df['ScheduledDay'].hist()\n",
    "plt.title(\"Scheduled appointments along the time\")\n",
    "plt.xlabel(\"Date\")\n",
    "plt.ylabel(\"Amount of scheduled appointments\")"
   ]
  },
  {
   "cell_type": "markdown",
   "metadata": {},
   "source": [
    "The repartition of the data is quite strange. It seems that data were collected more or less during 2 or 3 month. A look on the appointment day will give us more details.\n",
    "\n",
    "In all case this will exclude an analysis of a potential seasonal variations."
   ]
  },
  {
   "cell_type": "markdown",
   "metadata": {},
   "source": [
    "##### Appointment Day"
   ]
  },
  {
   "cell_type": "markdown",
   "metadata": {},
   "source": [
    "This column should be similarly coded than the scheduled day. Let see."
   ]
  },
  {
   "cell_type": "code",
   "execution_count": 22,
   "metadata": {
    "collapsed": false
   },
   "outputs": [
    {
     "data": {
      "text/plain": [
       "0    2016-04-29T00:00:00Z\n",
       "1    2016-04-29T00:00:00Z\n",
       "2    2016-04-29T00:00:00Z\n",
       "3    2016-04-29T00:00:00Z\n",
       "4    2016-04-29T00:00:00Z\n",
       "Name: AppointmentDay, dtype: object"
      ]
     },
     "execution_count": 22,
     "metadata": {},
     "output_type": "execute_result"
    }
   ],
   "source": [
    "noshowapp_df['AppointmentDay'].head()"
   ]
  },
  {
   "cell_type": "markdown",
   "metadata": {},
   "source": [
    "Here the hour seems to be zero. We can use the same function to convert the date than for scheculed day."
   ]
  },
  {
   "cell_type": "code",
   "execution_count": 23,
   "metadata": {
    "collapsed": true
   },
   "outputs": [],
   "source": [
    "noshowapp_df['AppointmentDay'] = noshowapp_df['AppointmentDay'].apply(convertDate)"
   ]
  },
  {
   "cell_type": "code",
   "execution_count": 24,
   "metadata": {
    "collapsed": false
   },
   "outputs": [
    {
     "data": {
      "text/plain": [
       "<matplotlib.text.Text at 0x112e0940>"
      ]
     },
     "execution_count": 24,
     "metadata": {},
     "output_type": "execute_result"
    },
    {
     "data": {
      "image/png": "[encoded data removed]",
      "text/plain": [
       "<matplotlib.figure.Figure at 0x105b6630>"
      ]
     },
     "metadata": {},
     "output_type": "display_data"
    }
   ],
   "source": [
    "plt.rcParams['figure.figsize'] = 8, 5\n",
    "noshowapp_df['AppointmentDay'].hist()\n",
    "plt.title(\"Appointments along the time\")\n",
    "plt.xlabel(\"Date\")\n",
    "plt.ylabel(\"Amount of appointments\")"
   ]
  },
  {
   "cell_type": "markdown",
   "metadata": {},
   "source": [
    "The appointment day's values reveal the reason of the repartition of the schedule day's values. The dataset if just for one month. Due to the fact that some people set their appoinement in advance this explains the shape of the schedule days's graph."
   ]
  },
  {
   "cell_type": "markdown",
   "metadata": {},
   "source": [
    "<a id='Age'></a>\n",
    "##### Age"
   ]
  },
  {
   "cell_type": "markdown",
   "metadata": {},
   "source": [
    "Check the limit of the ages in the dataset."
   ]
  },
  {
   "cell_type": "code",
   "execution_count": 25,
   "metadata": {
    "collapsed": false
   },
   "outputs": [
    {
     "data": {
      "text/plain": [
       "-1"
      ]
     },
     "execution_count": 25,
     "metadata": {},
     "output_type": "execute_result"
    }
   ],
   "source": [
    "noshowapp_df['Age'].min()"
   ]
  },
  {
   "cell_type": "code",
   "execution_count": 26,
   "metadata": {
    "collapsed": false
   },
   "outputs": [
    {
     "data": {
      "text/plain": [
       "115"
      ]
     },
     "execution_count": 26,
     "metadata": {},
     "output_type": "execute_result"
    }
   ],
   "source": [
    "noshowapp_df['Age'].max()"
   ]
  },
  {
   "cell_type": "markdown",
   "metadata": {},
   "source": [
    "The maximum is quite high but realistic. The minimum value is not valid. How many such values we have and for which entries?"
   ]
  },
  {
   "cell_type": "code",
   "execution_count": 27,
   "metadata": {
    "collapsed": false
   },
   "outputs": [
    {
     "data": {
      "text/html": [
       "<div>\n",
       "<table border=\"1\" class=\"dataframe\">\n",
       "  <thead>\n",
       "    <tr style=\"text-align: right;\">\n",
       "      <th></th>\n",
       "      <th>PatientId</th>\n",
       "      <th>AppointmentID</th>\n",
       "      <th>Gender</th>\n",
       "      <th>ScheduledDay</th>\n",
       "      <th>AppointmentDay</th>\n",
       "      <th>Age</th>\n",
       "      <th>Neighbourhood</th>\n",
       "      <th>Scholarship</th>\n",
       "      <th>Hypertension</th>\n",
       "      <th>Diabetes</th>\n",
       "      <th>Alcoholism</th>\n",
       "      <th>Handicap</th>\n",
       "      <th>SMS_received</th>\n",
       "      <th>No-show</th>\n",
       "    </tr>\n",
       "  </thead>\n",
       "  <tbody>\n",
       "    <tr>\n",
       "      <th>99832</th>\n",
       "      <td>4.659432e+14</td>\n",
       "      <td>5775010</td>\n",
       "      <td>F</td>\n",
       "      <td>2016-06-06 08:58:13</td>\n",
       "      <td>2016-06-06</td>\n",
       "      <td>-1</td>\n",
       "      <td>ROMÃO</td>\n",
       "      <td>0</td>\n",
       "      <td>0</td>\n",
       "      <td>0</td>\n",
       "      <td>0</td>\n",
       "      <td>0</td>\n",
       "      <td>0</td>\n",
       "      <td>No</td>\n",
       "    </tr>\n",
       "  </tbody>\n",
       "</table>\n",
       "</div>"
      ],
      "text/plain": [
       "          PatientId  AppointmentID Gender        ScheduledDay AppointmentDay  \\\n",
       "99832  4.659432e+14        5775010      F 2016-06-06 08:58:13     2016-06-06   \n",
       "\n",
       "       Age Neighbourhood  Scholarship  Hypertension  Diabetes  Alcoholism  \\\n",
       "99832   -1         ROMÃO            0             0         0           0   \n",
       "\n",
       "       Handicap  SMS_received No-show  \n",
       "99832         0             0      No  "
      ]
     },
     "execution_count": 27,
     "metadata": {},
     "output_type": "execute_result"
    }
   ],
   "source": [
    "noshowapp_df[noshowapp_df['Age'] < 0]"
   ]
  },
  {
   "cell_type": "markdown",
   "metadata": {},
   "source": [
    "Only one entrie is wrong. We can correct it by replacing the -1 value by the median age of the women from ROMÃO."
   ]
  },
  {
   "cell_type": "code",
   "execution_count": 28,
   "metadata": {
    "collapsed": false
   },
   "outputs": [],
   "source": [
    "ageSubstitute = int(round(noshowapp_df[(noshowapp_df['Age'] >= 0) \\\n",
    "                                       & (noshowapp_df['Neighbourhood'] == 'ROMÃO') \\\n",
    "                                       & (noshowapp_df['Gender'] == 'F')]['Age'].median()))\n",
    "noshowapp_df = noshowapp_df.replace({'Age':{-1 : ageSubstitute}})"
   ]
  },
  {
   "cell_type": "code",
   "execution_count": 29,
   "metadata": {
    "collapsed": false
   },
   "outputs": [
    {
     "data": {
      "text/plain": [
       "33"
      ]
     },
     "execution_count": 29,
     "metadata": {},
     "output_type": "execute_result"
    }
   ],
   "source": [
    "noshowapp_df.iloc[99832]['Age']"
   ]
  },
  {
   "cell_type": "code",
   "execution_count": 30,
   "metadata": {
    "collapsed": false
   },
   "outputs": [
    {
     "data": {
      "text/html": [
       "<div>\n",
       "<table border=\"1\" class=\"dataframe\">\n",
       "  <thead>\n",
       "    <tr style=\"text-align: right;\">\n",
       "      <th></th>\n",
       "      <th>PatientId</th>\n",
       "      <th>AppointmentID</th>\n",
       "      <th>Gender</th>\n",
       "      <th>ScheduledDay</th>\n",
       "      <th>AppointmentDay</th>\n",
       "      <th>Age</th>\n",
       "      <th>Neighbourhood</th>\n",
       "      <th>Scholarship</th>\n",
       "      <th>Hypertension</th>\n",
       "      <th>Diabetes</th>\n",
       "      <th>Alcoholism</th>\n",
       "      <th>Handicap</th>\n",
       "      <th>SMS_received</th>\n",
       "      <th>No-show</th>\n",
       "    </tr>\n",
       "  </thead>\n",
       "  <tbody>\n",
       "    <tr>\n",
       "      <th>58014</th>\n",
       "      <td>9.762948e+14</td>\n",
       "      <td>5651757</td>\n",
       "      <td>F</td>\n",
       "      <td>2016-05-03 09:14:53</td>\n",
       "      <td>2016-05-03</td>\n",
       "      <td>102</td>\n",
       "      <td>CONQUISTA</td>\n",
       "      <td>0</td>\n",
       "      <td>0</td>\n",
       "      <td>0</td>\n",
       "      <td>0</td>\n",
       "      <td>0</td>\n",
       "      <td>0</td>\n",
       "      <td>No</td>\n",
       "    </tr>\n",
       "    <tr>\n",
       "      <th>63912</th>\n",
       "      <td>3.196321e+13</td>\n",
       "      <td>5700278</td>\n",
       "      <td>F</td>\n",
       "      <td>2016-05-16 09:17:44</td>\n",
       "      <td>2016-05-19</td>\n",
       "      <td>115</td>\n",
       "      <td>ANDORINHAS</td>\n",
       "      <td>0</td>\n",
       "      <td>0</td>\n",
       "      <td>0</td>\n",
       "      <td>0</td>\n",
       "      <td>1</td>\n",
       "      <td>0</td>\n",
       "      <td>Yes</td>\n",
       "    </tr>\n",
       "    <tr>\n",
       "      <th>63915</th>\n",
       "      <td>3.196321e+13</td>\n",
       "      <td>5700279</td>\n",
       "      <td>F</td>\n",
       "      <td>2016-05-16 09:17:44</td>\n",
       "      <td>2016-05-19</td>\n",
       "      <td>115</td>\n",
       "      <td>ANDORINHAS</td>\n",
       "      <td>0</td>\n",
       "      <td>0</td>\n",
       "      <td>0</td>\n",
       "      <td>0</td>\n",
       "      <td>1</td>\n",
       "      <td>0</td>\n",
       "      <td>Yes</td>\n",
       "    </tr>\n",
       "    <tr>\n",
       "      <th>68127</th>\n",
       "      <td>3.196321e+13</td>\n",
       "      <td>5562812</td>\n",
       "      <td>F</td>\n",
       "      <td>2016-04-08 14:29:17</td>\n",
       "      <td>2016-05-16</td>\n",
       "      <td>115</td>\n",
       "      <td>ANDORINHAS</td>\n",
       "      <td>0</td>\n",
       "      <td>0</td>\n",
       "      <td>0</td>\n",
       "      <td>0</td>\n",
       "      <td>1</td>\n",
       "      <td>0</td>\n",
       "      <td>Yes</td>\n",
       "    </tr>\n",
       "    <tr>\n",
       "      <th>76284</th>\n",
       "      <td>3.196321e+13</td>\n",
       "      <td>5744037</td>\n",
       "      <td>F</td>\n",
       "      <td>2016-05-30 09:44:51</td>\n",
       "      <td>2016-05-30</td>\n",
       "      <td>115</td>\n",
       "      <td>ANDORINHAS</td>\n",
       "      <td>0</td>\n",
       "      <td>0</td>\n",
       "      <td>0</td>\n",
       "      <td>0</td>\n",
       "      <td>1</td>\n",
       "      <td>0</td>\n",
       "      <td>No</td>\n",
       "    </tr>\n",
       "    <tr>\n",
       "      <th>90372</th>\n",
       "      <td>2.342836e+11</td>\n",
       "      <td>5751563</td>\n",
       "      <td>F</td>\n",
       "      <td>2016-05-31 10:19:49</td>\n",
       "      <td>2016-06-02</td>\n",
       "      <td>102</td>\n",
       "      <td>MARIA ORTIZ</td>\n",
       "      <td>0</td>\n",
       "      <td>0</td>\n",
       "      <td>0</td>\n",
       "      <td>0</td>\n",
       "      <td>0</td>\n",
       "      <td>0</td>\n",
       "      <td>No</td>\n",
       "    </tr>\n",
       "    <tr>\n",
       "      <th>97666</th>\n",
       "      <td>7.482346e+14</td>\n",
       "      <td>5717451</td>\n",
       "      <td>F</td>\n",
       "      <td>2016-05-19 07:57:56</td>\n",
       "      <td>2016-06-03</td>\n",
       "      <td>115</td>\n",
       "      <td>SÃO JOSÉ</td>\n",
       "      <td>0</td>\n",
       "      <td>1</td>\n",
       "      <td>0</td>\n",
       "      <td>0</td>\n",
       "      <td>0</td>\n",
       "      <td>1</td>\n",
       "      <td>No</td>\n",
       "    </tr>\n",
       "  </tbody>\n",
       "</table>\n",
       "</div>"
      ],
      "text/plain": [
       "          PatientId  AppointmentID Gender        ScheduledDay AppointmentDay  \\\n",
       "58014  9.762948e+14        5651757      F 2016-05-03 09:14:53     2016-05-03   \n",
       "63912  3.196321e+13        5700278      F 2016-05-16 09:17:44     2016-05-19   \n",
       "63915  3.196321e+13        5700279      F 2016-05-16 09:17:44     2016-05-19   \n",
       "68127  3.196321e+13        5562812      F 2016-04-08 14:29:17     2016-05-16   \n",
       "76284  3.196321e+13        5744037      F 2016-05-30 09:44:51     2016-05-30   \n",
       "90372  2.342836e+11        5751563      F 2016-05-31 10:19:49     2016-06-02   \n",
       "97666  7.482346e+14        5717451      F 2016-05-19 07:57:56     2016-06-03   \n",
       "\n",
       "       Age Neighbourhood  Scholarship  Hypertension  Diabetes  Alcoholism  \\\n",
       "58014  102     CONQUISTA            0             0         0           0   \n",
       "63912  115    ANDORINHAS            0             0         0           0   \n",
       "63915  115    ANDORINHAS            0             0         0           0   \n",
       "68127  115    ANDORINHAS            0             0         0           0   \n",
       "76284  115    ANDORINHAS            0             0         0           0   \n",
       "90372  102   MARIA ORTIZ            0             0         0           0   \n",
       "97666  115      SÃO JOSÉ            0             1         0           0   \n",
       "\n",
       "       Handicap  SMS_received No-show  \n",
       "58014         0             0      No  \n",
       "63912         1             0     Yes  \n",
       "63915         1             0     Yes  \n",
       "68127         1             0     Yes  \n",
       "76284         1             0      No  \n",
       "90372         0             0      No  \n",
       "97666         0             1      No  "
      ]
     },
     "execution_count": 30,
     "metadata": {},
     "output_type": "execute_result"
    }
   ],
   "source": [
    "noshowapp_df[noshowapp_df['Age'] > 100]"
   ]
  },
  {
   "cell_type": "markdown",
   "metadata": {},
   "source": [
    "Only a few visits for people aged more than 100 years. 4 differents people had some appointments."
   ]
  },
  {
   "cell_type": "markdown",
   "metadata": {},
   "source": [
    "Now there is no more wrong value in the Age column.\n",
    "\n",
    "What is the repartition of the ages?"
   ]
  },
  {
   "cell_type": "code",
   "execution_count": 31,
   "metadata": {
    "collapsed": false
   },
   "outputs": [
    {
     "data": {
      "text/plain": [
       "<matplotlib.text.Text at 0x10dab588>"
      ]
     },
     "execution_count": 31,
     "metadata": {},
     "output_type": "execute_result"
    },
    {
     "data": {
      "image/png": "[encoded data removed]",
      "text/plain": [
       "<matplotlib.figure.Figure at 0x112e0668>"
      ]
     },
     "metadata": {},
     "output_type": "display_data"
    }
   ],
   "source": [
    "plt.rcParams['figure.figsize'] = 8, 5\n",
    "noshowapp_df['Age'].hist(bins=20)\n",
    "plt.title(\"Age of the patient per appointment\")\n",
    "plt.xlabel(\"Age\")\n",
    "plt.ylabel(\"Amount of Appointements\")"
   ]
  },
  {
   "cell_type": "markdown",
   "metadata": {},
   "source": [
    "Here nothing suspect. We see a lot of appointment are done for very young children."
   ]
  },
  {
   "cell_type": "markdown",
   "metadata": {},
   "source": [
    "##### Neighbourhood"
   ]
  },
  {
   "cell_type": "markdown",
   "metadata": {},
   "source": [
    "The following neighbourhoods are present in the dataset:"
   ]
  },
  {
   "cell_type": "code",
   "execution_count": 32,
   "metadata": {
    "collapsed": false
   },
   "outputs": [
    {
     "name": "stdout",
     "output_type": "stream",
     "text": [
      "JARDIM DA PENHA\n",
      "MATA DA PRAIA\n",
      "PONTAL DE CAMBURI\n",
      "REPÚBLICA\n",
      "GOIABEIRAS\n",
      "ANDORINHAS\n",
      "CONQUISTA\n",
      "NOVA PALESTINA\n",
      "DA PENHA\n",
      "TABUAZEIRO\n",
      "BENTO FERREIRA\n",
      "SÃO PEDRO\n",
      "SANTA MARTHA\n",
      "SÃO CRISTÓVÃO\n",
      "MARUÍPE\n",
      "GRANDE VITÓRIA\n",
      "SÃO BENEDITO\n",
      "ILHA DAS CAIEIRAS\n",
      "SANTO ANDRÉ\n",
      "SOLON BORGES\n",
      "BONFIM\n",
      "JARDIM CAMBURI\n",
      "MARIA ORTIZ\n",
      "JABOUR\n",
      "ANTÔNIO HONÓRIO\n",
      "RESISTÊNCIA\n",
      "ILHA DE SANTA MARIA\n",
      "JUCUTUQUARA\n",
      "MONTE BELO\n",
      "MÁRIO CYPRESTE\n",
      "SANTO ANTÔNIO\n",
      "BELA VISTA\n",
      "PRAIA DO SUÁ\n",
      "SANTA HELENA\n",
      "ITARARÉ\n",
      "INHANGUETÁ\n",
      "UNIVERSITÁRIO\n",
      "SÃO JOSÉ\n",
      "REDENÇÃO\n",
      "SANTA CLARA\n",
      "CENTRO\n",
      "PARQUE MOSCOSO\n",
      "DO MOSCOSO\n",
      "SANTOS DUMONT\n",
      "CARATOÍRA\n",
      "ARIOVALDO FAVALESSA\n",
      "ILHA DO FRADE\n",
      "GURIGICA\n",
      "JOANA D´ARC\n",
      "CONSOLAÇÃO\n",
      "PRAIA DO CANTO\n",
      "BOA VISTA\n",
      "MORADA DE CAMBURI\n",
      "SANTA LUÍZA\n",
      "SANTA LÚCIA\n",
      "BARRO VERMELHO\n",
      "ESTRELINHA\n",
      "FORTE SÃO JOÃO\n",
      "FONTE GRANDE\n",
      "ENSEADA DO SUÁ\n",
      "SANTOS REIS\n",
      "PIEDADE\n",
      "JESUS DE NAZARETH\n",
      "SANTA TEREZA\n",
      "CRUZAMENTO\n",
      "ILHA DO PRÍNCIPE\n",
      "ROMÃO\n",
      "COMDUSA\n",
      "SANTA CECÍLIA\n",
      "VILA RUBIM\n",
      "DE LOURDES\n",
      "DO QUADRO\n",
      "DO CABRAL\n",
      "HORTO\n",
      "SEGURANÇA DO LAR\n",
      "ILHA DO BOI\n",
      "FRADINHOS\n",
      "NAZARETH\n",
      "AEROPORTO\n",
      "ILHAS OCEÂNICAS DE TRINDADE\n",
      "PARQUE INDUSTRIAL\n"
     ]
    }
   ],
   "source": [
    "# Due to special caracters, the standard export does not work well. A print commant solve this issue.\n",
    "for i in noshowapp_df['Neighbourhood'].unique():\n",
    "    print(i)"
   ]
  },
  {
   "cell_type": "markdown",
   "metadata": {},
   "source": [
    "All seems to be OK. We can notice a Santa Lucia and Santa Luzia. After a check, those two areas exist and are different in Brazil. \n",
    "\n",
    "No corrections are needed here. "
   ]
  },
  {
   "cell_type": "markdown",
   "metadata": {},
   "source": [
    "##### Scholarship"
   ]
  },
  {
   "cell_type": "markdown",
   "metadata": {},
   "source": [
    "The column scholarship indicate if the person is enrolled in Brasilian welfare program Bolsa Família. The value should be 0 or 1."
   ]
  },
  {
   "cell_type": "code",
   "execution_count": 33,
   "metadata": {
    "collapsed": false
   },
   "outputs": [
    {
     "data": {
      "text/plain": [
       "array([0, 1], dtype=int64)"
      ]
     },
     "execution_count": 33,
     "metadata": {},
     "output_type": "execute_result"
    }
   ],
   "source": [
    "noshowapp_df['Scholarship'].unique()"
   ]
  },
  {
   "cell_type": "markdown",
   "metadata": {},
   "source": [
    "Only 0 and 1 are present.\n",
    "\n",
    "No corrections are needed here."
   ]
  },
  {
   "cell_type": "markdown",
   "metadata": {},
   "source": [
    "##### Hypertension, Diabetes, Alcoholism and Handicap"
   ]
  },
  {
   "cell_type": "markdown",
   "metadata": {},
   "source": [
    "Those columns indicates some information about some pathologies of the patient.\n",
    "The column sms reveceived indicates if some messages were sent to the patient or not. It is also a binary information.\n",
    "\n",
    "All columns are independent and should be filled by 0 or 1."
   ]
  },
  {
   "cell_type": "code",
   "execution_count": 34,
   "metadata": {
    "collapsed": false
   },
   "outputs": [
    {
     "name": "stdout",
     "output_type": "stream",
     "text": [
      "Column Hypertension OK\n",
      "Column Diabetes OK\n",
      "Column Alcoholism OK\n",
      "Column Handicap OK\n",
      "Column SMS_received OK\n"
     ]
    }
   ],
   "source": [
    "# Instead of check the unique values. Let try something different.\n",
    "\n",
    "ColumnsToCheck = ['Hypertension', 'Diabetes', 'Alcoholism', 'Handicap', 'SMS_received']\n",
    "valueToCheck = [0,1]\n",
    "\n",
    "def checkValue(entrie):\n",
    "    if entrie not in valueToCheck:\n",
    "        return -1\n",
    "    return 0\n",
    "\n",
    "def checkValueInColumn(col):\n",
    "    result = noshowapp_df[col].apply(checkValue)\n",
    "    if  -1 in result:\n",
    "        print(\"Error found in column %s (value out of boundary). Please check it.\"%(col))\n",
    "    else:\n",
    "        print(\"Column %s OK\"%(col))\n",
    "\n",
    "for col in ColumnsToCheck:\n",
    "    checkValueInColumn(col)"
   ]
  },
  {
   "cell_type": "markdown",
   "metadata": {},
   "source": [
    "All columns contain only 0 or 1. \n",
    "\n",
    "No correction are needed here."
   ]
  },
  {
   "cell_type": "markdown",
   "metadata": {},
   "source": [
    "##### No-show"
   ]
  },
  {
   "cell_type": "markdown",
   "metadata": {},
   "source": [
    "The column No-show indicate if a patient was present for his/her appointment or not.\n",
    "Instead of 0 and 1 the value here are:\n",
    "- yes: if the patient was not present\n",
    "- no: if the patient was present"
   ]
  },
  {
   "cell_type": "code",
   "execution_count": 35,
   "metadata": {
    "collapsed": false
   },
   "outputs": [
    {
     "name": "stdout",
     "output_type": "stream",
     "text": [
      "Column No-show OK\n"
     ]
    }
   ],
   "source": [
    "# We can reuse the function checkValueInColumn to check this one\n",
    "valueToCheck = ['Yes', 'No']\n",
    "\n",
    "checkValueInColumn('No-show')"
   ]
  },
  {
   "cell_type": "markdown",
   "metadata": {},
   "source": [
    "The column No-show seems to be clean.\n",
    "\n",
    "No corrections are needed."
   ]
  },
  {
   "cell_type": "markdown",
   "metadata": {},
   "source": [
    "### Conclusion of the data cleaning"
   ]
  },
  {
   "cell_type": "markdown",
   "metadata": {},
   "source": [
    "The overall dataset is relatively clean. No big corrections were done on it. \n",
    "\n",
    "Here are the first 5 entries of the cleaned dataset."
   ]
  },
  {
   "cell_type": "code",
   "execution_count": 36,
   "metadata": {
    "collapsed": false
   },
   "outputs": [
    {
     "data": {
      "text/html": [
       "<div>\n",
       "<table border=\"1\" class=\"dataframe\">\n",
       "  <thead>\n",
       "    <tr style=\"text-align: right;\">\n",
       "      <th></th>\n",
       "      <th>PatientId</th>\n",
       "      <th>AppointmentID</th>\n",
       "      <th>Gender</th>\n",
       "      <th>ScheduledDay</th>\n",
       "      <th>AppointmentDay</th>\n",
       "      <th>Age</th>\n",
       "      <th>Neighbourhood</th>\n",
       "      <th>Scholarship</th>\n",
       "      <th>Hypertension</th>\n",
       "      <th>Diabetes</th>\n",
       "      <th>Alcoholism</th>\n",
       "      <th>Handicap</th>\n",
       "      <th>SMS_received</th>\n",
       "      <th>No-show</th>\n",
       "    </tr>\n",
       "  </thead>\n",
       "  <tbody>\n",
       "    <tr>\n",
       "      <th>0</th>\n",
       "      <td>2.987250e+13</td>\n",
       "      <td>5642903</td>\n",
       "      <td>F</td>\n",
       "      <td>2016-04-29 18:38:08</td>\n",
       "      <td>2016-04-29</td>\n",
       "      <td>62</td>\n",
       "      <td>JARDIM DA PENHA</td>\n",
       "      <td>0</td>\n",
       "      <td>1</td>\n",
       "      <td>0</td>\n",
       "      <td>0</td>\n",
       "      <td>0</td>\n",
       "      <td>0</td>\n",
       "      <td>No</td>\n",
       "    </tr>\n",
       "    <tr>\n",
       "      <th>1</th>\n",
       "      <td>5.589978e+14</td>\n",
       "      <td>5642503</td>\n",
       "      <td>M</td>\n",
       "      <td>2016-04-29 16:08:27</td>\n",
       "      <td>2016-04-29</td>\n",
       "      <td>56</td>\n",
       "      <td>JARDIM DA PENHA</td>\n",
       "      <td>0</td>\n",
       "      <td>0</td>\n",
       "      <td>0</td>\n",
       "      <td>0</td>\n",
       "      <td>0</td>\n",
       "      <td>0</td>\n",
       "      <td>No</td>\n",
       "    </tr>\n",
       "    <tr>\n",
       "      <th>2</th>\n",
       "      <td>4.262962e+12</td>\n",
       "      <td>5642549</td>\n",
       "      <td>F</td>\n",
       "      <td>2016-04-29 16:19:04</td>\n",
       "      <td>2016-04-29</td>\n",
       "      <td>62</td>\n",
       "      <td>MATA DA PRAIA</td>\n",
       "      <td>0</td>\n",
       "      <td>0</td>\n",
       "      <td>0</td>\n",
       "      <td>0</td>\n",
       "      <td>0</td>\n",
       "      <td>0</td>\n",
       "      <td>No</td>\n",
       "    </tr>\n",
       "    <tr>\n",
       "      <th>3</th>\n",
       "      <td>8.679512e+11</td>\n",
       "      <td>5642828</td>\n",
       "      <td>F</td>\n",
       "      <td>2016-04-29 17:29:31</td>\n",
       "      <td>2016-04-29</td>\n",
       "      <td>8</td>\n",
       "      <td>PONTAL DE CAMBURI</td>\n",
       "      <td>0</td>\n",
       "      <td>0</td>\n",
       "      <td>0</td>\n",
       "      <td>0</td>\n",
       "      <td>0</td>\n",
       "      <td>0</td>\n",
       "      <td>No</td>\n",
       "    </tr>\n",
       "    <tr>\n",
       "      <th>4</th>\n",
       "      <td>8.841186e+12</td>\n",
       "      <td>5642494</td>\n",
       "      <td>F</td>\n",
       "      <td>2016-04-29 16:07:23</td>\n",
       "      <td>2016-04-29</td>\n",
       "      <td>56</td>\n",
       "      <td>JARDIM DA PENHA</td>\n",
       "      <td>0</td>\n",
       "      <td>1</td>\n",
       "      <td>1</td>\n",
       "      <td>0</td>\n",
       "      <td>0</td>\n",
       "      <td>0</td>\n",
       "      <td>No</td>\n",
       "    </tr>\n",
       "  </tbody>\n",
       "</table>\n",
       "</div>"
      ],
      "text/plain": [
       "      PatientId  AppointmentID Gender        ScheduledDay AppointmentDay  Age  \\\n",
       "0  2.987250e+13        5642903      F 2016-04-29 18:38:08     2016-04-29   62   \n",
       "1  5.589978e+14        5642503      M 2016-04-29 16:08:27     2016-04-29   56   \n",
       "2  4.262962e+12        5642549      F 2016-04-29 16:19:04     2016-04-29   62   \n",
       "3  8.679512e+11        5642828      F 2016-04-29 17:29:31     2016-04-29    8   \n",
       "4  8.841186e+12        5642494      F 2016-04-29 16:07:23     2016-04-29   56   \n",
       "\n",
       "       Neighbourhood  Scholarship  Hypertension  Diabetes  Alcoholism  \\\n",
       "0    JARDIM DA PENHA            0             1         0           0   \n",
       "1    JARDIM DA PENHA            0             0         0           0   \n",
       "2      MATA DA PRAIA            0             0         0           0   \n",
       "3  PONTAL DE CAMBURI            0             0         0           0   \n",
       "4    JARDIM DA PENHA            0             1         1           0   \n",
       "\n",
       "   Handicap  SMS_received No-show  \n",
       "0         0             0      No  \n",
       "1         0             0      No  \n",
       "2         0             0      No  \n",
       "3         0             0      No  \n",
       "4         0             0      No  "
      ]
     },
     "execution_count": 36,
     "metadata": {},
     "output_type": "execute_result"
    }
   ],
   "source": [
    "noshowapp_df.head()"
   ]
  },
  {
   "cell_type": "markdown",
   "metadata": {},
   "source": [
    "<a id='eda'></a>\n",
    "## Exploratory Data Analysis\n",
    "\n",
    "### Research Question 1 (Which factors are correlated to the no show of the patient?)"
   ]
  },
  {
   "cell_type": "markdown",
   "metadata": {},
   "source": [
    "First have a look on the No-show column."
   ]
  },
  {
   "cell_type": "code",
   "execution_count": 37,
   "metadata": {
    "ExecuteTime": {
     "end_time": "2018-06-03T18:51:28.453112Z",
     "start_time": "2018-06-03T18:51:28.410939Z"
    },
    "collapsed": false
   },
   "outputs": [
    {
     "data": {
      "text/plain": [
       "20.193255946510806"
      ]
     },
     "execution_count": 37,
     "metadata": {},
     "output_type": "execute_result"
    }
   ],
   "source": [
    "noshowapp_df[noshowapp_df['No-show'] == 'Yes']['No-show'].count() / float(noshowapp_df['No-show'].count()) * 100"
   ]
  },
  {
   "cell_type": "markdown",
   "metadata": {},
   "source": [
    "There is a little bit more than 20% of the appointment were the patient did not come. That is a lot.\n",
    "\n",
    "#### Do the gender has a role in the no-show?"
   ]
  },
  {
   "cell_type": "code",
   "execution_count": 38,
   "metadata": {
    "collapsed": false
   },
   "outputs": [],
   "source": [
    "gender_no_show = noshowapp_df.groupby(['Gender', 'No-show'])['AppointmentID'].count()"
   ]
  },
  {
   "cell_type": "code",
   "execution_count": 39,
   "metadata": {
    "collapsed": false
   },
   "outputs": [
    {
     "data": {
      "text/plain": [
       "<matplotlib.text.Text at 0xdef4c18>"
      ]
     },
     "execution_count": 39,
     "metadata": {},
     "output_type": "execute_result"
    },
    {
     "data": {
      "image/png": "[encoded data removed]",
      "text/plain": [
       "<matplotlib.figure.Figure at 0x10544b38>"
      ]
     },
     "metadata": {},
     "output_type": "display_data"
    }
   ],
   "source": [
    "plt.rcParams['figure.figsize'] = 8, 5\n",
    "gender_no_show.plot.bar()\n",
    "plt.title(\"Show and no show per gender\")\n",
    "plt.xlabel(\"Gender/show-no show\")\n",
    "plt.ylabel(\"Amount of Appointements\")"
   ]
  },
  {
   "cell_type": "markdown",
   "metadata": {},
   "source": [
    "More women have an appointment. The proportion seems to be similar.\n",
    "We should have a look in detail by normalize the values:"
   ]
  },
  {
   "cell_type": "code",
   "execution_count": 40,
   "metadata": {
    "collapsed": false
   },
   "outputs": [
    {
     "data": {
      "text/plain": [
       "Gender  No-show\n",
       "F       No         79\n",
       "        Yes        20\n",
       "M       No         80\n",
       "        Yes        19\n",
       "Name: AppointmentID, dtype: int64"
      ]
     },
     "execution_count": 40,
     "metadata": {},
     "output_type": "execute_result"
    }
   ],
   "source": [
    "for i in gender_no_show.index.levels[0]:\n",
    "    gender_no_show[i] = gender_no_show[i]/gender_no_show[i].sum()*100\n",
    "    \n",
    "gender_no_show"
   ]
  },
  {
   "cell_type": "markdown",
   "metadata": {},
   "source": [
    "The proportion is quite similar. 80% patient came 20% did not, indepently of the gender."
   ]
  },
  {
   "cell_type": "markdown",
   "metadata": {},
   "source": [
    "#### Is the Age a factor?"
   ]
  },
  {
   "cell_type": "code",
   "execution_count": 41,
   "metadata": {
    "collapsed": false
   },
   "outputs": [],
   "source": [
    "age_no_show = noshowapp_df[noshowapp_df['No-show'] == 'Yes'].groupby('Age')['AppointmentID'].count() / noshowapp_df.groupby('Age')['AppointmentID'].count()\n",
    "age_no_show = age_no_show.fillna(0)"
   ]
  },
  {
   "cell_type": "code",
   "execution_count": 42,
   "metadata": {
    "collapsed": false
   },
   "outputs": [
    {
     "data": {
      "text/plain": [
       "<matplotlib.text.Text at 0x1106ff28>"
      ]
     },
     "execution_count": 42,
     "metadata": {},
     "output_type": "execute_result"
    },
    {
     "data": {
      "image/png": "[encoded data removed]",
      "text/plain": [
       "<matplotlib.figure.Figure at 0x10475438>"
      ]
     },
     "metadata": {},
     "output_type": "display_data"
    }
   ],
   "source": [
    "plt.rcParams['figure.figsize'] = 8, 5\n",
    "age_no_show.plot()\n",
    "plt.title(\"Proportion of no show per age\")\n",
    "plt.xlabel(\"Age\")\n",
    "plt.ylabel(\"Proportion of no show\")"
   ]
  },
  {
   "cell_type": "markdown",
   "metadata": {},
   "source": [
    "Young people have tendency to less come than the older ones. Here it is not strongly correlatated.\n",
    "\n",
    "For people older than 80 the curve show no strog variation. This is due to the few entries for the population.\n",
    "\n",
    "The last record is a 115 years old patient who miss several appointment. It concerns only one entry. It is  not really relevant. (Please refer to the chapter of the check of the <a href=\"#age\">Age</a>)."
   ]
  },
  {
   "cell_type": "markdown",
   "metadata": {},
   "source": [
    "#### Are there some patients with a lot of missed appointment?"
   ]
  },
  {
   "cell_type": "code",
   "execution_count": 43,
   "metadata": {
    "collapsed": true
   },
   "outputs": [],
   "source": [
    "totalNo_show = noshowapp_df[noshowapp_df['No-show'] == 'Yes']['No-show'].count()"
   ]
  },
  {
   "cell_type": "code",
   "execution_count": 44,
   "metadata": {
    "collapsed": false
   },
   "outputs": [],
   "source": [
    "no_showPerPatient = noshowapp_df.groupby('PatientId')['No-show'].count().sort_values().values"
   ]
  },
  {
   "cell_type": "code",
   "execution_count": 45,
   "metadata": {
    "collapsed": false
   },
   "outputs": [
    {
     "data": {
      "text/plain": [
       "<matplotlib.text.Text at 0xe12e4a8>"
      ]
     },
     "execution_count": 45,
     "metadata": {},
     "output_type": "execute_result"
    },
    {
     "data": {
      "image/png": "[encoded data removed]",
      "text/plain": [
       "<matplotlib.figure.Figure at 0xe10abe0>"
      ]
     },
     "metadata": {},
     "output_type": "display_data"
    }
   ],
   "source": [
    "plt.rcParams['figure.figsize'] = 8, 5\n",
    "plt.hist(no_showPerPatient, bins=50)\n",
    "plt.title(\"Amount of missed appointement per patients\")\n",
    "plt.xlabel(\"Amount of missed appointment\")\n",
    "plt.ylabel(\"Amount of patients\")"
   ]
  },
  {
   "cell_type": "markdown",
   "metadata": {},
   "source": [
    "Most of patient miss one or two appointment. Only few of them miss more.\n",
    "The record is 88.\n",
    "\n",
    "There is no bias in the dataset for this parameter."
   ]
  },
  {
   "cell_type": "code",
   "execution_count": 46,
   "metadata": {
    "collapsed": false
   },
   "outputs": [
    {
     "data": {
      "text/plain": [
       "88"
      ]
     },
     "execution_count": 46,
     "metadata": {},
     "output_type": "execute_result"
    }
   ],
   "source": [
    "no_showPerPatient.max()"
   ]
  },
  {
   "cell_type": "markdown",
   "metadata": {},
   "source": [
    "### Conclusion of the analysis of the possible correlation with the no show of the patients"
   ]
  },
  {
   "cell_type": "markdown",
   "metadata": {},
   "source": [
    "The gender and the age are not correlated to the no show of the patients. Younger people tend to miss more appointements than the older ones.\n",
    "\n",
    "In the dataset, there is no little group of patients who can push the no show rate up due to a big amount of missed appointement."
   ]
  },
  {
   "cell_type": "markdown",
   "metadata": {},
   "source": [
    "### Research Question 2  (Is alcoholism dependent of the area?)"
   ]
  },
  {
   "cell_type": "markdown",
   "metadata": {},
   "source": [
    "What is the repartition of the neighbourhood in the dataset?"
   ]
  },
  {
   "cell_type": "code",
   "execution_count": 47,
   "metadata": {
    "ExecuteTime": {
     "end_time": "2018-06-03T18:51:28.475203Z",
     "start_time": "2018-06-03T18:51:28.454324Z"
    },
    "collapsed": false
   },
   "outputs": [
    {
     "data": {
      "text/plain": [
       "<matplotlib.text.Text at 0xe7a3f28>"
      ]
     },
     "execution_count": 47,
     "metadata": {},
     "output_type": "execute_result"
    },
    {
     "data": {
      "image/png": "[encoded data removed]",
      "text/plain": [
       "<matplotlib.figure.Figure at 0xe71a6d8>"
      ]
     },
     "metadata": {},
     "output_type": "display_data"
    }
   ],
   "source": [
    "plt.rcParams['figure.figsize'] = 15, 5\n",
    "noshowapp_df.groupby('Neighbourhood')['AppointmentID'].count().sort_values(ascending=False).plot.bar()\n",
    "plt.title(\"Mount of appointments per neighbourhood\")\n",
    "plt.ylabel(\"Amount of appointments\")"
   ]
  },
  {
   "cell_type": "markdown",
   "metadata": {},
   "source": [
    "As we can expect the repartition is not homogeneous. "
   ]
  },
  {
   "cell_type": "code",
   "execution_count": 48,
   "metadata": {
    "collapsed": false
   },
   "outputs": [],
   "source": [
    "pathologyPerNeighbourhood = noshowapp_df.groupby('Neighbourhood')['Hypertension', 'Diabetes', 'Alcoholism', 'Handicap'].sum()"
   ]
  },
  {
   "cell_type": "code",
   "execution_count": 49,
   "metadata": {
    "collapsed": false
   },
   "outputs": [],
   "source": [
    "# Make the sum of each lines\n",
    "pathologyPerNeighbourhood['Sum'] = pathologyPerNeighbourhood.sum(axis=1)"
   ]
  },
  {
   "cell_type": "code",
   "execution_count": 50,
   "metadata": {
    "collapsed": false,
    "scrolled": true
   },
   "outputs": [],
   "source": [
    "for col in ['Hypertension', 'Diabetes', 'Alcoholism', 'Handicap']:\n",
    "    pathologyPerNeighbourhood[col] = pathologyPerNeighbourhood[col] / pathologyPerNeighbourhood['Sum'] *100\n",
    "pathologyPerNeighbourhood.sort_values(by='Sum', ascending=False, inplace=True)"
   ]
  },
  {
   "cell_type": "markdown",
   "metadata": {},
   "source": [
    "We can make a graph of the different pathology sorted by order of amount of pathologies. This will class the representation per representativity (Neighbourghood with more samples first)."
   ]
  },
  {
   "cell_type": "code",
   "execution_count": 51,
   "metadata": {
    "collapsed": false
   },
   "outputs": [
    {
     "data": {
      "text/plain": [
       "<matplotlib.text.Text at 0xedefe80>"
      ]
     },
     "execution_count": 51,
     "metadata": {},
     "output_type": "execute_result"
    },
    {
     "data": {
      "image/png": "[encoded data removed]",
      "text/plain": [
       "<matplotlib.figure.Figure at 0x11a8b6d8>"
      ]
     },
     "metadata": {},
     "output_type": "display_data"
    }
   ],
   "source": [
    "pathologyPerNeighbourhood.drop('Sum', axis=1, inplace=True)\n",
    "plt.rcParams['figure.figsize'] = 20, 5\n",
    "pathologyPerNeighbourhood.plot.bar(stacked=True)\n",
    "plt.title(\"Proportion of pathologies per Neighbourhood\")\n",
    "plt.ylabel(\"Percentage of pathologies\")"
   ]
  },
  {
   "cell_type": "markdown",
   "metadata": {},
   "source": [
    "Hypertension is the first pathology in the dataset. Handicap is the less represented. It is strange because handicap covers more trouble than hypertension. This word has to be better defined.\n",
    "\n",
    "We see that Nazareth have a rate of 50% of alcoholism but the number of samples is very small and this result is not representative.\n",
    "\n",
    "For some other Neighbourhood the result is more representative. Santa Martha have a rate of alcoholism higher than the other areas. It is also the case for Bonfim, Nova Palestina or Romao.\n",
    "\n",
    "A deeper analysis is here needed "
   ]
  },
  {
   "cell_type": "markdown",
   "metadata": {},
   "source": [
    "### Conclusion of the alcoholism rate per neighbourhood"
   ]
  },
  {
   "cell_type": "markdown",
   "metadata": {},
   "source": [
    "We found here that the category \"Handicap\" should be better defined. We found also some area with more alcoholism than the other but a deeper analysis is here needed to find good candidate to launch an action for the prevention of alcoholism."
   ]
  },
  {
   "cell_type": "markdown",
   "metadata": {},
   "source": [
    "<a id='conclusions'></a>\n",
    "## Conclusions"
   ]
  },
  {
   "cell_type": "markdown",
   "metadata": {
    "collapsed": true
   },
   "source": [
    "The dataset is quite clean but limited in time (only one month of data). This exclude an seasonal analysis of the variation. Some wordings are also not clear. The category \"Handicap\" has to be better defined.\n",
    "\n",
    "The no show parameter was studied and compare to the age and the gender. No correlation was found here. Only a tendency of joung people to be less present. The dataset contains no bias for the no show parameter. No patient influences strongly the result of the anaylsis.\n",
    "\n",
    "Some place have more cases in Alcoholism than some other. Santa Marta, Bonfim, Nova Palestina and Romao for example. More anaylss are needed here to know the real diffence to the other. The data should be crossed with some economical data in order to find an adequate response to the problem. "
   ]
  }
 ],
 "metadata": {
  "kernelspec": {
   "display_name": "Python 2",
   "language": "python",
   "name": "python2"
  },
  "language_info": {
   "codemirror_mode": {
    "name": "ipython",
    "version": 2
   },
   "file_extension": ".py",
   "mimetype": "text/x-python",
   "name": "python",
   "nbconvert_exporter": "python",
   "pygments_lexer": "ipython2",
   "version": "2.7.13"
  },
  "toc": {
   "nav_menu": {},
   "number_sections": true,
   "sideBar": true,
   "skip_h1_title": false,
   "title_cell": "Table of Contents",
   "title_sidebar": "Contents",
   "toc_cell": false,
   "toc_position": {},
   "toc_section_display": true,
   "toc_window_display": false
  },
  "varInspector": {
   "cols": {
    "lenName": 16,
    "lenType": 16,
    "lenVar": 40
   },
   "kernels_config": {
    "python": {
     "delete_cmd_postfix": "",
     "delete_cmd_prefix": "del ",
     "library": "var_list.py",
     "varRefreshCmd": "print(var_dic_list())"
    },
    "r": {
     "delete_cmd_postfix": ") ",
     "delete_cmd_prefix": "rm(",
     "library": "var_list.r",
     "varRefreshCmd": "cat(var_dic_list()) "
    }
   },
   "types_to_exclude": [
    "module",
    "function",
    "builtin_function_or_method",
    "instance",
    "_Feature"
   ],
   "window_display": false
  }
 },
 "nbformat": 4,
 "nbformat_minor": 2
}
